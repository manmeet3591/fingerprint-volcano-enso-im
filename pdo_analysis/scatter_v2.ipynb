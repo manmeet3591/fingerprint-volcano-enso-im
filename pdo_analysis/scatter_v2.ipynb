{
 "cells": [
  {
   "cell_type": "code",
   "execution_count": 2,
   "metadata": {},
   "outputs": [],
   "source": [
    "from __future__ import print_function, division\n",
    "\n",
    "%matplotlib inline\n",
    "import matplotlib.pyplot as plt\n",
    "import numpy as np\n",
    "import pandas as pd\n",
    "import seaborn as sns\n",
    "sns.set()"
   ]
  },
  {
   "cell_type": "code",
   "execution_count": 3,
   "metadata": {},
   "outputs": [
    {
     "name": "stdout",
     "output_type": "stream",
     "text": [
      "(11976,)\n",
      "(11964,)\n",
      "(1001,)\n"
     ]
    }
   ],
   "source": [
    "plv_hist = np.genfromtxt ('plv_hist.csv', delimiter=\",\")\n",
    "plv_pi = np.genfromtxt ('plv_pi.csv', delimiter=\",\")\n",
    "volc_sigl = -1*np.genfromtxt ('sigl.txt', delimiter=\",\")\n",
    "print(plv_hist.shape)\n",
    "print(plv_pi.shape)\n",
    "print(volc_sigl.shape)"
   ]
  },
  {
   "cell_type": "code",
   "execution_count": 4,
   "metadata": {},
   "outputs": [],
   "source": [
    "#data = pd.DataFrame(data, columns=['x', 'y'])\n",
    "plv = np.zeros((plv_pi.shape[0], 2))\n",
    "plv[:,0] = plv_pi[:]\n",
    "plv[:,1] = plv_hist[0:11964]\n",
    "#print(plv.shape)\n",
    "plv_data = pd.DataFrame(plv, columns=['plv_pi', 'plv_hist'])\n",
    "xy_line = (0, 1)\n",
    "thres = 0.8\n",
    "volc_thres = 3.7"
   ]
  },
  {
   "cell_type": "code",
   "execution_count": 28,
   "metadata": {},
   "outputs": [
    {
     "name": "stdout",
     "output_type": "stream",
     "text": [
      "678.0\n"
     ]
    }
   ],
   "source": [
    "thres = 0.75\n",
    "plv_pi_701_800 = plv[8400:9600,0]\n",
    "plv_hist_701_800 = plv[8400:9600,1]\n",
    "volc_701_800 = volc_sigl[700:800]\n",
    "\n",
    "#volc_701_800[volc_701_800<3.7]=0.0\n",
    "#volc_701_800[volc_701_800>3.7] = 1.0\n",
    "plv_pi_701_800_log = np.zeros((1200))\n",
    "plv_hist_701_800_log = np.zeros((1200))\n",
    "\n",
    "plv_pi_701_800_log[plv_pi_701_800<thres] = 0\n",
    "plv_hist_701_800_log[plv_hist_701_800<thres] = 0\n",
    "\n",
    "plv_pi_701_800_log[plv_pi_701_800>thres] = 1\n",
    "plv_hist_701_800_log[plv_hist_701_800>thres] = 1\n",
    "\n",
    "\n",
    "#print(np.sum(plv_pi_701_800_log))\n",
    "print(np.sum(plv_hist_701_800_log))\n",
    "#print(np.sum(volc_701_800))\n",
    "#1550-1650"
   ]
  },
  {
   "cell_type": "code",
   "execution_count": 29,
   "metadata": {},
   "outputs": [
    {
     "name": "stdout",
     "output_type": "stream",
     "text": [
      "686.0\n"
     ]
    }
   ],
   "source": [
    "thres = 0.75\n",
    "plv_pi_801_900 = plv[9600:10800,0]\n",
    "plv_hist_801_900 = plv[9600:10800,1]\n",
    "volc_801_900 = volc_sigl[800:900]\n",
    "\n",
    "plv_pi_801_900_log = np.zeros((1200))\n",
    "plv_hist_801_900_log = np.zeros((1200))\n",
    "#volc_801_900[volc_801_900<3.7]=0.0\n",
    "#volc_801_900[volc_801_900>3.7] = 1.0\n",
    "\n",
    "plv_pi_801_900_log[plv_pi_801_900<thres] = 0\n",
    "plv_hist_801_900_log[plv_hist_801_900<thres] = 0\n",
    "\n",
    "plv_pi_801_900_log[plv_pi_801_900>thres] = 1\n",
    "plv_hist_801_900_log[plv_hist_801_900>thres] = 1\n",
    "\n",
    "\n",
    "#print(np.sum(plv_pi_801_900_log))\n",
    "print(np.sum(plv_hist_801_900_log))\n",
    "#print(np.sum(volc_801_900))\n",
    "#1650-1750"
   ]
  },
  {
   "cell_type": "code",
   "execution_count": 40,
   "metadata": {},
   "outputs": [
    {
     "name": "stdout",
     "output_type": "stream",
     "text": [
      "574.7447\n"
     ]
    }
   ],
   "source": [
    "# 100 year PI control not considering first 100 years\n",
    "import random\n",
    "Nsample = plv[1200:,1].shape[0]\n",
    "N=10000\n",
    "thres = 0.8\n",
    "dummy_log = np.zeros((1200))\n",
    "dummy_log_sum = 0\n",
    "plv_pi_monte_carlo = np.zeros((Nsample))\n",
    "plv_pi_monte_carlo[0:Nsample] = plv[1200:,1]\n",
    "for niter in range(N):\n",
    "    dummy = plv_pi_monte_carlo[random.sample(range(0, 8399), 1200)]\n",
    "    dummy_log[dummy<thres] = 0\n",
    "    dummy_log[dummy>thres] = 1\n",
    "    dummy_log_sum = dummy_log_sum + np.sum(dummy_log)\n",
    "print(dummy_log_sum/N)"
   ]
  },
  {
   "cell_type": "code",
   "execution_count": 32,
   "metadata": {},
   "outputs": [
    {
     "name": "stdout",
     "output_type": "stream",
     "text": [
      "295.0\n"
     ]
    }
   ],
   "source": [
    "thres = 0.75\n",
    "plv_pi_751_800 = plv[9000:9600,0]\n",
    "plv_hist_751_800 = plv[9000:9600,1]\n",
    "volc_751_800 = volc_sigl[700:800]\n",
    "\n",
    "#volc_701_800[volc_701_800<3.7]=0.0\n",
    "#volc_701_800[volc_701_800>3.7] = 1.0\n",
    "plv_pi_751_800_log = np.zeros((600))\n",
    "plv_hist_751_800_log = np.zeros((600))\n",
    "\n",
    "plv_pi_751_800_log[plv_pi_751_800<thres] = 0\n",
    "plv_hist_751_800_log[plv_hist_751_800<thres] = 0\n",
    "\n",
    "plv_pi_751_800_log[plv_pi_751_800>thres] = 1\n",
    "plv_hist_751_800_log[plv_hist_751_800>thres] = 1\n",
    "\n",
    "\n",
    "#print(np.sum(plv_pi_701_800_log))\n",
    "print(np.sum(plv_hist_751_800_log))\n",
    "#print(np.sum(volc_701_800))\n",
    "#1600-1650"
   ]
  },
  {
   "cell_type": "code",
   "execution_count": 44,
   "metadata": {},
   "outputs": [
    {
     "name": "stdout",
     "output_type": "stream",
     "text": [
      "287.4677\n"
     ]
    }
   ],
   "source": [
    "# 50 year PI control \n",
    "import random\n",
    "Nsample = 9600\n",
    "N=10000\n",
    "thres = 0.8\n",
    "dummy_log = np.zeros((600))\n",
    "dummy_log_sum = 0\n",
    "plv_pi_monte_carlo = np.zeros((Nsample))\n",
    "plv_pi_monte_carlo[0:Nsample] = plv[1200:1200+Nsample,1]\n",
    "for niter in range(N):\n",
    "    dummy = plv_pi_monte_carlo[random.sample(range(0, 8399), 600)]\n",
    "    dummy_log[dummy<thres] = 0\n",
    "    dummy_log[dummy>thres] = 1\n",
    "    dummy_log_sum = dummy_log_sum + np.sum(dummy_log)\n",
    "print(dummy_log_sum/N)"
   ]
  },
  {
   "cell_type": "code",
   "execution_count": 43,
   "metadata": {},
   "outputs": [
    {
     "name": "stdout",
     "output_type": "stream",
     "text": [
      "143.6697\n"
     ]
    }
   ],
   "source": [
    "# 25 year PI control \n",
    "import random\n",
    "Nsample = 9600\n",
    "N=10000\n",
    "thres = 0.8\n",
    "dummy_log = np.zeros((300))\n",
    "dummy_log_sum = 0\n",
    "plv_pi_monte_carlo = np.zeros((Nsample))\n",
    "plv_pi_monte_carlo[0:Nsample] = plv[1200:1200+Nsample,]\n",
    "for niter in range(N):\n",
    "    dummy = plv_pi_monte_carlo[random.sample(range(0, 8399), 300)]\n",
    "    dummy_log[dummy<thres] = 0\n",
    "    dummy_log[dummy>thres] = 1\n",
    "    dummy_log_sum = dummy_log_sum + np.sum(dummy_log)\n",
    "print(dummy_log_sum/N)"
   ]
  },
  {
   "cell_type": "code",
   "execution_count": 75,
   "metadata": {},
   "outputs": [
    {
     "name": "stdout",
     "output_type": "stream",
     "text": [
      "443.7719\n"
     ]
    }
   ],
   "source": [
    "# 200 year PI control not considering first 200 years\n",
    "import random\n",
    "Nsample = plv[1200:,1].shape[0]\n",
    "N=10000\n",
    "thres = 0.95\n",
    "dummy_log = np.zeros((2400))\n",
    "dummy_log_sum = 0\n",
    "plv_pi_monte_carlo = np.zeros((Nsample))\n",
    "plv_pi_monte_carlo[0:Nsample] = plv[1200:,0]\n",
    "for niter in range(N):\n",
    "    dummy = plv_pi_monte_carlo[random.sample(range(0, 8399), 2400)]\n",
    "    dummy_log[dummy<thres] = 0\n",
    "    dummy_log[dummy>thres] = 1\n",
    "    dummy_log_sum = dummy_log_sum + np.sum(dummy_log)\n",
    "print(dummy_log_sum/N)"
   ]
  },
  {
   "cell_type": "code",
   "execution_count": 74,
   "metadata": {},
   "outputs": [
    {
     "name": "stdout",
     "output_type": "stream",
     "text": [
      "489.0\n"
     ]
    }
   ],
   "source": [
    "thres = 0.95\n",
    "plv_hist_701_900 = plv[8400:10800,1]\n",
    "plv_hist_701_900_log = np.zeros((2400))\n",
    "\n",
    "plv_hist_701_900_log[plv_hist_701_900<thres] = 0\n",
    "plv_hist_701_900_log[plv_hist_701_900>thres] = 1\n",
    "\n",
    "print(np.sum(plv_hist_701_900_log))\n",
    "\n",
    "#1550-1750 200y historical"
   ]
  },
  {
   "cell_type": "code",
   "execution_count": 49,
   "metadata": {},
   "outputs": [
    {
     "name": "stdout",
     "output_type": "stream",
     "text": [
      "615.8324\n"
     ]
    }
   ],
   "source": [
    "thres = 0.8\n",
    "N = 10000\n",
    "plv_pi_701_900 = plv[8400:10800,0]\n",
    "plv_hist_701_900 = plv[8400:10800,1]\n",
    "volc_701_900 = volc_sigl[800:900]\n",
    "Nsample = plv_pi_701_900.shape[0]\n",
    "\n",
    "#plv_pi_701_900_log = np.zeros((2400))\n",
    "#plv_hist_701_900_log = np.zeros((2400))\n",
    "#volc_801_900[volc_801_900<3.7]=0.0\n",
    "#volc_801_900[volc_801_900>3.7] = 1.0\n",
    "\n",
    "\n",
    "dummy_log = np.zeros((1200))\n",
    "dummy_log_sum = 0\n",
    "plv_pi_monte_carlo = np.zeros((Nsample))\n",
    "plv_pi_monte_carlo = plv_hist_701_900\n",
    "\n",
    "for niter in range(N):\n",
    "    dummy = plv_pi_monte_carlo[random.sample(range(0, 2399), 1200)]\n",
    "    dummy_log[dummy<thres] = 0\n",
    "    dummy_log[dummy>thres] = 1\n",
    "    dummy_log_sum = dummy_log_sum + np.sum(dummy_log)\n",
    "print(dummy_log_sum/N)\n",
    "\n",
    "#print(np.sum(plv_pi_801_900_log))\n",
    "#print(np.sum(plv_hist_701_900_log))\n",
    "#print(np.sum(volc_801_900))\n",
    "#1550-1750 100y historical"
   ]
  },
  {
   "cell_type": "code",
   "execution_count": 50,
   "metadata": {},
   "outputs": [
    {
     "name": "stdout",
     "output_type": "stream",
     "text": [
      "307.987\n"
     ]
    }
   ],
   "source": [
    "thres = 0.8\n",
    "N = 10000\n",
    "plv_pi_701_900 = plv[8400:10800,0]\n",
    "plv_hist_701_900 = plv[8400:10800,1]\n",
    "volc_701_900 = volc_sigl[800:900]\n",
    "Nsample = plv_pi_701_900.shape[0]\n",
    "\n",
    "#plv_pi_701_900_log = np.zeros((2400))\n",
    "#plv_hist_701_900_log = np.zeros((2400))\n",
    "#volc_801_900[volc_801_900<3.7]=0.0\n",
    "#volc_801_900[volc_801_900>3.7] = 1.0\n",
    "\n",
    "\n",
    "dummy_log = np.zeros((600))\n",
    "dummy_log_sum = 0\n",
    "plv_pi_monte_carlo = np.zeros((Nsample))\n",
    "plv_pi_monte_carlo = plv_hist_701_900\n",
    "\n",
    "for niter in range(N):\n",
    "    dummy = plv_pi_monte_carlo[random.sample(range(0, 2399), 600)]\n",
    "    dummy_log[dummy<thres] = 0\n",
    "    dummy_log[dummy>thres] = 1\n",
    "    dummy_log_sum = dummy_log_sum + np.sum(dummy_log)\n",
    "print(dummy_log_sum/N)\n",
    "\n",
    "#print(np.sum(plv_pi_801_900_log))\n",
    "#print(np.sum(plv_hist_701_900_log))\n",
    "#print(np.sum(volc_801_900))\n",
    "#1550-1750 50y historical"
   ]
  },
  {
   "cell_type": "code",
   "execution_count": 51,
   "metadata": {},
   "outputs": [
    {
     "name": "stdout",
     "output_type": "stream",
     "text": [
      "153.8747\n"
     ]
    }
   ],
   "source": [
    "thres = 0.8\n",
    "N = 10000\n",
    "plv_pi_701_900 = plv[8400:10800,0]\n",
    "plv_hist_701_900 = plv[8400:10800,1]\n",
    "volc_701_900 = volc_sigl[800:900]\n",
    "Nsample = plv_pi_701_900.shape[0]\n",
    "\n",
    "#plv_pi_701_900_log = np.zeros((2400))\n",
    "#plv_hist_701_900_log = np.zeros((2400))\n",
    "#volc_801_900[volc_801_900<3.7]=0.0\n",
    "#volc_801_900[volc_801_900>3.7] = 1.0\n",
    "\n",
    "\n",
    "dummy_log = np.zeros((300))\n",
    "dummy_log_sum = 0\n",
    "plv_pi_monte_carlo = np.zeros((Nsample))\n",
    "plv_pi_monte_carlo = plv_hist_701_900\n",
    "\n",
    "for niter in range(N):\n",
    "    dummy = plv_pi_monte_carlo[random.sample(range(0, 2399), 300)]\n",
    "    dummy_log[dummy<thres] = 0\n",
    "    dummy_log[dummy>thres] = 1\n",
    "    dummy_log_sum = dummy_log_sum + np.sum(dummy_log)\n",
    "print(dummy_log_sum/N)\n",
    "\n",
    "#print(np.sum(plv_pi_801_900_log))\n",
    "#print(np.sum(plv_hist_701_900_log))\n",
    "#print(np.sum(volc_801_900))\n",
    "#1550-1750 25y historical"
   ]
  },
  {
   "cell_type": "code",
   "execution_count": null,
   "metadata": {},
   "outputs": [],
   "source": []
  }
 ],
 "metadata": {
  "kernelspec": {
   "display_name": "Python 3",
   "language": "python",
   "name": "python3"
  },
  "language_info": {
   "codemirror_mode": {
    "name": "ipython",
    "version": 3
   },
   "file_extension": ".py",
   "mimetype": "text/x-python",
   "name": "python",
   "nbconvert_exporter": "python",
   "pygments_lexer": "ipython3",
   "version": "3.5.5"
  }
 },
 "nbformat": 4,
 "nbformat_minor": 2
}
