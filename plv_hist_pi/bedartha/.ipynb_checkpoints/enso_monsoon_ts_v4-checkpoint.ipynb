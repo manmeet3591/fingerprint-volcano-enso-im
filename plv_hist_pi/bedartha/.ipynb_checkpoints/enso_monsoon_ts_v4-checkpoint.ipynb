{
 "cells": [
  {
   "cell_type": "code",
   "execution_count": 1,
   "metadata": {},
   "outputs": [],
   "source": [
    "from __future__ import print_function, division\n",
    "\n",
    "%matplotlib inline\n",
    "import matplotlib.pyplot as plt\n",
    "import numpy as np\n",
    "import pandas as pd\n",
    "import seaborn as sns\n",
    "import datetime as dt\n",
    "import warnings\n",
    "warnings.filterwarnings(\"ignore\")\n",
    "sns.set()"
   ]
  },
  {
   "cell_type": "code",
   "execution_count": 2,
   "metadata": {},
   "outputs": [
    {
     "name": "stdout",
     "output_type": "stream",
     "text": [
      "(12012,)\n",
      "(12000,)\n"
     ]
    }
   ],
   "source": [
    "nino3_hist = np.genfromtxt('tas_Amon_IPSL-CM5A-LR_past1000_r1i1p1_0850_1850_1_nino3_tseries.csv', delimiter=\",\")\n",
    "ismr_hist = np.genfromtxt('psl_Amon_IPSL-CM5A-LR_past1000_r1i1p1_0850_1850_1_india_goswami_2002_tseries.csv', delimiter=\",\")\n",
    "nino3_pi = np.genfromtxt('tas_Amon_IPSL-CM5A-LR_piControl_r1i1p1_180001-279912_1_nino3_tseries.csv', delimiter=\",\")\n",
    "ismr_pi = np.genfromtxt('psl_cfMon_IPSL-CM5A-LR_piControl_r1i1p1_180001-279912_1_india_goswami_2002_tseries.csv', delimiter=\",\")\n",
    "\n",
    "vrf_1 = np.genfromtxt ('sigl.txt', delimiter=\",\")\n",
    "vrf = vrf_1[0:1000]\n",
    "\n",
    "print(nino3_hist.shape)\n",
    "print(nino3_pi.shape)"
   ]
  },
  {
   "cell_type": "code",
   "execution_count": 3,
   "metadata": {},
   "outputs": [],
   "source": [
    "def common_time_axis(dismr, verbose=True):\n",
    "    \"\"\"\n",
    "    Generates common time axis for Nino3 and ISMR time series.\n",
    "    \"\"\"\n",
    "    # generate the time axis\n",
    "    Nt = len(dismr)\n",
    "    time = [dt.datetime(850, 1, 15)]\n",
    "    for i in range(1, len(dismr)):\n",
    "        y = time[i - 1].year\n",
    "        m = time[i - 1].month\n",
    "        if m == 12:\n",
    "            y += 1\n",
    "            m = 0\n",
    "        time.append(dt.datetime(y, m + 1, 15))\n",
    "    time = np.array(time)\n",
    "\n",
    "    return time\n",
    "def yearly_time_axis(dvolc, verbose=True):\n",
    "    \"\"\"\n",
    "    Generates time axis for yearly data \n",
    "    \"\"\"\n",
    "    Nt = len(dvolc)\n",
    "    time = [dt.datetime(850, 1, 15)]\n",
    "    for i in range(1, len(dvolc)):\n",
    "        y = time[i - 1].year\n",
    "        y += 1\n",
    "        time.append(dt.datetime(y, 1, 15))\n",
    "    time = np.array(time)\n",
    "\n",
    "    return time\n",
    "def moving_average_anomaly(dismr,n=360):\n",
    "    \"\"\"\n",
    "    Generates moving average anomaly of long time series\n",
    "    \"\"\"\n",
    "    #print(dismr.shape)\n",
    "    dismr_anom = np.zeros((dismr.shape[0]))\n",
    "    dismr_std = np.zeros((dismr.shape[0]))\n",
    "    dismr_anom[0:n/2] = ( dismr[0:n/2] - np.mean(dismr[0:n]) )/np.std(dismr[0:n])\n",
    "    dismr_anom[dismr.shape[0]-n/2:] = ( dismr[dismr.shape[0]-n/2:] - np.mean(dismr[dismr.shape[0]-n:]) )/np.std(dismr[dismr.shape[0]-n:])\n",
    "    #print(dismr_anom)\n",
    "    dismr_std[0:n/2] = np.std(dismr[0:n])\n",
    "    dismr_std[dismr.shape[0]-n/2:] = np.std(dismr[dismr.shape[0]-n:])\n",
    "    \n",
    "    for i in range(np.int(n/2),np.int(dismr.shape[0]-n/2)):\n",
    "        dismr_anom[i] = (dismr[i] - np.mean(dismr[i-n/2:i+n/2]))/np.std(dismr[i-n/2:i+n/2])\n",
    "        dismr_std[i] = np.std(dismr[i-n/2:i+n/2])\n",
    "    return dismr_anom, dismr_std"
   ]
  },
  {
   "cell_type": "code",
   "execution_count": 5,
   "metadata": {},
   "outputs": [
    {
     "name": "stdout",
     "output_type": "stream",
     "text": [
      "[ 0.  0.  0. ...,  0.  0.  0.]\n",
      "(1392,)\n"
     ]
    }
   ],
   "source": [
    "mon_time = common_time_axis(ismr_pi)\n",
    "year_time = yearly_time_axis(vrf[0:1000])\n",
    "#print(mon_time)\n",
    "#print(year_time)\n",
    "#print(np.mean(ismr))\n",
    "ismr_hist_anom_1, ismr_hist_std = moving_average_anomaly(ismr_hist)\n",
    "nino3_hist_anom_1, nino3__hist_std = np.asarray(moving_average_anomaly(nino3_hist))\n",
    "\n",
    "ismr_hist_anom = ismr_hist_anom_1[0:12000] \n",
    "nino3_hist_anom = nino3_hist_anom_1[0:12000]\n",
    "\n",
    "ismr_pi_anom, ismr_pi_std = moving_average_anomaly(ismr_pi)\n",
    "nino3_pi_anom, nino3_pi_std = np.asarray(moving_average_anomaly(nino3_pi))\n",
    "\n",
    "#print(ismr_anom[11000:11100])\n",
    "#print(ismr[12000:])\n",
    "#print(ismr[12000:]-np.mean(ismr[12000-360:]))\n",
    "#plt.plot(mon_time[0:400],ismr_anom[0:400])\n",
    "#print(nino3_anom[0:100])\n",
    "#print(nino3_hist_anom.shape)\n",
    "#print(nino3_pi_anom.shape)\n",
    "\n",
    "#print(ismr_hist_anom.shape)\n",
    "#print(ismr_pi_anom.shape)\n",
    "\n",
    "#print(nino3.shape)\n",
    "volc_data_mon = np.zeros((1000*12))\n",
    "print(volc_data_mon)\n",
    "for yyyy in range(1000):\n",
    "    #print(yyyy)\n",
    "    volc_data_mon[yyyy*12:(yyyy+1)*12] = vrf[yyyy]\n",
    "volc_idx = np.where(volc_data_mon < -0.1)[0]\n",
    "print(volc_idx.shape)\n",
    "#print(vrf)"
   ]
  },
  {
   "cell_type": "code",
   "execution_count": 17,
   "metadata": {},
   "outputs": [],
   "source": [
    "import random\n",
    "import warnings\n",
    "warnings.filterwarnings('ignore')\n",
    "\n",
    "#print(volc_data_mon[0:120])\n",
    "#ismr_anom_1550_1750 = ismr_anom[8400:10800]\n",
    "#nino3_anom_1550_1750 = nino3_anom[8400:10800]\n",
    "N=10000\n",
    "niter = 0\n",
    "count_elnino_drought_pi = np.zeros((N))\n",
    "count_elnino_drought_hist = np.zeros((N))\n",
    "#count_lanina_goodmonsoon  = np.zeros((N))\n",
    "\n",
    "while niter<N:\n",
    "    dummy_log_ed_pi = np.zeros((240))\n",
    "    dummy_log_ed_hist = np.zeros((240))\n",
    "    dummy_log_lg = np.zeros((240))\n",
    "    rand_year = random.sample(range(0, 1392), 1)\n",
    "    \n",
    "    if rand_year[0]<121:\n",
    "        dummy_ismr = ismr_hist_anom[volc_idx[rand_year[0]]:volc_idx[rand_year[0]]+240]\n",
    "        dummy_ismr_1 = dummy_ismr\n",
    "        dummy_nino3 = nino3_hist_anom[volc_idx[rand_year[0]]:volc_idx[rand_year[0]]+240]\n",
    "        dummy_nino3_1 = dummy_nino3\n",
    "    elif rand_year[0]>1271:\n",
    "        dummy_ismr = ismr_hist_anom[rand_year[0]-240:volc_idx[rand_year[0]]]\n",
    "        dummy_ismr_1 = dummy_ismr\n",
    "        dummy_nino3 = nino3_hist_anom[volc_idx[rand_year[0]]-240:volc_idx[rand_year[0]]]\n",
    "        dummy_nino3_1 = dummy_nino3\n",
    "    else:\n",
    "        dummy_ismr = ismr_hist_anom[volc_idx[rand_year[0]]-120:volc_idx[rand_year[0]+120]]\n",
    "        dummy_ismr_1 = dummy_ismr\n",
    "        dummy_nino3 = nino3_hist_anom[volc_idx[rand_year[0]]-120:volc_idx[rand_year[0]]+120]\n",
    "        dummy_nino3_1 = dummy_nino3\n",
    "\n",
    "    rand_year_pi = random.sample(range(241,11882),1)\n",
    "    dummy_ismr_pi = ismr_pi_anom[rand_year_pi[0]-120:rand_year_pi[0]+120]\n",
    "    dummy_ismr_pi_1 = dummy_ismr_pi\n",
    "    dummy_nino3_pi = nino3_pi_anom[rand_year_pi[0]-120:rand_year_pi[0]+120]\n",
    "    dummy_nino3_pi_1 = dummy_nino3_pi\n",
    "    \n",
    "    #if np.max(volc_data_mon[rand_year[0]-120:rand_year[0]+120]) < 0.1:\n",
    "    #    continue\n",
    "    #print(niter)\n",
    "    #print(rand_year_pi)\n",
    "    for i in range(240):\n",
    "        if dummy_nino3_1[i]>0.5 and dummy_ismr_1[i]<1.0:\n",
    "            dummy_log_ed_hist[i] = 1.0\n",
    "        if dummy_nino3_pi_1[i]>0.5 and dummy_ismr_pi_1[i]<1.0:\n",
    "            dummy_log_ed_pi[i] = 1.0\n",
    "    \n",
    "    #dummy_log_lg[dummy_nino3_1<-0.5 and dummy_ismr_1>1.0] = 1.0\n",
    "    count_elnino_drought_hist[niter] = np.sum(dummy_log_ed_hist)\n",
    "    count_elnino_drought_pi[niter]   = np.sum(dummy_log_ed_pi)\n",
    "    \n",
    "    #count_lanina_goodmonsoon[niter] = np.sum(dummy_log_lg)\n",
    "    niter = niter + 1"
   ]
  },
  {
   "cell_type": "code",
   "execution_count": 21,
   "metadata": {},
   "outputs": [
    {
     "data": {
      "image/png": "[encoded data removed]",
      "text/plain": [
       "<Figure size 432x288 with 1 Axes>"
      ]
     },
     "metadata": {},
     "output_type": "display_data"
    }
   ],
   "source": [
    "import pandas as pd\n",
    "ed = pd.DataFrame({ 'group' : np.repeat('ED_pi',10000), 'value': count_elnino_drought_hist })\n",
    "lf = pd.DataFrame({ 'group' : np.repeat('ED_hist',10000), 'value': count_elnino_drought_pi })\n",
    "df=ed.append(lf)\n",
    "sns.boxplot(x='group', y='value', data=df)\n",
    "plt.savefig('box_whisker_ed_pi_hist.eps', format='eps', dpi=1000)"
   ]
  },
  {
   "cell_type": "code",
   "execution_count": 22,
   "metadata": {},
   "outputs": [
    {
     "data": {
      "image/png": "[encoded data removed]",
      "text/plain": [
       "<Figure size 432x288 with 1 Axes>"
      ]
     },
     "metadata": {},
     "output_type": "display_data"
    }
   ],
   "source": [
    "sns.kdeplot(count_elnino_drought_pi)\n",
    "plt.savefig('pdf_ed_pi.eps', format='eps', dpi=1000)"
   ]
  },
  {
   "cell_type": "code",
   "execution_count": 23,
   "metadata": {},
   "outputs": [
    {
     "data": {
      "image/png": "[encoded data removed]",
      "text/plain": [
       "<Figure size 432x288 with 1 Axes>"
      ]
     },
     "metadata": {},
     "output_type": "display_data"
    }
   ],
   "source": [
    "sns.kdeplot(count_elnino_drought_hist)\n",
    "plt.savefig('pdf_ed_hist.eps', format='eps', dpi=1000)"
   ]
  },
  {
   "cell_type": "code",
   "execution_count": null,
   "metadata": {},
   "outputs": [],
   "source": []
  }
 ],
 "metadata": {
  "kernelspec": {
   "display_name": "Python 3",
   "language": "python",
   "name": "python3"
  },
  "language_info": {
   "codemirror_mode": {
    "name": "ipython",
    "version": 3
   },
   "file_extension": ".py",
   "mimetype": "text/x-python",
   "name": "python",
   "nbconvert_exporter": "python",
   "pygments_lexer": "ipython3",
   "version": "3.5.6"
  }
 },
 "nbformat": 4,
 "nbformat_minor": 2
}
