{
 "cells": [
  {
   "cell_type": "code",
   "execution_count": 1,
   "metadata": {},
   "outputs": [
    {
     "name": "stdout",
     "output_type": "stream",
     "text": [
      "[ 0.  0.  1.  0.  0.  0.  0.  0.  0.  0.]\n",
      "[ 0.  0.  0.  0.  0.  0.  0.  0.  0.  0.  0.  0.  0.  0.  0.  0.  0.  0.\n",
      "  1.  1.  1.  1.  1.  1.  1.  1.  1.  1.  1.  1.  0.  0.  0.  0.  0.  0.\n",
      "  0.  0.  0.  0.  0.  0.  0.  0.  0.  0.  0.  0.  0.  0.  0.  0.  0.  0.\n",
      "  0.  0.  0.  0.  0.  0.  0.  0.  0.  0.  0.  0.  0.  0.  0.  0.  0.  0.\n",
      "  0.  0.  0.  0.  0.  0.  0.  0.  0.  0.  0.  0.  0.  0.  0.  0.  0.  0.\n",
      "  0.  0.  0.  0.  0.  0.  0.  0.  0.  0.  0.  0.  0.  0.  0.  0.  0.  0.\n",
      "  0.  0.  0.  0.  0.  0.  0.  0.  0.  0.  0.  0.]\n"
     ]
    }
   ],
   "source": [
    "from __future__ import print_function, division\n",
    "\n",
    "%matplotlib inline\n",
    "import matplotlib.pyplot as plt\n",
    "import numpy as np\n",
    "import pandas as pd\n",
    "import seaborn as sns\n",
    "sns.set()\n",
    "plv_hist = np.genfromtxt ('plv_hist.csv', delimiter=\",\")\n",
    "plv_pi = np.genfromtxt ('plv_pi.csv', delimiter=\",\")\n",
    "volc_sigl = -1*np.genfromtxt ('sigl.txt', delimiter=\",\")\n",
    "volc_source_sigl = np.genfromtxt ('volc_source_850_1849.csv', delimiter=\",\")\n",
    "# data source https://media.nature.com/original/nature-assets/nature/journal/v523/n7562/extref/nature14565-s6.xlsx\n",
    "# from the paper https://www.nature.com/articles/nature14565\n",
    "# Other data for phase coherence taken from PMIP3 simulations of IPSL model\n",
    "\n",
    "# The PI control experiment data is from 850-1849 and the historical last millenium \n",
    "# run is from 850-1850, hence there is one year extra in the historical run. So we need to \n",
    "# take only upto 1849 to have complete 1000 years. Further the phase locking values are \n",
    "# calculated as from 3 year moving windows. So, the first value represents July 1851 and the \n",
    "# last value represents June 1848, Hence there are 11964 months. From the yearly volcanic \n",
    "# data a monthly dataset is created in which the first six months have the values of \n",
    "# volcanic year 1851 and the last six months have the values of the year 1848\n",
    "# sigl.txt also has data from 850-1850 hence the last year is discarded\n",
    "#\n",
    "# Making monthly dataset for volcanic forcing corresponding to the phase locking values\n",
    "# 0:1000 is the index of volc_sigl in python, hence 1000 corresponds to 1850\n",
    "# 999 corresponds to 1849 and 998 corresponds to 1848, since the phase coherence analysis\n",
    "# has been done for a period of 1000 years and a 3 year moving window is used for calculating \n",
    "# plv values, the plv time series will have a size 997*12\n",
    "\n",
    "volc_data = volc_sigl[1:998]\n",
    "\n",
    "# in volc_source_sigl indices 0 and 999 represent 850 and 1849, 0:999 will give 0:998 \n",
    "# in reality, 1 represents 851 and 998 represents 1848\n",
    "volc_source_data = volc_source_sigl[1:999]\n",
    "\n",
    "volc_data_mon = np.zeros((997*12))\n",
    "volc_source_data_mon = np.zeros((997*12))\n",
    "\n",
    "volc_data_mon[0:6] = volc_data[0]\n",
    "volc_source_data_mon[0:6] = volc_source_data[0]\n",
    "\n",
    "volc_data_mon[11958:11964] = volc_data[-1]\n",
    "volc_source_data_mon[11958:11964] = volc_source_data[-1]\n",
    "\n",
    "for yyyy in range(996):\n",
    "    volc_data_mon[6+yyyy*12:18+yyyy*12] = volc_data[1+yyyy]\n",
    "    volc_source_data_mon[6+yyyy*12:18+yyyy*12] = volc_source_data[1+yyyy]\n",
    "print(volc_source_data[0:10])\n",
    "print(volc_source_data_mon[0:120])\n",
    "\n",
    "# Creating a 2D array plv whose first column will contain plv for PI and the second column \n",
    "# will contain the plv for historical\n",
    "\n",
    "plv = np.zeros((plv_pi.shape[0], 2))\n",
    "plv[:,0] = plv_pi[:]\n",
    "plv[:,1] = plv_hist[0:11964]\n",
    "\n",
    "thres = 0.95"
   ]
  },
  {
   "cell_type": "code",
   "execution_count": 2,
   "metadata": {},
   "outputs": [
    {
     "name": "stdout",
     "output_type": "stream",
     "text": [
      "22.8952\n",
      "[ 24.  26.  23. ...,  17.  25.  22.]\n"
     ]
    },
    {
     "data": {
      "text/plain": [
       "<matplotlib.axes._subplots.AxesSubplot at 0x2b1aa52c6470>"
      ]
     },
     "execution_count": 2,
     "metadata": {},
     "output_type": "execute_result"
    },
    {
     "data": {
      "image/png": "[encoded data removed]",
      "text/plain": [
       "<Figure size 432x288 with 1 Axes>"
      ]
     },
     "metadata": {},
     "output_type": "display_data"
    }
   ],
   "source": [
    "# 10 year PI control not considering first 200 years\n",
    "import random\n",
    "Nsample = plv[1200:,1].shape[0]\n",
    "N=10000\n",
    "thres = 0.95\n",
    "dummy_log = np.zeros((120))\n",
    "dummy_log_sum = 0\n",
    "plv_pi_monte_carlo = np.zeros((Nsample))\n",
    "plv_pi_monte_carlo[0:Nsample] = plv[1200:,0]\n",
    "dummy_pi_scatter = np.zeros((N))\n",
    "\n",
    "for niter in range(N):\n",
    "    dummy = plv_pi_monte_carlo[random.sample(range(0, 8399), 120)]\n",
    "    dummy_log[dummy<thres] = 0\n",
    "    dummy_log[dummy>thres] = 1\n",
    "    dummy_log_sum = dummy_log_sum + np.sum(dummy_log)\n",
    "    dummy_pi_scatter[niter] = np.sum(dummy_log)\n",
    "print(dummy_log_sum/N)\n",
    "print(dummy_pi_scatter)\n",
    "sns.kdeplot(dummy_pi_scatter/12)\n",
    "#plt.savefig('plv_pi_pdf.eps', format='eps', dpi=1000)"
   ]
  },
  {
   "cell_type": "code",
   "execution_count": 3,
   "metadata": {},
   "outputs": [
    {
     "name": "stdout",
     "output_type": "stream",
     "text": [
      "22.5193\n",
      "9.11\n"
     ]
    },
    {
     "data": {
      "text/plain": [
       "<matplotlib.axes._subplots.AxesSubplot at 0x2b1aa5b78048>"
      ]
     },
     "execution_count": 3,
     "metadata": {},
     "output_type": "execute_result"
    },
    {
     "data": {
      "image/png": "[encoded data removed]",
      "text/plain": [
       "<Figure size 432x288 with 1 Axes>"
      ]
     },
     "metadata": {},
     "output_type": "display_data"
    }
   ],
   "source": [
    "# 10 year historical only volcanic PLV volc thres = 10 for tropical eruptions\n",
    "import random\n",
    "import warnings\n",
    "warnings.filterwarnings('ignore')\n",
    "Nsample = plv[:,1].shape[0]\n",
    "N=10000\n",
    "thres = 0.95\n",
    "dummy_log = np.zeros((120))\n",
    "\n",
    "dummy_log_sum = 0\n",
    "plv_hist_monte_carlo = np.zeros((Nsample))\n",
    "plv_hist_monte_carlo = plv[:,1]\n",
    "niter = 0\n",
    "dummy_hist_scatter = np.zeros((N))\n",
    "while niter < N:\n",
    "    rand_year = random.sample(range(10, 11830), 1)\n",
    "    #print(rand_year[0])\n",
    "    dummy = plv_pi_monte_carlo[rand_year[0]:rand_year[0]+120]\n",
    "    dummy_1 = dummy\n",
    "    if np.max(volc_data_mon[rand_year[0]:rand_year[0]+120]) < 0.1:\n",
    "        continue\n",
    "# 1 for tropical, 2 for NH, 3 for SH\n",
    "    if np.max(volc_source_data_mon[rand_year[0]:rand_year[0]+120]) > 1.1:\n",
    "        continue\n",
    "    dummy_hist_scatter[niter] = np.sum(dummy_log)\n",
    "    niter = niter + 1\n",
    "    dummy_log[dummy_1<thres] = 0\n",
    "    dummy_log[dummy_1>thres] = 1\n",
    "    #print(niter)\n",
    "    dummy_log_sum = dummy_log_sum + np.sum(dummy_log)\n",
    "    \n",
    "print(dummy_log_sum/N)\n",
    "print(np.sum(volc_data[800:850])-10.24)\n",
    "#print(volc_data[800:850]) # include later\n",
    "#print(dummy_hist_scatter_1650_1700[1100:1200])\n",
    "#1650-1700\n",
    "sns.kdeplot(dummy_hist_scatter[:]/12)"
   ]
  },
  {
   "cell_type": "code",
   "execution_count": 4,
   "metadata": {},
   "outputs": [
    {
     "data": {
      "text/plain": [
       "Ks_2sampResult(statistic=0.376, pvalue=0.0)"
      ]
     },
     "execution_count": 4,
     "metadata": {},
     "output_type": "execute_result"
    }
   ],
   "source": [
    "# Performing 2 sampled Kolmogrov Smirnov test from \n",
    "# https://docs.scipy.org/doc/scipy-0.15.1/reference/generated/scipy.stats.ks_2samp.html\n",
    "from scipy import stats\n",
    "stats.ks_2samp(dummy_pi_scatter, dummy_hist_scatter)"
   ]
  },
  {
   "cell_type": "code",
   "execution_count": null,
   "metadata": {},
   "outputs": [],
   "source": []
  }
 ],
 "metadata": {
  "kernelspec": {
   "display_name": "Python 3",
   "language": "python",
   "name": "python3"
  },
  "language_info": {
   "codemirror_mode": {
    "name": "ipython",
    "version": 3
   },
   "file_extension": ".py",
   "mimetype": "text/x-python",
   "name": "python",
   "nbconvert_exporter": "python",
   "pygments_lexer": "ipython3",
   "version": "3.5.5"
  }
 },
 "nbformat": 4,
 "nbformat_minor": 2
}
