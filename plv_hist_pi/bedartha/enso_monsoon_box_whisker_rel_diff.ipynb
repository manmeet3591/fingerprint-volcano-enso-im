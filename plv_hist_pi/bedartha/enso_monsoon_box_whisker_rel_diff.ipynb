{
 "cells": [
  {
   "cell_type": "code",
   "execution_count": 1,
   "metadata": {},
   "outputs": [],
   "source": [
    "from __future__ import print_function, division\n",
    "\n",
    "%matplotlib inline\n",
    "import matplotlib.pyplot as plt\n",
    "import numpy as np\n",
    "import pandas as pd\n",
    "import seaborn as sns\n",
    "import datetime as dt\n",
    "import warnings\n",
    "warnings.filterwarnings(\"ignore\")\n",
    "sns.set()"
   ]
  },
  {
   "cell_type": "code",
   "execution_count": 2,
   "metadata": {},
   "outputs": [],
   "source": [
    "phase_coh_hist = np.genfromtxt ('is_plateau_hist.csv', delimiter=\",\")\n",
    "phase_coh_pi = np.genfromtxt ('is_plateau_pi.csv', delimiter=\",\")\n",
    "vrf = np.genfromtxt ('volc_source_850_1850.csv', delimiter=\",\")"
   ]
  },
  {
   "cell_type": "code",
   "execution_count": 3,
   "metadata": {},
   "outputs": [],
   "source": [
    "N = 10000\n",
    "win = 240\n",
    "phase_coh_hist_dist_1 = np.zeros((N,win))\n",
    "phase_coh_pi_dist_1   = np.zeros((N,win))\n",
    "phase_coh_hist_dist_2 = np.zeros((N))\n",
    "phase_coh_pi_dist_2   = np.zeros((N))"
   ]
  },
  {
   "cell_type": "code",
   "execution_count": 8,
   "metadata": {},
   "outputs": [],
   "source": [
    "import random\n",
    "import warnings\n",
    "warnings.filterwarnings('ignore')\n",
    "i=0\n",
    "while i < N :\n",
    "    rand_year = random.sample(range(0,phase_coh_hist.shape[0]-win), 1)\n",
    "    volc_year = int(rand_year[0]/12)\n",
    "    if vrf[volc_year]!=3.0:\n",
    "        continue\n",
    "    phase_coh_hist_win = phase_coh_hist[rand_year[0]:rand_year[0]+win]\n",
    "    i = i + 1\n",
    "i=0\n",
    "while i < N:\n",
    "    rand_year = random.sample(range(0,phase_coh_hist.shape[0]-win), 1)\n",
    "    phase_coh_pi_win = phase_coh_hist[rand_year[0]:rand_year[0]+win]\n",
    "    i = i + 1"
   ]
  },
  {
   "cell_type": "code",
   "execution_count": 9,
   "metadata": {},
   "outputs": [],
   "source": [
    "for i in range(N):\n",
    "    phase_coh_hist_dist_2[i] = np.sum(phase_coh_hist_dist_1[i,:])\n",
    "    phase_coh_pi_dist_2[i] = np.sum(phase_coh_pi_dist_1[i,:])"
   ]
  },
  {
   "cell_type": "code",
   "execution_count": 10,
   "metadata": {},
   "outputs": [
    {
     "data": {
      "text/plain": [
       "<matplotlib.axes._subplots.AxesSubplot at 0x2b616822cb00>"
      ]
     },
     "execution_count": 10,
     "metadata": {},
     "output_type": "execute_result"
    },
    {
     "data": {
      "image/png": "[encoded data removed]",
      "text/plain": [
       "<matplotlib.figure.Figure at 0x2b616822ce80>"
      ]
     },
     "metadata": {
      "needs_background": "light"
     },
     "output_type": "display_data"
    }
   ],
   "source": [
    "import pandas as pd\n",
    "hist = pd.DataFrame({ 'Phase Coherence' : np.repeat('hist',N), 'value': phase_coh_hist_dist_2 })\n",
    "pi = pd.DataFrame({ 'Phase Coherence' : np.repeat('PI',N), 'value': phase_coh_pi_dist_2 })\n",
    "df=hist.append(pi)\n",
    "sns.boxplot(x='Phase Coherence', y='value', data=df)"
   ]
  },
  {
   "cell_type": "code",
   "execution_count": 7,
   "metadata": {},
   "outputs": [
    {
     "data": {
      "text/plain": [
       "array([0., 0., 0., 0., 0., 0., 0., 0., 0., 0., 0., 0., 0., 0., 0., 0., 0.,\n",
       "       0., 0., 0., 0., 0., 0., 0., 0., 0., 0., 0., 0., 0., 0., 0., 0., 0.,\n",
       "       0., 0., 0., 0., 0., 0., 0., 0., 0., 0., 0., 0., 0., 0., 0., 0., 0.,\n",
       "       0., 0., 0., 0., 0., 0., 0., 0., 0., 0., 0., 0., 0., 0., 0., 0., 0.,\n",
       "       0., 0., 0., 0., 0., 0., 0., 0., 0., 0., 0., 0., 0., 0., 0., 0., 0.,\n",
       "       0., 0., 0., 0., 0., 0., 0., 0., 0., 0., 0., 0., 0., 0., 0.])"
      ]
     },
     "execution_count": 7,
     "metadata": {},
     "output_type": "execute_result"
    }
   ],
   "source": [
    "phase_coh_hist_dist_2[100:200]"
   ]
  },
  {
   "cell_type": "code",
   "execution_count": null,
   "metadata": {},
   "outputs": [],
   "source": []
  }
 ],
 "metadata": {
  "kernelspec": {
   "display_name": "Python 3",
   "language": "python",
   "name": "python3"
  },
  "language_info": {
   "codemirror_mode": {
    "name": "ipython",
    "version": 3
   },
   "file_extension": ".py",
   "mimetype": "text/x-python",
   "name": "python",
   "nbconvert_exporter": "python",
   "pygments_lexer": "ipython3",
   "version": "3.5.6"
  }
 },
 "nbformat": 4,
 "nbformat_minor": 2
}
