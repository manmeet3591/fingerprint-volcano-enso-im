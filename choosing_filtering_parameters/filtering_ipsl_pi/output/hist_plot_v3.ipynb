{
 "cells": [
  {
   "cell_type": "code",
   "execution_count": 1,
   "metadata": {},
   "outputs": [],
   "source": [
    "import numpy as np\n",
    "import matplotlib.pyplot as plt\n",
    "import random\n",
    "import warnings\n",
    "from scipy import stats\n"
   ]
  },
  {
   "cell_type": "code",
   "execution_count": 4,
   "metadata": {},
   "outputs": [],
   "source": [
    "delphi_hist = np.genfromtxt('delphi_fit.csv', delimiter=\",\", dtype=float).flatten()\n",
    "delphi_hist_null = np.genfromtxt('delphi_pmip3_ipsl_hist_null.csv', delimiter=\",\", dtype=float).flatten()\n",
    "\n",
    "volc = -np.genfromtxt('sigl.txt', delimiter=\",\", dtype=float).flatten()\n",
    "volc_source = np.genfromtxt('volc_source_850_1850.csv', delimiter=\",\", dtype=float).flatten()\n",
    "\n",
    "nino3_data = np.genfromtxt('tas_Amon_IPSL-CM5A-LR_past1000_r1i1p1_0850_1850_nino3_tseries.csv', delimiter=\",\", dtype=float).flatten()\n",
    "ismr_data = np.genfromtxt('pr_Amon_IPSL-CM5A-LR_past1000_r1i1p1_0850_1850_goswami_india_tseries.csv', delimiter=\",\", dtype=float).flatten()*86400\n",
    "\n",
    "nino3 = nino3_data - np.mean(nino3_data)\n",
    "ismr = (ismr_data - np.mean(ismr_data))/np.std(ismr_data)\n",
    "\n",
    "N=10000\n",
    "win = 60 # window = 20 years\n",
    "delphi_hist_dist_1 = np.zeros((N,win))\n",
    "delphi_hist_null_dist_1 = np.zeros((N,win))\n",
    "delphi_pi_dist_1 = np.zeros((N,win))\n",
    "delphi_pi_null_dist_1 = np.zeros((N,win))\n",
    "\n",
    "\n",
    "volc_year = 0\n",
    "i = 0\n",
    "while i < N :\n",
    "    rand_year = random.sample(range(0, delphi_hist.shape[0]-win), 1)\n",
    "    volc_year = int(np.round(rand_year[0]/12))\n",
    "    #print(volc_year)\n",
    "    if volc_source[volc_year] != 1.0 : # Tropical Eruptions only\n",
    "        continue\n",
    "    if volc[volc_year] < 3.7 : # Large Volcanic eruptions\n",
    "        continue\n",
    "    if np.mean(nino3[rand_year[0]-18:rand_year[0]-12])< 0.5: # El Nino in the previous year\n",
    "        continue \n",
    "    #delphi_hist_window = delphi_hist[rand_year[0]:rand_year[0]+win]\n",
    "    delphi_hist_window = delphi_hist[rand_year[0]:rand_year[0]+win]\n",
    "    delphi_hist_dist_1[i,:] = (delphi_hist_window - delphi_hist_window[0])\n",
    "    #delphi_hist_dist_1[i,:] = (delphi_hist_window - stats.mode(delphi_hist_window)[0])\n",
    "    i = i + 1\n",
    "\n",
    "i = 0\n",
    "while i < N :\n",
    "    rand_year = random.sample(range(0, delphi_hist_null.shape[0]-win), 1)\n",
    "    delphi_null_window = delphi_hist_null[rand_year[0]:rand_year[0]+win]\n",
    "    #delphi_null_window = delphi_hist_null[rand_year[0]:rand_year[0]+win]\n",
    "    delphi_hist_null_dist_1[i,:] = (delphi_null_window - delphi_null_window[0])\n",
    "    #delphi_hist_null_dist_1[i,:] = (delphi_null_window - stats.mode(delphi_null_window)[0])\n",
    "    i = i + 1\n"
   ]
  },
  {
   "cell_type": "code",
   "execution_count": 3,
   "metadata": {},
   "outputs": [],
   "source": [
    "delphi_hist_dist_2 = delphi_hist_dist_1.flatten()\n",
    "delphi_hist_null_dist_2 = delphi_hist_null_dist_1.flatten()\n",
    "delphi_pi_dist_2 = delphi_pi_dist_1.flatten()\n",
    "delphi_pi_null_dist_2 = delphi_pi_null_dist_1.flatten()\n",
    "\n",
    "delphi_hist_dist_2 = delphi_hist_dist_2 / (2*np.pi)\n",
    "delphi_hist_null_dist_2 = delphi_hist_null_dist_2 / (2*np.pi)\n",
    "delphi_pi_dist_2 = delphi_pi_dist_2 / (2*np.pi)\n",
    "delphi_pi_null_dist_2 = delphi_pi_null_dist_2 / (2*np.pi)"
   ]
  },
  {
   "cell_type": "code",
   "execution_count": null,
   "metadata": {},
   "outputs": [],
   "source": []
  }
 ],
 "metadata": {
  "kernelspec": {
   "display_name": "Python 3",
   "language": "python",
   "name": "python3"
  },
  "language_info": {
   "codemirror_mode": {
    "name": "ipython",
    "version": 3
   },
   "file_extension": ".py",
   "mimetype": "text/x-python",
   "name": "python",
   "nbconvert_exporter": "python",
   "pygments_lexer": "ipython3",
   "version": "3.5.6"
  }
 },
 "nbformat": 4,
 "nbformat_minor": 2
}
