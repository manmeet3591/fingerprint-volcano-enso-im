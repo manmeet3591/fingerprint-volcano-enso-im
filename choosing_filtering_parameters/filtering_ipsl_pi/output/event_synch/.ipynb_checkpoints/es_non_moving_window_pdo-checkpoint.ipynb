{
 "cells": [
  {
   "cell_type": "code",
   "execution_count": 1,
   "metadata": {},
   "outputs": [],
   "source": [
    "# Event Synchronization Analysis following \n",
    "# https://github.com/pik-copan/pyunicorn/blob/master/tests/test_funcnet/TestEventSyncronization.py\n",
    "# and \n",
    "# https://vis.caltech.edu/~rodri/papers/event_synchro.pdf\n"
   ]
  },
  {
   "cell_type": "code",
   "execution_count": 2,
   "metadata": {},
   "outputs": [],
   "source": [
    "import sys, string\n",
    "from matplotlib import rc\n",
    "import numpy as np\n",
    "import pylab as pl\n",
    "import netCDF4\n",
    "import time as t\n",
    "import datetime\n",
    "from dateutil.parser import parse\n",
    "from pylab import load, meshgrid, title, arange, show\n",
    "from netcdftime import utime\n",
    "import scipy.io\n",
    "import matplotlib as mpl\n",
    "import argparse\n",
    "from matplotlib.dates import MonthLocator, WeekdayLocator, DateFormatter\n",
    "import datetime as dt\n",
    "from netCDF4 import num2date, date2num\n",
    "import random\n",
    "from mpi4py import MPI\n",
    "#import Nio\n",
    "#from pyhdf.SD import SD\n"
   ]
  },
  {
   "cell_type": "code",
   "execution_count": 3,
   "metadata": {},
   "outputs": [],
   "source": [
    "def EventSync(es1, es2, taumax):\n",
    "    \"\"\"\n",
    "    Compute non-vectorized event synchronization\n",
    "    :type es1: 1D Numpy array\n",
    "    :arg es1: Event series containing '0's and '1's\n",
    "    :type es2: 1D Numpy array\n",
    "    :arg es2: Event series containing '0's and '1's\n",
    "    :float return: Event synchronization es2 to es1\n",
    "    \"\"\"\n",
    "    ex = np.arange(len(es1))[es1 == 1]\n",
    "    ey = np.arange(len(es2))[es2 == 1]\n",
    "    lx = len(ex)\n",
    "    ly = len(ey)\n",
    "\n",
    "    count = 0\n",
    "    if lx!=0 and ly!=0:\n",
    "        for m in range(1, lx-1):\n",
    "            for n in range(1, ly-1):\n",
    "                dst = ex[m] - ey[n]\n",
    "\n",
    "                if abs(dst) > taumax:\n",
    "                    continue\n",
    "                elif dst == 0:\n",
    "                    count += 0.5\n",
    "                    continue\n",
    "\n",
    "              # finding the dynamical delay tau\n",
    "                tmp = ex[m+1] - ex[m]\n",
    "                if tmp > ex[m] - ex[m-1]:\n",
    "                    tmp = ex[m] - ex[m-1]\n",
    "                tau = ey[n+1] - ey[n]\n",
    "                if tau > ey[n] - ey[n-1]:\n",
    "                    tau = ey[n] - ey[n-1]\n",
    "                if tau > tmp:\n",
    "                    tau = tmp\n",
    "                tau = tau / 2\n",
    "\n",
    "                if dst > 0 and dst <= tau:\n",
    "                    count += 1\n",
    "\n",
    "    #print(\"count = \",count) \n",
    "    #print(\"Q = \",np.sqrt((lx-2) * (ly-2))) \n",
    "    #print(\"lx,ly,Q =\",lx,ly,count) \n",
    "    if lx!=0 and ly!=0:\n",
    "        return count / np.sqrt((lx) * (ly))\n",
    "      #return count / np.sqrt((lx-2) * (ly-2))\n",
    "    else:\n",
    "        return 0.0\n"
   ]
  },
  {
   "cell_type": "code",
   "execution_count": 4,
   "metadata": {},
   "outputs": [
    {
     "name": "stdout",
     "output_type": "stream",
     "text": [
      "(11964,)\n",
      "(11964,)\n",
      "(11964,)\n"
     ]
    }
   ],
   "source": [
    "plv_pi = np.genfromtxt ('plv_pi.csv', delimiter=\",\")\n",
    "plv_hist = np.genfromtxt ('plv_hist.csv', delimiter=\",\")[:11964,]\n",
    "plv_99p_pi = np.genfromtxt('plv_95p_pmip3_ipsl_pi.csv', delimiter=\",\")\n",
    "plv_99p_hist = np.genfromtxt('plv_95p_pmip3_ipsl_hist.csv', delimiter=\",\")[:11964,]\n",
    "volc_sigl = -1*np.genfromtxt ('sigl.txt', delimiter=\",\")\n",
    "\n",
    "volc_data = volc_sigl[1:998]\n",
    "volc_data_mon = np.zeros((997*12))\n",
    "volc_data_mon[0:6] = volc_data[0]\n",
    "volc_data_mon[11958:11964] = volc_data[-1]\n",
    "for yyyy in range(996):\n",
    "    #print(yyyy)\n",
    "    volc_data_mon[6+yyyy*12:18+yyyy*12] = volc_data[1+yyyy]\n",
    "\n",
    "print(plv_99p_pi.shape)\n",
    "print(plv_99p_hist.shape)\n",
    "print(volc_data_mon.shape)\n"
   ]
  },
  {
   "cell_type": "code",
   "execution_count": 5,
   "metadata": {},
   "outputs": [],
   "source": [
    "es_pi = np.zeros((plv_pi.shape[0]))\n",
    "es_hist = np.zeros((plv_hist.shape[0]))\n",
    "es_volc =np.zeros((volc_data_mon.shape[0]))\n",
    "\n",
    "es_pi[plv_pi>=plv_99p_pi] = 1.0\n",
    "es_hist[plv_hist>=plv_99p_hist] = 1.0\n",
    "es_volc[volc_data_mon>=0.1] = 1.0\n"
   ]
  },
  {
   "cell_type": "code",
   "execution_count": 6,
   "metadata": {},
   "outputs": [
    {
     "name": "stdout",
     "output_type": "stream",
     "text": [
      "936.0\n",
      "1090.0\n",
      "1392.0\n",
      "(11964,) (11964,)\n"
     ]
    }
   ],
   "source": [
    "print(np.sum(es_pi))\n",
    "print(np.sum(es_hist))\n",
    "print(np.sum(es_volc))\n",
    "print(es_volc.shape, es_hist.shape)"
   ]
  },
  {
   "cell_type": "code",
   "execution_count": 9,
   "metadata": {},
   "outputs": [],
   "source": [
    "taumax = 60\n",
    "Q_hist_hv = EventSync(es_hist, es_volc, taumax)\n",
    "Q_hist_vh = EventSync(es_volc, es_hist,taumax)\n",
    "Q_hist = Q_hist_hv + Q_hist_vh"
   ]
  },
  {
   "cell_type": "code",
   "execution_count": 10,
   "metadata": {},
   "outputs": [
    {
     "data": {
      "text/plain": [
       "0.11203306557596002"
      ]
     },
     "execution_count": 10,
     "metadata": {},
     "output_type": "execute_result"
    }
   ],
   "source": [
    "Q_hist"
   ]
  },
  {
   "cell_type": "code",
   "execution_count": 11,
   "metadata": {},
   "outputs": [],
   "source": [
    "def my_shuffle(array):\n",
    "    random.shuffle(array)\n",
    "    return array\n"
   ]
  },
  {
   "cell_type": "code",
   "execution_count": 12,
   "metadata": {},
   "outputs": [],
   "source": [
    "N=1000\n",
    "Q_hist_mc = np.zeros(N)\n",
    "for i in range(N):\n",
    "    es_volc_mc = my_shuffle(es_volc)\n",
    "    es_hist_mc = my_shuffle(es_hist)\n",
    "    Q_hist_hv = EventSync(es_hist_mc, es_volc_mc, taumax)\n",
    "    Q_hist_vh = EventSync(es_volc, es_hist_mc,taumax)\n",
    "    Q_hist_mc[i] = Q_hist_hv + Q_hist_vh\n",
    "    #print(i)"
   ]
  },
  {
   "cell_type": "code",
   "execution_count": 13,
   "metadata": {},
   "outputs": [],
   "source": [
    "p95 = np.percentile(Q_hist_mc, 95)"
   ]
  },
  {
   "cell_type": "code",
   "execution_count": 14,
   "metadata": {},
   "outputs": [
    {
     "data": {
      "text/plain": [
       "0.34990037147274466"
      ]
     },
     "execution_count": 14,
     "metadata": {},
     "output_type": "execute_result"
    }
   ],
   "source": [
    "p95"
   ]
  },
  {
   "cell_type": "code",
   "execution_count": 15,
   "metadata": {},
   "outputs": [
    {
     "data": {
      "text/plain": [
       "(11964,)"
      ]
     },
     "execution_count": 15,
     "metadata": {},
     "output_type": "execute_result"
    }
   ],
   "source": [
    "# Now taking only those events which occured during warm pdo\n",
    "es_hist.shape"
   ]
  },
  {
   "cell_type": "code",
   "execution_count": 16,
   "metadata": {},
   "outputs": [
    {
     "name": "stdout",
     "output_type": "stream",
     "text": [
      "/iitm2/cccr-res/msingh/pmip_data_scripts/agu_volcano/event_synchronization_analysis/bedartha_1\r\n"
     ]
    }
   ],
   "source": [
    "!pwd"
   ]
  },
  {
   "cell_type": "code",
   "execution_count": 17,
   "metadata": {},
   "outputs": [],
   "source": [
    "warm_pdo = np.genfromtxt ('pdo_ipsl_pmip3_850_1849_first_diff_es_warm.csv', delimiter=\",\")[18:-18]\n",
    "cold_pdo = np.genfromtxt ('pdo_ipsl_pmip3_850_1849_first_diff_es_cold.csv', delimiter=\",\")[18:-18]"
   ]
  },
  {
   "cell_type": "code",
   "execution_count": 18,
   "metadata": {},
   "outputs": [],
   "source": [
    "es_hist_warm_pdo = es_hist*warm_pdo\n",
    "es_hist_cold_pdo = es_hist*cold_pdo"
   ]
  },
  {
   "cell_type": "code",
   "execution_count": 19,
   "metadata": {},
   "outputs": [],
   "source": [
    "taumax = 60\n",
    "Q_hist_hv_warm_pdo = EventSync(es_hist_warm_pdo, es_volc, taumax)\n",
    "Q_hist_vh_warm_pdo = EventSync(es_volc, es_hist_warm_pdo,taumax)\n",
    "Q_hist_warm_pdo = Q_hist_hv_warm_pdo + Q_hist_vh_warm_pdo\n",
    "\n",
    "Q_hist_hv_cold_pdo = EventSync(es_hist_cold_pdo, es_volc, taumax)\n",
    "Q_hist_vh_cold_pdo = EventSync(es_volc, es_hist_cold_pdo,taumax)\n",
    "Q_hist_cold_pdo = Q_hist_hv_cold_pdo + Q_hist_vh_cold_pdo"
   ]
  },
  {
   "cell_type": "code",
   "execution_count": 20,
   "metadata": {},
   "outputs": [
    {
     "name": "stdout",
     "output_type": "stream",
     "text": [
      "0.23629716473839135 0.24145364534971214\n"
     ]
    }
   ],
   "source": [
    "print(Q_hist_warm_pdo, Q_hist_cold_pdo)"
   ]
  },
  {
   "cell_type": "code",
   "execution_count": 21,
   "metadata": {},
   "outputs": [],
   "source": [
    "N=1000\n",
    "Q_hist_mc_warm_pdo = np.zeros(N)\n",
    "for i in range(N):\n",
    "    es_volc_mc = my_shuffle(es_volc)\n",
    "    es_hist_mc_warm_pdo = my_shuffle(es_hist_warm_pdo)\n",
    "    Q_hist_hv_warm_pdo = EventSync(es_hist_mc_warm_pdo, es_volc_mc, taumax)\n",
    "    Q_hist_vh_warm_pdo = EventSync(es_volc, es_hist_mc_warm_pdo,taumax)\n",
    "    Q_hist_mc_warm_pdo[i] = Q_hist_hv_warm_pdo + Q_hist_vh_warm_pdo\n",
    "    \n",
    "Q_hist_mc_cold_pdo = np.zeros(N)\n",
    "for i in range(N):\n",
    "    es_volc_mc = my_shuffle(es_volc)\n",
    "    es_hist_mc_cold_pdo = my_shuffle(es_hist_cold_pdo)\n",
    "    Q_hist_hv_cold_pdo = EventSync(es_hist_mc_cold_pdo, es_volc_mc, taumax)\n",
    "    Q_hist_vh_cold_pdo = EventSync(es_volc, es_hist_mc_cold_pdo,taumax)\n",
    "    Q_hist_mc_cold_pdo[i] = Q_hist_hv_cold_pdo + Q_hist_vh_cold_pdo\n"
   ]
  },
  {
   "cell_type": "code",
   "execution_count": 34,
   "metadata": {},
   "outputs": [],
   "source": [
    "p95 = np.percentile(Q_hist_mc_warm_pdo, 95)"
   ]
  },
  {
   "cell_type": "code",
   "execution_count": 35,
   "metadata": {},
   "outputs": [
    {
     "data": {
      "text/plain": [
       "0.3086561051367504"
      ]
     },
     "execution_count": 35,
     "metadata": {},
     "output_type": "execute_result"
    }
   ],
   "source": [
    "p95"
   ]
  },
  {
   "cell_type": "code",
   "execution_count": 36,
   "metadata": {},
   "outputs": [],
   "source": [
    "p95 = np.percentile(Q_hist_mc_cold_pdo, 95)"
   ]
  },
  {
   "cell_type": "code",
   "execution_count": 37,
   "metadata": {},
   "outputs": [
    {
     "data": {
      "text/plain": [
       "0.3021086673699297"
      ]
     },
     "execution_count": 37,
     "metadata": {},
     "output_type": "execute_result"
    }
   ],
   "source": [
    "p95"
   ]
  },
  {
   "cell_type": "code",
   "execution_count": 38,
   "metadata": {},
   "outputs": [],
   "source": [
    "# Doing the complete analysis for the volcanically active period 1550-1750 \n",
    "# The index 1:11964 is from 07/851, so 01/852 represents the index 7\n",
    "# 01/952 will be represented by 1207, 01/1052 by 2407, 01/1152 by 3607\n",
    "# 01/1252 by 4807 01/1352 by 6007, 01/1452 by 7207, 01/1552 by 8407\n",
    "# 01/1652 by 9607, 01/1752 by 10807\n",
    "\n",
    "# Hence 01/1550 will be represented by 8383 and 01/1750 by 10783\n",
    "# But indexing in python is from 0 hence 8382:10782"
   ]
  },
  {
   "cell_type": "code",
   "execution_count": 41,
   "metadata": {},
   "outputs": [
    {
     "data": {
      "text/plain": [
       "(2400,)"
      ]
     },
     "execution_count": 41,
     "metadata": {},
     "output_type": "execute_result"
    }
   ],
   "source": [
    "taumax = 60\n",
    "Q_hist_hv = EventSync(es_hist, es_volc, taumax)\n",
    "Q_hist_vh = EventSync(es_volc, es_hist,taumax)\n",
    "Q_hist = Q_hist_hv + Q_hist_vh"
   ]
  },
  {
   "cell_type": "code",
   "execution_count": null,
   "metadata": {},
   "outputs": [],
   "source": []
  }
 ],
 "metadata": {
  "kernelspec": {
   "display_name": "Python 3",
   "language": "python",
   "name": "python3"
  },
  "language_info": {
   "codemirror_mode": {
    "name": "ipython",
    "version": 3
   },
   "file_extension": ".py",
   "mimetype": "text/x-python",
   "name": "python",
   "nbconvert_exporter": "python",
   "pygments_lexer": "ipython3",
   "version": "3.5.5"
  }
 },
 "nbformat": 4,
 "nbformat_minor": 2
}
