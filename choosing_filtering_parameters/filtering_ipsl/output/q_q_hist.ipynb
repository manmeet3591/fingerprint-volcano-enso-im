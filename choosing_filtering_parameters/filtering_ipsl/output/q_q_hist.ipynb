{
 "cells": [
  {
   "cell_type": "code",
   "execution_count": 1,
   "metadata": {},
   "outputs": [],
   "source": [
    "import numpy as np\n",
    "import datetime as dt\n",
    "from scipy import signal\n",
    "import matplotlib.pyplot as pl\n",
    "import matplotlib.pyplot as plt\n",
    "import matplotlib.dates as mdates\n",
    "import warnings\n",
    "warnings.filterwarnings('ignore')\n",
    "import numbers"
   ]
  },
  {
   "cell_type": "code",
   "execution_count": null,
   "metadata": {},
   "outputs": [],
   "source": []
  },
  {
   "cell_type": "code",
   "execution_count": null,
   "metadata": {},
   "outputs": [],
   "source": []
  },
  {
   "cell_type": "code",
   "execution_count": null,
   "metadata": {},
   "outputs": [],
   "source": []
  },
  {
   "cell_type": "code",
   "execution_count": null,
   "metadata": {},
   "outputs": [],
   "source": []
  },
  {
   "cell_type": "code",
   "execution_count": null,
   "metadata": {},
   "outputs": [],
   "source": []
  },
  {
   "cell_type": "code",
   "execution_count": 26,
   "metadata": {},
   "outputs": [],
   "source": [
    "def qqplot(x, y, quantiles=None, interpolation='nearest', ax=None, rug=False, rug_length=0.05, rug_kwargs=None, **kwargs):\n",
    "    \"\"\"Draw a quantile-quantile plot for `x` versus `y`.\n",
    "    Parameters\n",
    "    ----------\n",
    "    x, y : array-like\n",
    "    One-dimensional numeric arrays.\n",
    "    ax : matplotlib.axes.Axes, optional\n",
    "    Axes on which to plot. If not provided, the current axes will be used.\n",
    "    quantiles : int or array-like, optional\n",
    "    Quantiles to include in the plot. This can be an array of quantiles, in\n",
    "    which case only the specified quantiles of `x` and `y` will be plotted.\n",
    "    If this is an int `n`, then the quantiles will be `n` evenly spaced\n",
    "    points between 0 and 1. If this is None, then `min(len(x), len(y))`\n",
    "    evenly spaced quantiles between 0 and 1 will be computed.\n",
    "    interpolation : {linear, lower, higher, midpoint, nearest}\n",
    "    Specify the interpolation method used to find quantiles when `quantiles`\n",
    "    is an int or None. See the documentation for numpy.quantile().\n",
    "    rug : bool, optional\n",
    "    If True, draw a rug plot representing both samples on the horizontal and\n",
    "    vertical axes. If False, no rug plot is drawn.\n",
    "    rug_length : float in [0, 1], optional\n",
    "    Specifies the length of the rug plot lines as a fraction of the total\n",
    "    vertical or horizontal length.\n",
    "    rug_kwargs : dict of keyword arguments\n",
    "    Keyword arguments to pass to matplotlib.axes.Axes.axvline() and\n",
    "    matplotlib.axes.Axes.axhline() when drawing rug plots.\n",
    "    kwargs : dict of keyword arguments\n",
    "    Keyword arguments to pass to matplotlib.axes.Axes.scatter() when drawing\n",
    "    the q-q plot.\n",
    "    \"\"\"\n",
    "# Get current axes if none are provided\n",
    "    if ax is None:\n",
    "        ax = plt.gca()\n",
    "    if quantiles is None:\n",
    "        quantiles = min(len(x), len(y))\n",
    "# Compute quantiles of the two samples\n",
    "    if isinstance(quantiles, numbers.Integral):\n",
    "        quantiles = np.linspace(start=0, stop=1, num=int(quantiles))\n",
    "    else:\n",
    "        quantiles = np.atleast_1d(np.sort(quantiles))\n",
    "    x_quantiles = np.quantile(x, quantiles, interpolation=interpolation)\n",
    "    y_quantiles = np.quantile(y, quantiles, interpolation=interpolation)\n",
    "# Draw the rug plots if requested\n",
    "    if rug:\n",
    "# Default rug plot settings\n",
    "        rug_x_params = dict(ymin=0, ymax=rug_length, c='gray', alpha=0.5)\n",
    "        rug_y_params = dict(xmin=0, xmax=rug_length, c='gray', alpha=0.5)\n",
    "# Override default setting by any user-specified settings\n",
    "    if rug_kwargs is not None:\n",
    "        rug_x_params.update(rug_kwargs)\n",
    "        rug_y_params.update(rug_kwargs)\n",
    "# Draw the rug plots\n",
    "    #for point in x:\n",
    "    #    ax.axvline(point, **rug_x_params)\n",
    "    for point_ in y:\n",
    "        ax.axhline(point_ **rug_y_params)\n",
    "    print(y)\n",
    "    #for point in x:\n",
    "    #    ax.axvline(point, **rug_x_params)\n",
    "    #[ax.axvline(point, **rug_x_params) for point in x]\n",
    "    #[ax.axhline(point, **rug_y_params) for point in y]\n",
    "# Draw the q-q plot\n",
    "\n",
    "    ax.scatter(x_quantiles, y_quantiles, **kwargs)\n",
    "def abline(slope, intercept):\n",
    "    \"\"\"Plot a line from slope and intercept\"\"\"\n",
    "    axes = plt.gca()\n",
    "    x_vals = np.array(axes.get_xlim())\n",
    "    y_vals = intercept + slope * x_vals\n",
    "    plt.plot(x_vals, y_vals, color='k')"
   ]
  },
  {
   "cell_type": "code",
   "execution_count": 27,
   "metadata": {},
   "outputs": [
    {
     "ename": "TypeError",
     "evalue": "unsupported operand type(s) for ** or pow(): 'float' and 'dict'",
     "output_type": "error",
     "traceback": [
      "\u001b[0;31m---------------------------------------------------------------------------\u001b[0m",
      "\u001b[0;31mTypeError\u001b[0m                                 Traceback (most recent call last)",
      "\u001b[0;32m<ipython-input-27-8970ab15f5c0>\u001b[0m in \u001b[0;36m<module>\u001b[0;34m\u001b[0m\n\u001b[1;32m      6\u001b[0m \u001b[0;34m\u001b[0m\u001b[0m\n\u001b[1;32m      7\u001b[0m \u001b[0;34m\u001b[0m\u001b[0m\n\u001b[0;32m----> 8\u001b[0;31m \u001b[0mqqplot\u001b[0m\u001b[0;34m(\u001b[0m\u001b[0mnino_phi_grad_novolc\u001b[0m\u001b[0;34m,\u001b[0m \u001b[0mnino_phi_grad_volc\u001b[0m\u001b[0;34m,\u001b[0m \u001b[0mc\u001b[0m\u001b[0;34m=\u001b[0m\u001b[0;34m'r'\u001b[0m\u001b[0;34m,\u001b[0m \u001b[0malpha\u001b[0m\u001b[0;34m=\u001b[0m\u001b[0;36m0.5\u001b[0m\u001b[0;34m,\u001b[0m \u001b[0medgecolor\u001b[0m\u001b[0;34m=\u001b[0m\u001b[0;34m'k'\u001b[0m\u001b[0;34m,\u001b[0m \u001b[0mrug\u001b[0m\u001b[0;34m=\u001b[0m\u001b[0;32mTrue\u001b[0m\u001b[0;34m)\u001b[0m\u001b[0;34m\u001b[0m\u001b[0;34m\u001b[0m\u001b[0m\n\u001b[0m\u001b[1;32m      9\u001b[0m \u001b[0mplt\u001b[0m\u001b[0;34m.\u001b[0m\u001b[0mxlabel\u001b[0m\u001b[0;34m(\u001b[0m\u001b[0;34m'ENSO phase speed (NoVolc)'\u001b[0m\u001b[0;34m)\u001b[0m\u001b[0;34m\u001b[0m\u001b[0;34m\u001b[0m\u001b[0m\n\u001b[1;32m     10\u001b[0m \u001b[0mplt\u001b[0m\u001b[0;34m.\u001b[0m\u001b[0mylabel\u001b[0m\u001b[0;34m(\u001b[0m\u001b[0;34m'ENSO phase speed (Volc)'\u001b[0m\u001b[0;34m)\u001b[0m\u001b[0;34m\u001b[0m\u001b[0;34m\u001b[0m\u001b[0m\n",
      "\u001b[0;32m<ipython-input-26-a2d28cfa34f0>\u001b[0m in \u001b[0;36mqqplot\u001b[0;34m(x, y, quantiles, interpolation, ax, rug, rug_length, rug_kwargs, **kwargs)\u001b[0m\n\u001b[1;32m     54\u001b[0m     \u001b[0;31m#    ax.axvline(point, **rug_x_params)\u001b[0m\u001b[0;34m\u001b[0m\u001b[0;34m\u001b[0m\u001b[0;34m\u001b[0m\u001b[0m\n\u001b[1;32m     55\u001b[0m     \u001b[0;32mfor\u001b[0m \u001b[0mpoint_\u001b[0m \u001b[0;32min\u001b[0m \u001b[0my\u001b[0m\u001b[0;34m:\u001b[0m\u001b[0;34m\u001b[0m\u001b[0;34m\u001b[0m\u001b[0m\n\u001b[0;32m---> 56\u001b[0;31m         \u001b[0max\u001b[0m\u001b[0;34m.\u001b[0m\u001b[0maxhline\u001b[0m\u001b[0;34m(\u001b[0m\u001b[0mpoint_\u001b[0m \u001b[0;34m**\u001b[0m\u001b[0mrug_y_params\u001b[0m\u001b[0;34m)\u001b[0m\u001b[0;34m\u001b[0m\u001b[0;34m\u001b[0m\u001b[0m\n\u001b[0m\u001b[1;32m     57\u001b[0m     \u001b[0mprint\u001b[0m\u001b[0;34m(\u001b[0m\u001b[0my\u001b[0m\u001b[0;34m)\u001b[0m\u001b[0;34m\u001b[0m\u001b[0;34m\u001b[0m\u001b[0m\n\u001b[1;32m     58\u001b[0m     \u001b[0;31m#for point in x:\u001b[0m\u001b[0;34m\u001b[0m\u001b[0;34m\u001b[0m\u001b[0;34m\u001b[0m\u001b[0m\n",
      "\u001b[0;31mTypeError\u001b[0m: unsupported operand type(s) for ** or pow(): 'float' and 'dict'"
     ]
    },
    {
     "data": {
      "image/png": "[encoded data removed]",
      "text/plain": [
       "<Figure size 288x288 with 1 Axes>"
      ]
     },
     "metadata": {
      "needs_background": "light"
     },
     "output_type": "display_data"
    }
   ],
   "source": [
    "plt.figure(figsize=(4,4))\n",
    "nino_phi_grad_novolc = np.genfromtxt('nino_hist_grad_novolc.txt')\n",
    "nino_phi_grad_volc = np.genfromtxt('nino_hist_grad_volc.txt')\n",
    "ismr_phi_grad_novolc = np.genfromtxt('ismr_hist_grad_novolc.txt')\n",
    "ismr_phi_grad_volc = np.genfromtxt('ismr_hist_grad_volc.txt')\n",
    "\n",
    "\n",
    "qqplot(nino_phi_grad_novolc, nino_phi_grad_volc, c='r', alpha=0.5, edgecolor='k', rug=True)\n",
    "plt.xlabel('ENSO phase speed (NoVolc)')\n",
    "plt.ylabel('ENSO phase speed (Volc)')\n",
    "plt.title('Q-Q plot of ENSO phase speed')\n",
    "abline(1,0)\n",
    "plt.show()\n",
    "plt.close()"
   ]
  },
  {
   "cell_type": "code",
   "execution_count": 22,
   "metadata": {},
   "outputs": [
    {
     "data": {
      "text/plain": [
       "<Figure size 288x288 with 0 Axes>"
      ]
     },
     "metadata": {},
     "output_type": "display_data"
    },
    {
     "data": {
      "image/png": "[encoded data removed]",
      "text/plain": [
       "<Figure size 432x288 with 1 Axes>"
      ]
     },
     "metadata": {
      "needs_background": "light"
     },
     "output_type": "display_data"
    }
   ],
   "source": [
    "# Draw quantile-quantile plot with rug plot\n",
    "plt.figure(figsize=(4,4))\n",
    "plt.figure()\n",
    "qqplot(ismr_phi_grad_novolc, ismr_phi_grad_volc, c='r', alpha=0.5, edgecolor='k', rug=True)\n",
    "plt.xlabel('ISMR phase speed (NoVolc)')\n",
    "plt.ylabel('ISMR phase speed (Volc)')\n",
    "plt.title('Q-Q plot of ISMR phase speed')\n",
    "abline(1,0)\n",
    "plt.show()\n",
    "plt.close()"
   ]
  },
  {
   "cell_type": "code",
   "execution_count": null,
   "metadata": {},
   "outputs": [],
   "source": []
  },
  {
   "cell_type": "code",
   "execution_count": null,
   "metadata": {},
   "outputs": [],
   "source": []
  }
 ],
 "metadata": {
  "kernelspec": {
   "display_name": "Python 3",
   "language": "python",
   "name": "python3"
  },
  "language_info": {
   "codemirror_mode": {
    "name": "ipython",
    "version": 3
   },
   "file_extension": ".py",
   "mimetype": "text/x-python",
   "name": "python",
   "nbconvert_exporter": "python",
   "pygments_lexer": "ipython3",
   "version": "3.7.4"
  }
 },
 "nbformat": 4,
 "nbformat_minor": 2
}
