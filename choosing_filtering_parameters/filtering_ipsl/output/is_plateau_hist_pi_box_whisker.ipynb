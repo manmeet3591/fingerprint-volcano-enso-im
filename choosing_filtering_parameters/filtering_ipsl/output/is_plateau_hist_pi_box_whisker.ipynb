{
 "cells": [
  {
   "cell_type": "code",
   "execution_count": 7,
   "metadata": {},
   "outputs": [],
   "source": [
    "import numpy as np\n",
    "import matplotlib.pyplot as plt\n",
    "import random\n",
    "import warnings\n",
    "from scipy import stats"
   ]
  },
  {
   "cell_type": "code",
   "execution_count": 8,
   "metadata": {},
   "outputs": [],
   "source": [
    "is_plateau_hist = np.genfromtxt('is_plateau_hist.csv', delimiter=\",\", dtype=float).flatten()\n",
    "is_plateau_pi = np.genfromtxt('is_plateau_pi.csv', delimiter=\",\", dtype=float).flatten()\n",
    "volc = -np.genfromtxt('sigl.txt', delimiter=\",\", dtype=float).flatten()\n",
    "volc_source = np.genfromtxt('volc_source_850_1850.csv', delimiter=\",\", dtype=float).flatten()"
   ]
  },
  {
   "cell_type": "code",
   "execution_count": 9,
   "metadata": {},
   "outputs": [],
   "source": [
    "N=10000\n",
    "win = 240 # window = 20 years\n",
    "is_plateau_hist_dist_1 = np.zeros((N))\n",
    "is_plateau_pi_dist_1 = np.zeros((N))\n",
    "\n",
    "\n",
    "volc_year = 0\n",
    "i = 0\n",
    "while i < N :\n",
    "    rand_year = random.sample(range(0, is_plateau_hist.shape[0]-win), 1)\n",
    "    volc_year = int(np.round(rand_year[0]/12)) \n",
    "    if volc_source[volc_year] != 1.0 : # Tropical Eruptions only\n",
    "        continue\n",
    "    if volc[volc_year] < 3.7 : # Large Volcanic eruptions\n",
    "        continue\n",
    "    is_plateau_hist_window = is_plateau_hist[rand_year[0]:rand_year[0]+win]\n",
    "    is_plateau_hist_dist_1[i] = np.sum(is_plateau_hist_window)\n",
    "    i = i + 1\n",
    "\n",
    "i = 0\n",
    "while i < N :\n",
    "    rand_year = random.sample(range(0, is_plateau_pi.shape[0]-win), 1)\n",
    "    is_plateau_pi_window = is_plateau_pi[rand_year[0]:rand_year[0]+win]\n",
    "    is_plateau_pi_dist_1[i] = np.sum(is_plateau_pi_window)\n",
    "    i = i + 1"
   ]
  },
  {
   "cell_type": "code",
   "execution_count": 15,
   "metadata": {},
   "outputs": [
    {
     "data": {
      "image/png": "[encoded data removed]",
      "text/plain": [
       "<matplotlib.figure.Figure at 0x2b9765bf6e80>"
      ]
     },
     "metadata": {},
     "output_type": "display_data"
    }
   ],
   "source": [
    "import seaborn as sns\n",
    "import pandas as pd\n",
    "ed = pd.DataFrame({ 'group' : np.repeat('Hist (strong tropical eruptions)',10000), 'Frequency of coupling (per 20 years)': is_plateau_hist_dist_1 })\n",
    "lf = pd.DataFrame({ 'group' : np.repeat('PI',10000), 'Frequency of coupling (per 20 years)': is_plateau_pi_dist_1 })\n",
    "df=ed.append(lf)\n",
    "plt.figure(figsize=(10,6))\n",
    "sns.set_style(style='white')\n",
    "sns.boxplot(x='group', y='Frequency of coupling (per 20 years)', data=df)\n",
    "plt.savefig('hist_pi_box_whisker.png', format='png', dpi=1000)"
   ]
  },
  {
   "cell_type": "code",
   "execution_count": 13,
   "metadata": {},
   "outputs": [
    {
     "data": {
      "text/plain": [
       "array([240., 240., 240., ..., 240., 240., 240.])"
      ]
     },
     "execution_count": 13,
     "metadata": {},
     "output_type": "execute_result"
    }
   ],
   "source": [
    "is_plateau_hist_dist_1"
   ]
  },
  {
   "cell_type": "code",
   "execution_count": null,
   "metadata": {},
   "outputs": [],
   "source": []
  },
  {
   "cell_type": "code",
   "execution_count": null,
   "metadata": {},
   "outputs": [],
   "source": []
  }
 ],
 "metadata": {
  "kernelspec": {
   "display_name": "Python 3",
   "language": "python",
   "name": "python3"
  },
  "language_info": {
   "codemirror_mode": {
    "name": "ipython",
    "version": 3
   },
   "file_extension": ".py",
   "mimetype": "text/x-python",
   "name": "python",
   "nbconvert_exporter": "python",
   "pygments_lexer": "ipython3",
   "version": "3.5.6"
  }
 },
 "nbformat": 4,
 "nbformat_minor": 2
}
