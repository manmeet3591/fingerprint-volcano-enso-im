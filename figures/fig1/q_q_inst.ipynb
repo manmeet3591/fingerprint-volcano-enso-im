{
 "cells": [
  {
   "cell_type": "code",
   "execution_count": 1,
   "metadata": {},
   "outputs": [],
   "source": [
    "import numpy as np\n",
    "import datetime as dt\n",
    "from scipy import signal\n",
    "import matplotlib.pyplot as pl\n",
    "import matplotlib.pyplot as plt\n",
    "import matplotlib.dates as mdates\n",
    "import warnings\n",
    "warnings.filterwarnings('ignore')\n",
    "import numbers"
   ]
  },
  {
   "cell_type": "code",
   "execution_count": 2,
   "metadata": {},
   "outputs": [],
   "source": [
    "delphi_inst = np.genfromtxt('delphi_inst.txt', delimiter=\",\", dtype=float)\n",
    "ismr_phi_inst = np.genfromtxt('ismr_phi_inst.txt', delimiter=\",\", dtype=float)\n",
    "nino_phi_inst = np.genfromtxt('nino3_phi_inst.txt', delimiter=\",\", dtype=float)\n",
    "dvolc_years = np.genfromtxt('sigl_years.txt', delimiter=\",\", dtype=float).flatten()[::-1]\n",
    "dvolc_gvf = np.genfromtxt('sigl_gvf.txt', delimiter=\",\", dtype=float).flatten()[::-1]\n",
    "dvolc_source = np.genfromtxt('sigl_source.txt', delimiter=\",\", dtype=float).flatten()[::-1]\n",
    "\n",
    "delphi_inst_grad = np.gradient(delphi_inst)\n",
    "nino_phi_inst_grad = np.gradient(nino_phi_inst)\n",
    "ismr_phi_inst_grad = np.gradient(ismr_phi_inst)"
   ]
  },
  {
   "cell_type": "code",
   "execution_count": 3,
   "metadata": {},
   "outputs": [],
   "source": [
    "def common_time_axis(dismr, verbose=True):\n",
    "    \"\"\"\n",
    "    Generates common time axis for Nino3 and ISMR time series.\n",
    "    \"\"\"\n",
    "    # generate the time axis\n",
    "    Nt = len(dismr)\n",
    "    time = [dt.datetime(1871, 1, 15)]\n",
    "    for i in range(1, len(dismr)):\n",
    "        y = time[i - 1].year\n",
    "        m = time[i - 1].month\n",
    "        if m == 12:\n",
    "            y += 1\n",
    "            m = 0\n",
    "        time.append(dt.datetime(y, m + 1, 15))\n",
    "    time = np.array(time)\n",
    "\n",
    "    return time\n",
    "\n",
    "def yearly_time_axis(dvolc_years, verbose=True):\n",
    "    \"\"\"\n",
    "    Generates time axis for yearly data \n",
    "    \"\"\"\n",
    "    Nt = len(dvolc_years)\n",
    "    time = [dt.datetime(dvolc_years[0], 1, 15)]\n",
    "    for i in range(1, len(dvolc_years)):\n",
    "        time.append(dt.datetime(dvolc_years[i], 1, 15))\n",
    "    time = np.array(time)\n",
    "\n",
    "    return time\n",
    "\n",
    "ct = common_time_axis(ismr_phi_inst)\n",
    "volc_time = yearly_time_axis(dvolc_years.astype(int))"
   ]
  },
  {
   "cell_type": "code",
   "execution_count": 4,
   "metadata": {},
   "outputs": [],
   "source": [
    "# Bootstrapping\n",
    "win = 6\n",
    "nino_phi_grad_volc = []\n",
    "nino_phi_grad_novolc = []\n",
    "ismr_phi_grad_volc = []\n",
    "ismr_phi_grad_novolc = []\n",
    "\n",
    "for i in range(ct.shape[0]):\n",
    "    for j in range(i,volc_time.shape[0]):\n",
    "        cut_dt = dt.datetime(volc_time[j].year + win, volc_time[j].month, volc_time[j].day)\n",
    "        if ct[i] > volc_time[j] and ct[i] < cut_dt:\n",
    "            nino_phi_grad_volc.append(nino_phi_inst_grad[i])\n",
    "            ismr_phi_grad_volc.append(ismr_phi_inst_grad[i])\n",
    "        else:\n",
    "            nino_phi_grad_novolc.append(nino_phi_inst_grad[i])\n",
    "            ismr_phi_grad_novolc.append(ismr_phi_inst_grad[i])"
   ]
  },
  {
   "cell_type": "code",
   "execution_count": 5,
   "metadata": {},
   "outputs": [
    {
     "name": "stdout",
     "output_type": "stream",
     "text": [
      "Ks_2sampResult(statistic=0.3564902137060998, pvalue=3.2781180631488126e-16)\n"
     ]
    }
   ],
   "source": [
    "from scipy import stats\n",
    "nino_phi_grad_volc = np.asarray(nino_phi_grad_volc).flatten()\n",
    "nino_phi_grad_novolc = np.asarray(nino_phi_grad_novolc).flatten()\n",
    "print(stats.ks_2samp(nino_phi_grad_volc, nino_phi_grad_novolc))"
   ]
  },
  {
   "cell_type": "code",
   "execution_count": 6,
   "metadata": {},
   "outputs": [
    {
     "name": "stdout",
     "output_type": "stream",
     "text": [
      "Ks_2sampResult(statistic=0.16966483926504372, pvalue=0.0005314578150323228)\n"
     ]
    }
   ],
   "source": [
    "from scipy import stats\n",
    "ismr_phi_grad_volc = np.asarray(ismr_phi_grad_volc).flatten()\n",
    "ismr_phi_grad_novolc = np.asarray(ismr_phi_grad_novolc).flatten()\n",
    "print(stats.ks_2samp(ismr_phi_grad_volc, ismr_phi_grad_novolc))"
   ]
  },
  {
   "cell_type": "code",
   "execution_count": 7,
   "metadata": {},
   "outputs": [],
   "source": [
    "def qqplot(x, y, quantiles=None, interpolation='nearest', ax=None, rug=False, rug_length=0.05, rug_kwargs=None, **kwargs):\n",
    "    \"\"\"Draw a quantile-quantile plot for `x` versus `y`.\n",
    "    Parameters\n",
    "    ----------\n",
    "    x, y : array-like\n",
    "    One-dimensional numeric arrays.\n",
    "    ax : matplotlib.axes.Axes, optional\n",
    "    Axes on which to plot. If not provided, the current axes will be used.\n",
    "    quantiles : int or array-like, optional\n",
    "    Quantiles to include in the plot. This can be an array of quantiles, in\n",
    "    which case only the specified quantiles of `x` and `y` will be plotted.\n",
    "    If this is an int `n`, then the quantiles will be `n` evenly spaced\n",
    "    points between 0 and 1. If this is None, then `min(len(x), len(y))`\n",
    "    evenly spaced quantiles between 0 and 1 will be computed.\n",
    "    interpolation : {linear, lower, higher, midpoint, nearest}\n",
    "    Specify the interpolation method used to find quantiles when `quantiles`\n",
    "    is an int or None. See the documentation for numpy.quantile().\n",
    "    rug : bool, optional\n",
    "    If True, draw a rug plot representing both samples on the horizontal and\n",
    "    vertical axes. If False, no rug plot is drawn.\n",
    "    rug_length : float in [0, 1], optional\n",
    "    Specifies the length of the rug plot lines as a fraction of the total\n",
    "    vertical or horizontal length.\n",
    "    rug_kwargs : dict of keyword arguments\n",
    "    Keyword arguments to pass to matplotlib.axes.Axes.axvline() and\n",
    "    matplotlib.axes.Axes.axhline() when drawing rug plots.\n",
    "    kwargs : dict of keyword arguments\n",
    "    Keyword arguments to pass to matplotlib.axes.Axes.scatter() when drawing\n",
    "    the q-q plot.\n",
    "    \"\"\"\n",
    "# Get current axes if none are provided\n",
    "    if ax is None:\n",
    "        ax = plt.gca()\n",
    "    if quantiles is None:\n",
    "        quantiles = min(len(x), len(y))\n",
    "# Compute quantiles of the two samples\n",
    "    if isinstance(quantiles, numbers.Integral):\n",
    "        quantiles = np.linspace(start=0, stop=1, num=int(quantiles))\n",
    "    else:\n",
    "        quantiles = np.atleast_1d(np.sort(quantiles))\n",
    "    x_quantiles = np.quantile(x, quantiles, interpolation=interpolation)\n",
    "    y_quantiles = np.quantile(y, quantiles, interpolation=interpolation)\n",
    "# Draw the rug plots if requested\n",
    "    if rug:\n",
    "# Default rug plot settings\n",
    "        rug_x_params = dict(ymin=0, ymax=rug_length, c='gray', alpha=0.5)\n",
    "        rug_y_params = dict(xmin=0, xmax=rug_length, c='gray', alpha=0.5)\n",
    "# Override default setting by any user-specified settings\n",
    "    if rug_kwargs is not None:\n",
    "        rug_x_params.update(rug_kwargs)\n",
    "        rug_y_params.update(rug_kwargs)\n",
    "# Draw the rug plots\n",
    "    for point in x:\n",
    "        ax.axvline(point, **rug_x_params)\n",
    "    for point in y:\n",
    "        ax.axhline(point, **rug_y_params)\n",
    "# Draw the q-q plot\n",
    "\n",
    "    ax.scatter(x_quantiles, y_quantiles, **kwargs)\n",
    "def abline(slope, intercept):\n",
    "    \"\"\"Plot a line from slope and intercept\"\"\"\n",
    "    axes = plt.gca()\n",
    "    x_vals = np.array(axes.get_xlim())\n",
    "    y_vals = intercept + slope * x_vals\n",
    "    plt.plot(x_vals, y_vals, color='k')"
   ]
  },
  {
   "cell_type": "code",
   "execution_count": 21,
   "metadata": {},
   "outputs": [
    {
     "data": {
      "image/png": "[encoded data removed]",
      "text/plain": [
       "<Figure size 288x288 with 1 Axes>"
      ]
     },
     "metadata": {
      "needs_background": "light"
     },
     "output_type": "display_data"
    }
   ],
   "source": [
    "plt.figure(figsize=(4,4))\n",
    "qqplot(nino_phi_grad_novolc, nino_phi_grad_volc, c='r', alpha=0.5, edgecolor='k', rug=True)\n",
    "plt.xlabel('ENSO phase speed (NoVolc)')\n",
    "plt.ylabel('ENSO phase speed (Volc)')\n",
    "plt.title('Q-Q plot of ENSO phase speed')\n",
    "abline(1,0)\n",
    "plt.show()\n",
    "plt.close()"
   ]
  },
  {
   "cell_type": "code",
   "execution_count": 22,
   "metadata": {},
   "outputs": [
    {
     "data": {
      "text/plain": [
       "<Figure size 288x288 with 0 Axes>"
      ]
     },
     "metadata": {},
     "output_type": "display_data"
    },
    {
     "data": {
      "image/png": "[encoded data removed]",
      "text/plain": [
       "<Figure size 432x288 with 1 Axes>"
      ]
     },
     "metadata": {
      "needs_background": "light"
     },
     "output_type": "display_data"
    }
   ],
   "source": [
    "# Draw quantile-quantile plot with rug plot\n",
    "plt.figure(figsize=(4,4))\n",
    "plt.figure()\n",
    "qqplot(ismr_phi_grad_novolc, ismr_phi_grad_volc, c='r', alpha=0.5, edgecolor='k', rug=True)\n",
    "plt.xlabel('ISMR phase speed (NoVolc)')\n",
    "plt.ylabel('ISMR phase speed (Volc)')\n",
    "plt.title('Q-Q plot of ISMR phase speed')\n",
    "abline(1,0)\n",
    "plt.show()\n",
    "plt.close()"
   ]
  },
  {
   "cell_type": "code",
   "execution_count": null,
   "metadata": {},
   "outputs": [],
   "source": []
  }
 ],
 "metadata": {
  "kernelspec": {
   "display_name": "Python 3",
   "language": "python",
   "name": "python3"
  },
  "language_info": {
   "codemirror_mode": {
    "name": "ipython",
    "version": 3
   },
   "file_extension": ".py",
   "mimetype": "text/x-python",
   "name": "python",
   "nbconvert_exporter": "python",
   "pygments_lexer": "ipython3",
   "version": "3.5.6"
  }
 },
 "nbformat": 4,
 "nbformat_minor": 2
}
