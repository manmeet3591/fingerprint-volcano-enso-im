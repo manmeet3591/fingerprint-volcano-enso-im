{
 "cells": [
  {
   "cell_type": "code",
   "execution_count": 1,
   "metadata": {},
   "outputs": [],
   "source": [
    "from __future__ import print_function, division\n",
    "\n",
    "%matplotlib inline\n",
    "import matplotlib.pyplot as plt\n",
    "import numpy as np\n",
    "import pandas as pd\n",
    "import seaborn as sns\n",
    "import datetime as dt\n",
    "import warnings\n",
    "warnings.filterwarnings(\"ignore\")\n",
    "import random\n",
    "import warnings\n",
    "warnings.filterwarnings('ignore')\n",
    "sns.set()"
   ]
  },
  {
   "cell_type": "code",
   "execution_count": 2,
   "metadata": {},
   "outputs": [
    {
     "name": "stdout",
     "output_type": "stream",
     "text": [
      "(1104,)\n"
     ]
    }
   ],
   "source": [
    "nino3 = np.genfromtxt ('enso_900_2002_1.txt', delimiter=\",\")\n",
    "ismr = np.genfromtxt ('sasmi_norm_900_2002.txt', delimiter=\",\")\n",
    "dvolc = np.genfromtxt ('sigl.txt', delimiter=\",\")\n",
    "dvolc_source = np.genfromtxt('volc_source_850_1850.csv', delimiter=\",\", dtype=float).flatten()\n",
    "print(nino3.shape)\n"
   ]
  },
  {
   "cell_type": "code",
   "execution_count": 3,
   "metadata": {},
   "outputs": [],
   "source": [
    "dvolc_tropical = dvolc.copy()\n",
    "dvolc_nh = dvolc.copy()\n",
    "dvolc_sh = dvolc.copy()\n",
    "\n",
    "is_tropical = np.zeros((dvolc.shape[0]))\n",
    "is_nh = np.zeros((dvolc.shape[0]))\n",
    "is_sh = np.zeros((dvolc.shape[0]))\n",
    "\n",
    "is_tropical[dvolc_source==1.0] = 1.0\n",
    "is_nh[dvolc_source==2.0] = 1.0\n",
    "is_sh[dvolc_source==3.0] = 1.0\n",
    "\n",
    "for i in range(dvolc.shape[0]):\n",
    "    #print(\"i = \", i)\n",
    "    dvolc_tropical[i] = dvolc[i] * is_tropical[i]\n",
    "    dvolc_nh[i] = dvolc[i] * is_nh[i]\n",
    "    dvolc_sh[i] = dvolc_sh[i] * is_sh[i]"
   ]
  },
  {
   "cell_type": "code",
   "execution_count": 4,
   "metadata": {},
   "outputs": [],
   "source": [
    "nino3_900_1850 = nino3[1:952]\n",
    "ismr_900_1850 = ismr[1:952]\n",
    "vrf_900_1850 = dvolc[50:]\n",
    "vrf_source_900_1850 = dvolc_source[50:]"
   ]
  },
  {
   "cell_type": "code",
   "execution_count": 5,
   "metadata": {},
   "outputs": [],
   "source": [
    "N=10000\n",
    "volc_year = 0\n",
    "i = 0\n",
    "win = 20\n",
    "year_after_eruption = np.zeros((N))\n",
    "existing_state = np.zeros((N))\n",
    "year_before_eruption = np.zeros((N))\n",
    "\n",
    "ismr_year_after_eruption_before_el_nino = np.zeros((N))\n",
    "ismr_year_after_eruption_before_neutral = np.zeros((N))\n",
    "ismr_year_after_eruption_before_la_nina = np.zeros((N))\n",
    "\n",
    "nino3_year_after_eruption_before_el_nino = np.zeros((N))\n",
    "nino3_year_after_eruption_before_neutral = np.zeros((N))\n",
    "nino3_year_after_eruption_before_la_nina = np.zeros((N))\n",
    "\n",
    "phase_coh = np.zeros((N))\n",
    "ed = np.zeros((N))\n",
    "lf = np.zeros((N))\n",
    "\n",
    "while i < N :\n",
    "    rand_year = random.sample(range(0, vrf_900_1850.shape[0]-win), 1)\n",
    "    if vrf_source_900_1850[rand_year[0]] != 3.0 : # SH Eruptions only\n",
    "        continue\n",
    "    #if abs(vrf_900_1850[rand_year[0]]) < 3.7:\n",
    "    #    continue\n",
    "    #print(rand_year[0]+900)\n",
    "    if nino3_900_1850[rand_year[0]-1] >0.5: # before the eruption year : el nino\n",
    "        continue\n",
    "    ismr_year_after_eruption_before_el_nino[i] = ismr_900_1850[rand_year[0]+1]\n",
    "    nino3_year_after_eruption_before_el_nino[i] = nino3_900_1850[rand_year[0]+1]\n",
    "    i = i + 1"
   ]
  },
  {
   "cell_type": "code",
   "execution_count": 7,
   "metadata": {},
   "outputs": [
    {
     "data": {
      "text/plain": [
       "<matplotlib.legend.Legend at 0x2b91a4570160>"
      ]
     },
     "execution_count": 7,
     "metadata": {},
     "output_type": "execute_result"
    },
    {
     "data": {
      "image/png": "[encoded data removed]",
      "text/plain": [
       "<matplotlib.figure.Figure at 0x2b91a4550d68>"
      ]
     },
     "metadata": {
      "needs_background": "light"
     },
     "output_type": "display_data"
    }
   ],
   "source": [
    "#import pandas as pd\n",
    "\n",
    "#df1 = pd.DataFrame({ 'group' : np.repeat('Nino3',N), 'Anomaly': nino3_year_after_eruption_before_el_nino })\n",
    "#df2 = pd.DataFrame({ 'group' : np.repeat('ISMR',N), 'Anomaly':  ismr_year_after_eruption_before_el_nino})\n",
    "\n",
    "#df=df1.append(df2)\n",
    "#plt.figure(figsize=(10,6))\n",
    "#sns.set_style(style='white')\n",
    "#sns.boxplot(x='group', y='Anomaly', data=df)\n",
    "#plt.title('State after strong Tropical Eruptions (State before  eruption year El Nino)')\n",
    "#plt.ylim([-2.5,3])\n",
    "#plt.grid()\n",
    "\n",
    "values_pi, bins_hist, _ = plt.hist([nino3_year_after_eruption_before_el_nino, ismr_year_after_eruption_before_el_nino], normed=True, bins='fd', alpha=0.5, label=['nino3_year_after_eruption_before_el_nino', 'ismr_year_after_eruption_before_el_nino'])\n",
    "#values_pi_null, _, _ = plt.hist(ismr_year_after_eruption_before_el_nino, normed=True, bins=bins_hist, alpha=0.5, label='ismr_year_after_eruption_before_el_nino')\n",
    "plt.legend()\n",
    "#plt.hist(nino3_year_after_eruption_before_el_nino, bins=100)\n",
    "#print(ismr_year_after_eruption_before_el_nino)"
   ]
  },
  {
   "cell_type": "code",
   "execution_count": 8,
   "metadata": {},
   "outputs": [],
   "source": [
    "N=10000\n",
    "volc_year = 0\n",
    "i = 0\n",
    "win = 20\n",
    "year_after_eruption = np.zeros((N))\n",
    "existing_state = np.zeros((N))\n",
    "year_before_eruption = np.zeros((N))\n",
    "\n",
    "ismr_year_after_eruption_before_el_nino = np.zeros((N))\n",
    "ismr_year_after_eruption_before_neutral = np.zeros((N))\n",
    "ismr_year_after_eruption_before_la_nina = np.zeros((N))\n",
    "\n",
    "nino3_year_after_eruption_before_el_nino = np.zeros((N))\n",
    "nino3_year_after_eruption_before_neutral = np.zeros((N))\n",
    "nino3_year_after_eruption_before_la_nina = np.zeros((N))\n",
    "\n",
    "phase_coh = np.zeros((N))\n",
    "ed = np.zeros((N))\n",
    "lf = np.zeros((N))\n",
    "\n",
    "while i < N :\n",
    "    rand_year = random.sample(range(0, vrf_900_1850.shape[0]-win), 1)\n",
    "    if vrf_source_900_1850[rand_year[0]] != 3.0 : # SH Eruptions only\n",
    "        continue\n",
    "    #if abs(vrf_900_1850[rand_year[0]]) < 3.7:\n",
    "    #    continue\n",
    "    #print(rand_year[0]+900)\n",
    "    if nino3_900_1850[rand_year[0]-1] <-0.5: # before the eruption year : la nina\n",
    "        continue\n",
    "    ismr_year_after_eruption_before_la_nina[i] = ismr_900_1850[rand_year[0]+1]\n",
    "    nino3_year_after_eruption_before_la_nina[i] = nino3_900_1850[rand_year[0]+1]\n",
    "    i = i + 1"
   ]
  },
  {
   "cell_type": "code",
   "execution_count": 10,
   "metadata": {},
   "outputs": [
    {
     "data": {
      "text/plain": [
       "<matplotlib.legend.Legend at 0x2b91a6829898>"
      ]
     },
     "execution_count": 10,
     "metadata": {},
     "output_type": "execute_result"
    },
    {
     "data": {
      "image/png": "[encoded data removed]",
      "text/plain": [
       "<matplotlib.figure.Figure at 0x2b91a6829a58>"
      ]
     },
     "metadata": {
      "needs_background": "light"
     },
     "output_type": "display_data"
    }
   ],
   "source": [
    "#import pandas as pd\n",
    "\n",
    "#df1 = pd.DataFrame({ 'group' : np.repeat('Nino3',N), 'Anomaly': nino3_year_after_eruption_before_la_nina })\n",
    "#df2 = pd.DataFrame({ 'group' : np.repeat('ISMR',N), 'Anomaly':  ismr_year_after_eruption_before_la_nina})\n",
    "\n",
    "#df=df1.append(df2)\n",
    "#plt.figure(figsize=(10,6))\n",
    "#sns.set_style(style='white')\n",
    "#sns.boxplot(x='group', y='Anomaly', data=df)\n",
    "#plt.title('State after strong Tropical Eruptions (State before  eruption year La Nina)')\n",
    "#plt.ylim([-2.5,3])\n",
    "#plt.grid()\n",
    "\n",
    "values_pi, bins_hist, _ = plt.hist([nino3_year_after_eruption_before_la_nina, ismr_year_after_eruption_before_la_nina], normed=True, bins='fd', alpha=0.5, label=['nino3_year_after_eruption_before_la_nina', 'ismr_year_after_eruption_before_la_nina'])\n",
    "#values_pi_null, _, _ = plt.hist(ismr_year_after_eruption_before_el_nino, normed=True, bins=bins_hist, alpha=0.5, label='ismr_year_after_eruption_before_el_nino')\n",
    "plt.legend()\n",
    "#plt.hist(nino3_year_after_eruption_before_el_nino, bins=100)\n",
    "#print(ismr_year_after_eruption_before_el_nino)"
   ]
  },
  {
   "cell_type": "code",
   "execution_count": 11,
   "metadata": {},
   "outputs": [],
   "source": [
    "N=10000\n",
    "volc_year = 0\n",
    "i = 0\n",
    "win = 20\n",
    "year_after_eruption = np.zeros((N))\n",
    "existing_state = np.zeros((N))\n",
    "year_before_eruption = np.zeros((N))\n",
    "\n",
    "ismr_year_after_eruption_before_el_nino = np.zeros((N))\n",
    "ismr_year_after_eruption_before_neutral = np.zeros((N))\n",
    "ismr_year_after_eruption_before_la_nina = np.zeros((N))\n",
    "\n",
    "nino3_year_after_eruption_before_el_nino = np.zeros((N))\n",
    "nino3_year_after_eruption_before_neutral = np.zeros((N))\n",
    "nino3_year_after_eruption_before_la_nina = np.zeros((N))\n",
    "\n",
    "phase_coh = np.zeros((N))\n",
    "ed = np.zeros((N))\n",
    "lf = np.zeros((N))\n",
    "\n",
    "while i < N :\n",
    "    rand_year = random.sample(range(0, vrf_900_1850.shape[0]-win), 1)\n",
    "    if vrf_source_900_1850[rand_year[0]] != 3.0 : # SH Eruptions only\n",
    "        continue\n",
    "    #if abs(vrf_900_1850[rand_year[0]]) < 3.7:\n",
    "    #    continue\n",
    "    #print(rand_year[0]+900)\n",
    "    if -0.5< nino3_900_1850[rand_year[0]-1] <0.5: # before the eruption year : neutral\n",
    "        continue\n",
    "    ismr_year_after_eruption_before_neutral[i] = ismr_900_1850[rand_year[0]+1]\n",
    "    nino3_year_after_eruption_before_neutral[i] = nino3_900_1850[rand_year[0]+1]\n",
    "    i = i + 1"
   ]
  },
  {
   "cell_type": "code",
   "execution_count": 12,
   "metadata": {},
   "outputs": [
    {
     "data": {
      "text/plain": [
       "<matplotlib.legend.Legend at 0x2b91a689dac8>"
      ]
     },
     "execution_count": 12,
     "metadata": {},
     "output_type": "execute_result"
    },
    {
     "data": {
      "image/png": "[encoded data removed]",
      "text/plain": [
       "<matplotlib.figure.Figure at 0x2b91a689db00>"
      ]
     },
     "metadata": {
      "needs_background": "light"
     },
     "output_type": "display_data"
    }
   ],
   "source": [
    "#import pandas as pd\n",
    "\n",
    "#df1 = pd.DataFrame({ 'group' : np.repeat('Nino3',N), 'Anomaly': nino3_year_after_eruption_before_neutral })\n",
    "#df2 = pd.DataFrame({ 'group' : np.repeat('ISMR',N), 'Anomaly':  ismr_year_after_eruption_before_neutral})\n",
    "\n",
    "#df=df1.append(df2)\n",
    "#plt.figure(figsize=(10,6))\n",
    "#sns.set_style(style='white')\n",
    "#sns.boxplot(x='group', y='Anomaly', data=df)\n",
    "#plt.title('State after strong Tropical Eruptions (State before  eruption year Neutral)')\n",
    "#plt.ylim([-2.5,3])\n",
    "#plt.grid()\n",
    "\n",
    "values_pi, bins_hist, _ = plt.hist([ismr_year_after_eruption_before_neutral, nino3_year_after_eruption_before_neutral], normed=True, bins='fd', alpha=0.5, label=['ismr_year_after_eruption_before_neutral', 'nino3_year_after_eruption_before_neutral'])\n",
    "#values_pi_null, _, _ = plt.hist(ismr_year_after_eruption_before_el_nino, normed=True, bins=bins_hist, alpha=0.5, label='ismr_year_after_eruption_before_el_nino')\n",
    "plt.legend()\n",
    "#plt.hist(nino3_year_after_eruption_before_el_nino, bins=100)\n",
    "#print(ismr_year_after_eruption_before_el_nino)"
   ]
  },
  {
   "cell_type": "code",
   "execution_count": 14,
   "metadata": {},
   "outputs": [
    {
     "data": {
      "text/plain": [
       "4"
      ]
     },
     "execution_count": 14,
     "metadata": {},
     "output_type": "execute_result"
    }
   ],
   "source": [
    "np.sum((vrf_source_900_1850== 2.0)  & (abs(vrf_900_1850) > 3.7))"
   ]
  },
  {
   "cell_type": "code",
   "execution_count": 17,
   "metadata": {},
   "outputs": [
    {
     "data": {
      "text/plain": [
       "24"
      ]
     },
     "execution_count": 17,
     "metadata": {},
     "output_type": "execute_result"
    }
   ],
   "source": [
    "np.sum((vrf_source_900_1850== 3.0))"
   ]
  },
  {
   "cell_type": "code",
   "execution_count": 24,
   "metadata": {},
   "outputs": [
    {
     "name": "stdout",
     "output_type": "stream",
     "text": [
      "33\n"
     ]
    }
   ],
   "source": [
    "count=0\n",
    "for i in range(1,nino3_900_1850.shape[0]):\n",
    "    if (abs(vrf_900_1850[i]) > 0.1):\n",
    "        #if (nino3_900_1850[i-1] > -0.5) & (nino3_900_1850[i-1] < 0.5):\n",
    "        if (nino3_900_1850[i-1] > 0.5):\n",
    "            count = count + 1\n",
    "print(count)"
   ]
  },
  {
   "cell_type": "code",
   "execution_count": null,
   "metadata": {},
   "outputs": [],
   "source": []
  }
 ],
 "metadata": {
  "kernelspec": {
   "display_name": "Python 3",
   "language": "python",
   "name": "python3"
  },
  "language_info": {
   "codemirror_mode": {
    "name": "ipython",
    "version": 3
   },
   "file_extension": ".py",
   "mimetype": "text/x-python",
   "name": "python",
   "nbconvert_exporter": "python",
   "pygments_lexer": "ipython3",
   "version": "3.5.6"
  }
 },
 "nbformat": 4,
 "nbformat_minor": 2
}
