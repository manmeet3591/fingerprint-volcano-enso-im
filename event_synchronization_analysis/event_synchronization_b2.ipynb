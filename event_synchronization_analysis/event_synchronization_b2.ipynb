{
 "cells": [
  {
   "cell_type": "markdown",
   "metadata": {},
   "source": [
    "Event Synchronization Analysis following \n",
    "https://github.com/pik-copan/pyunicorn/blob/master/tests/test_funcnet/TestEventSyncronization.py\n",
    "and \n",
    "https://vis.caltech.edu/~rodri/papers/event_synchro.pdf"
   ]
  },
  {
   "cell_type": "code",
   "execution_count": 1,
   "metadata": {},
   "outputs": [],
   "source": [
    "import sys, string\n",
    "from matplotlib import rc\n",
    "import numpy as np\n",
    "import pylab as pl\n",
    "import netCDF4\n",
    "import time as t\n",
    "import datetime\n",
    "from dateutil.parser import parse\n",
    "from pylab import load, meshgrid, title, arange, show\n",
    "from netcdftime import utime\n",
    "import scipy.io\n",
    "import matplotlib as mpl\n",
    "import argparse\n",
    "from matplotlib.dates import MonthLocator, WeekdayLocator, DateFormatter\n",
    "import datetime as dt\n",
    "from netCDF4 import num2date, date2num\n",
    "import random\n",
    "from scipy.stats import hypergeom\n",
    "#import Nio\n",
    "#from pyhdf.SD import SD"
   ]
  },
  {
   "cell_type": "code",
   "execution_count": 10,
   "metadata": {},
   "outputs": [],
   "source": [
    "def EventSync(es1, es2, taumax):\n",
    "    \"\"\"\n",
    "    Compute non-vectorized event synchronization\n",
    "    :type es1: 1D Numpy array\n",
    "    :arg es1: Event series containing '0's and '1's\n",
    "    :type es2: 1D Numpy array\n",
    "    :arg es2: Event series containing '0's and '1's\n",
    "    :float return: Event synchronization es2 to es1\n",
    "    \"\"\"\n",
    "    ex = np.arange(len(es1))[es1 == 1]\n",
    "    ey = np.arange(len(es2))[es2 == 1]\n",
    "    lx = len(ex)\n",
    "    ly = len(ey)\n",
    "\n",
    "    count = 0\n",
    "    for m in range(1, lx-1):\n",
    "        for n in range(1, ly-1):\n",
    "            dst = ex[m] - ey[n]\n",
    "\n",
    "            if abs(dst) > taumax:\n",
    "                continue\n",
    "            elif dst == 0:\n",
    "                count += 0.5\n",
    "                continue\n",
    "\n",
    "            # finding the dynamical delay tau\n",
    "            tmp = ex[m+1] - ex[m]\n",
    "            if tmp > ex[m] - ex[m-1]:\n",
    "                tmp = ex[m] - ex[m-1]\n",
    "            tau = ey[n+1] - ey[n]\n",
    "            if tau > ey[n] - ey[n-1]:\n",
    "                tau = ey[n] - ey[n-1]\n",
    "            if tau > tmp:\n",
    "                tau = tmp\n",
    "            tau = tau / 2\n",
    "\n",
    "            if dst > 0 and dst <= tau:\n",
    "                count += 1\n",
    "\n",
    "    #return count / np.sqrt((lx-2) * (ly-2))\n",
    "    return hyper_normalization(count)\n",
    "def common_time_axis(dismr, verbose=True):\n",
    "    \"\"\"\n",
    "    Generates common time axis for Nino3 and ISMR time series.\n",
    "    \"\"\"\n",
    "    # generate the time axis\n",
    "    Nt = len(dismr)\n",
    "    time = [dt.datetime(854, 1, 15)]\n",
    "    for i in range(1, len(dismr)):\n",
    "        y = time[i - 1].year\n",
    "        m = time[i - 1].month\n",
    "        if m == 12:\n",
    "            y += 1\n",
    "            m = 0\n",
    "        time.append(dt.datetime(y, m + 1, 15))\n",
    "    time = np.array(time)\n",
    "    \n",
    "def my_shuffle(array):\n",
    "    random.shuffle(array)\n",
    "    return array\n",
    "def hyper_normalization(x):\n",
    "    M = len(x)\n",
    "    N = 1 \n",
    "    n = np.sum(x) \n",
    "    rv = hypergeom(M, n, N)\n",
    "    return rv"
   ]
  },
  {
   "cell_type": "code",
   "execution_count": 11,
   "metadata": {},
   "outputs": [
    {
     "name": "stdout",
     "output_type": "stream",
     "text": [
      "(11964,)\n",
      "(11964,)\n",
      "(11964,)\n"
     ]
    }
   ],
   "source": [
    "plv_pi = np.genfromtxt ('plv_pi.csv', delimiter=\",\")\n",
    "plv_hist = np.genfromtxt ('plv_hist.csv', delimiter=\",\")[:11964,]\n",
    "plv_99p_pi = np.genfromtxt('plv_95p_pmip3_ipsl_pi.csv', delimiter=\",\")\n",
    "plv_99p_hist = np.genfromtxt('plv_95p_pmip3_ipsl_hist.csv', delimiter=\",\")[:11964,]\n",
    "volc_sigl = -1*np.genfromtxt ('sigl.txt', delimiter=\",\")\n",
    "\n",
    "volc_data = volc_sigl[1:997]\n",
    "volc_data_mon = np.zeros((997*12))\n",
    "volc_data_mon[0:6] = volc_data[0]\n",
    "volc_data_mon[11958:11964] = volc_data[-1]\n",
    "for yyyy in range(995):\n",
    "    #print(yyyy)\n",
    "    volc_data_mon[6+yyyy*12:18+yyyy*12] = volc_data[1+yyyy]\n",
    "\n",
    "print(plv_99p_pi.shape)\n",
    "print(plv_99p_hist.shape)\n",
    "print(volc_data_mon.shape)"
   ]
  },
  {
   "cell_type": "code",
   "execution_count": 4,
   "metadata": {},
   "outputs": [
    {
     "name": "stdout",
     "output_type": "stream",
     "text": [
      "936.0\n",
      "1090.0\n",
      "348.0\n"
     ]
    }
   ],
   "source": [
    "es_pi = np.zeros((plv_pi.shape[0]))\n",
    "es_hist = np.zeros((plv_hist.shape[0]))\n",
    "es_volc =np.zeros((volc_data_mon.shape[0]))\n",
    "\n",
    "es_pi[plv_pi>=plv_99p_pi] = 1.0\n",
    "es_hist[plv_hist>=plv_99p_hist] = 1.0\n",
    "es_volc[volc_data_mon>=3.7] = 1.0\n",
    "\n",
    "print(np.sum(es_pi))\n",
    "print(np.sum(es_hist))\n",
    "print(np.sum(es_volc))\n",
    "\n",
    "#print(max(plv_hist))\n",
    "#print(plv_99p_hist)\n",
    "#Testing random shuffle\n",
    "\n",
    "#def my_shuffle(array):\n",
    "#    random.shuffle(array)\n",
    "#    return array\n",
    "#test=np.zeros(5)\n",
    "#for i in range(5):\n",
    "#    test[i]=i\n",
    "#import random\n",
    "#print(test)\n",
    "#print(my_shuffle(test))"
   ]
  },
  {
   "cell_type": "code",
   "execution_count": null,
   "metadata": {
    "scrolled": true
   },
   "outputs": [
    {
     "name": "stderr",
     "output_type": "stream",
     "text": [
      "/iitm2/cccr-res/msingh/anaconda3/envs/py35/lib/python3.5/site-packages/ipykernel_launcher.py:40: RuntimeWarning: invalid value encountered in sqrt\n",
      "/iitm2/cccr-res/msingh/anaconda3/envs/py35/lib/python3.5/site-packages/ipykernel_launcher.py:40: RuntimeWarning: invalid value encountered in double_scalars\n"
     ]
    },
    {
     "name": "stdout",
     "output_type": "stream",
     "text": [
      "iteration 0\n",
      "iteration 1\n",
      "iteration 2\n"
     ]
    }
   ],
   "source": [
    "taumax = 60\n",
    "N = 10000\n",
    "#Q_pi = EventSync(es_pi, es_volc, taumax) + EventSync(es_volc, es_pi, taumax)\n",
    "#Q_hist = EventSync(es_hist, es_volc, taumax) + EventSync(es_volc, es_hist, taumax)\n",
    "#print(Q_pi)\n",
    "#print(Q_hist)\n",
    "Q_pi = np.zeros((es_pi.shape[0]-taumax))\n",
    "Q_hist = np.zeros((es_hist.shape[0]-taumax))\n",
    "Q_pi_mc = np.zeros((es_pi.shape[0]-taumax,N))\n",
    "Q_hist_mc = np.zeros((es_hist.shape[0]-taumax,N))\n",
    "es_pi_mc = np.zeros((plv_pi.shape[0]))\n",
    "es_hist_mc = np.zeros((plv_hist.shape[0]))\n",
    "\n",
    "for i in range(es_pi.shape[0]-taumax):\n",
    "    Q_pi[i] = EventSync(es_pi[i:i+taumax], es_volc[i:i+taumax], taumax) + EventSync(es_volc[i:i+taumax], es_pi[i:i+taumax],taumax)\n",
    "    Q_hist[i] = EventSync(es_hist[i:i+taumax], es_volc[i:i+taumax], taumax) + EventSync(es_volc[i:i+taumax], es_hist[i:i+taumax],taumax)\n",
    "\n",
    "# Calculating p99 and p95 values using Monte Carlo simulation\n",
    "for n in range(N):\n",
    "    print(\"iteration\",n)\n",
    "    for i in range(es_pi.shape[0]-taumax):\n",
    "        es_pi_mc   = my_shuffle(es_pi)\n",
    "        es_hist_mc = my_shuffle(es_hist)\n",
    "        Q_pi_mc[i,n]   = EventSync(es_pi_mc[i:i+taumax], es_volc[i:i+taumax], taumax) + EventSync(es_volc[i:i+taumax], es_pi_mc[i:i+taumax],taumax)\n",
    "        Q_hist_mc[i,n] = EventSync(es_hist_mc[i:i+taumax], es_volc[i:i+taumax], taumax) + EventSync(es_volc[i:i+taumax], es_hist_mc[i:i+taumax],taumax)\n",
    "\n"
   ]
  },
  {
   "cell_type": "code",
   "execution_count": 12,
   "metadata": {},
   "outputs": [
    {
     "ename": "TypeError",
     "evalue": "object of type 'float' has no len()",
     "output_type": "error",
     "traceback": [
      "\u001b[0;31m---------------------------------------------------------------------------\u001b[0m",
      "\u001b[0;31mTypeError\u001b[0m                                 Traceback (most recent call last)",
      "\u001b[0;32m<ipython-input-12-8bfeb0b12b37>\u001b[0m in \u001b[0;36m<module>\u001b[0;34m()\u001b[0m\n\u001b[1;32m      1\u001b[0m \u001b[0mtaumax\u001b[0m \u001b[0;34m=\u001b[0m \u001b[0;36m60\u001b[0m\u001b[0;34m\u001b[0m\u001b[0m\n\u001b[0;32m----> 2\u001b[0;31m \u001b[0mQ_pi\u001b[0m \u001b[0;34m=\u001b[0m \u001b[0mEventSync\u001b[0m\u001b[0;34m(\u001b[0m\u001b[0mes_pi\u001b[0m\u001b[0;34m,\u001b[0m \u001b[0mes_volc\u001b[0m\u001b[0;34m,\u001b[0m \u001b[0mtaumax\u001b[0m\u001b[0;34m)\u001b[0m \u001b[0;34m+\u001b[0m \u001b[0mEventSync\u001b[0m\u001b[0;34m(\u001b[0m\u001b[0mes_volc\u001b[0m\u001b[0;34m,\u001b[0m \u001b[0mes_pi\u001b[0m\u001b[0;34m,\u001b[0m \u001b[0mtaumax\u001b[0m\u001b[0;34m)\u001b[0m\u001b[0;34m\u001b[0m\u001b[0m\n\u001b[0m",
      "\u001b[0;32m<ipython-input-10-9d3b48ebb855>\u001b[0m in \u001b[0;36mEventSync\u001b[0;34m(es1, es2, taumax)\u001b[0m\n\u001b[1;32m     39\u001b[0m \u001b[0;34m\u001b[0m\u001b[0m\n\u001b[1;32m     40\u001b[0m     \u001b[0;31m#return count / np.sqrt((lx-2) * (ly-2))\u001b[0m\u001b[0;34m\u001b[0m\u001b[0;34m\u001b[0m\u001b[0m\n\u001b[0;32m---> 41\u001b[0;31m     \u001b[0;32mreturn\u001b[0m \u001b[0mhyper_normalization\u001b[0m\u001b[0;34m(\u001b[0m\u001b[0mcount\u001b[0m\u001b[0;34m)\u001b[0m\u001b[0;34m\u001b[0m\u001b[0m\n\u001b[0m\u001b[1;32m     42\u001b[0m \u001b[0;32mdef\u001b[0m \u001b[0mcommon_time_axis\u001b[0m\u001b[0;34m(\u001b[0m\u001b[0mdismr\u001b[0m\u001b[0;34m,\u001b[0m \u001b[0mverbose\u001b[0m\u001b[0;34m=\u001b[0m\u001b[0;32mTrue\u001b[0m\u001b[0;34m)\u001b[0m\u001b[0;34m:\u001b[0m\u001b[0;34m\u001b[0m\u001b[0m\n\u001b[1;32m     43\u001b[0m     \"\"\"\n",
      "\u001b[0;32m<ipython-input-10-9d3b48ebb855>\u001b[0m in \u001b[0;36mhyper_normalization\u001b[0;34m(x)\u001b[0m\n\u001b[1;32m     60\u001b[0m     \u001b[0;32mreturn\u001b[0m \u001b[0marray\u001b[0m\u001b[0;34m\u001b[0m\u001b[0m\n\u001b[1;32m     61\u001b[0m \u001b[0;32mdef\u001b[0m \u001b[0mhyper_normalization\u001b[0m\u001b[0;34m(\u001b[0m\u001b[0mx\u001b[0m\u001b[0;34m)\u001b[0m\u001b[0;34m:\u001b[0m\u001b[0;34m\u001b[0m\u001b[0m\n\u001b[0;32m---> 62\u001b[0;31m     \u001b[0mM\u001b[0m \u001b[0;34m=\u001b[0m \u001b[0mlen\u001b[0m\u001b[0;34m(\u001b[0m\u001b[0mx\u001b[0m\u001b[0;34m)\u001b[0m\u001b[0;34m\u001b[0m\u001b[0m\n\u001b[0m\u001b[1;32m     63\u001b[0m     \u001b[0mN\u001b[0m \u001b[0;34m=\u001b[0m \u001b[0;36m1\u001b[0m\u001b[0;34m\u001b[0m\u001b[0m\n\u001b[1;32m     64\u001b[0m     \u001b[0mn\u001b[0m \u001b[0;34m=\u001b[0m \u001b[0mnp\u001b[0m\u001b[0;34m.\u001b[0m\u001b[0msum\u001b[0m\u001b[0;34m(\u001b[0m\u001b[0mx\u001b[0m\u001b[0;34m)\u001b[0m\u001b[0;34m\u001b[0m\u001b[0m\n",
      "\u001b[0;31mTypeError\u001b[0m: object of type 'float' has no len()"
     ]
    }
   ],
   "source": [
    "taumax = 60\n",
    "Q_pi = EventSync(es_pi, es_volc, taumax) + EventSync(es_volc, es_pi, taumax)"
   ]
  },
  {
   "cell_type": "code",
   "execution_count": null,
   "metadata": {},
   "outputs": [],
   "source": []
  }
 ],
 "metadata": {
  "kernelspec": {
   "display_name": "Python 3",
   "language": "python",
   "name": "python3"
  },
  "language_info": {
   "codemirror_mode": {
    "name": "ipython",
    "version": 3
   },
   "file_extension": ".py",
   "mimetype": "text/x-python",
   "name": "python",
   "nbconvert_exporter": "python",
   "pygments_lexer": "ipython3",
   "version": "3.5.6"
  }
 },
 "nbformat": 4,
 "nbformat_minor": 2
}
