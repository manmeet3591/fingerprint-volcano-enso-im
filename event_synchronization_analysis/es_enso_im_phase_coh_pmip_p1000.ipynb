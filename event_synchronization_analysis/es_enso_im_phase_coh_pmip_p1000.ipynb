{
 "cells": [
  {
   "cell_type": "code",
   "execution_count": 1,
   "metadata": {},
   "outputs": [],
   "source": [
    "#  1. Generate the Event Synchronization estimates for the complete series\n",
    "#  2. Perform event synchronization in a moving window fashion\n",
    "#  3. Instead of making the volcanic series as monthly, make monthly event series i.e. phase locking as yearly by \n",
    "#     taking a maximum vote for that year.\n",
    "from __future__ import print_function, division\n",
    "\n",
    "%matplotlib inline\n",
    "import matplotlib.pyplot as plt\n",
    "import numpy as np\n",
    "import pandas as pd\n",
    "import seaborn as sns\n",
    "import datetime as dt\n",
    "import warnings\n",
    "warnings.filterwarnings(\"ignore\")\n",
    "sns.set()"
   ]
  },
  {
   "cell_type": "code",
   "execution_count": 25,
   "metadata": {},
   "outputs": [],
   "source": [
    "phase_coh_1 = np.genfromtxt ('is_plateau_past1000_pmip_ipsl.csv', delimiter=\",\")\n",
    "vrf = np.genfromtxt ('volc_source_850_1850.csv', delimiter=\",\")\n",
    "phase_coh_2 = np.zeros((vrf.shape[0]))\n",
    "tropical_vrf = np.zeros((vrf.shape[0]))\n",
    "for i in range(vrf.shape[0]):\n",
    "    if sum(phase_coh_1[i*12:(i+1)*12]) >= 6:\n",
    "        phase_coh_2[i] = 1.0\n",
    "    if vrf[i] == 1.0:\n",
    "        tropical_vrf[i] = 1.0"
   ]
  },
  {
   "cell_type": "code",
   "execution_count": 26,
   "metadata": {},
   "outputs": [],
   "source": [
    "def common_time_axis(dismr, verbose=True):\n",
    "    \"\"\"\n",
    "    Generates common time axis for Nino3 and ISMR time series.\n",
    "    \"\"\"\n",
    "    # generate the time axis\n",
    "    Nt = len(dismr)\n",
    "    time = [dt.datetime(850, 1, 15)]\n",
    "    for i in range(1, len(dismr)):\n",
    "        y = time[i - 1].year\n",
    "        m = time[i - 1].month\n",
    "        if m == 12:\n",
    "            y += 1\n",
    "            m = 0\n",
    "        time.append(dt.datetime(y, m + 1, 15))\n",
    "    time = np.array(time)\n",
    "\n",
    "    return time\n",
    "def yearly_time_axis(dvolc, verbose=True):\n",
    "    \"\"\"\n",
    "    Generates time axis for yearly data \n",
    "    \"\"\"\n",
    "    Nt = len(dvolc)\n",
    "    time = [dt.datetime(900, 1, 15)]\n",
    "    for i in range(1, len(dvolc)):\n",
    "        y = time[i - 1].year\n",
    "        y += 1\n",
    "        time.append(dt.datetime(y, 1, 15))\n",
    "    time = np.array(time)\n",
    "\n",
    "    return time\n",
    "def moving_average_anomaly(dismr,n=360):\n",
    "    \"\"\"\n",
    "    Generates moving average anomaly of long time series\n",
    "    \"\"\"\n",
    "    #print(dismr.shape)\n",
    "    dismr_anom = np.zeros((dismr.shape[0]))\n",
    "    dismr_std = np.zeros((dismr.shape[0]))\n",
    "    dismr_anom[0:n/2] = ( dismr[0:n/2] - np.mean(dismr[0:n]) )/np.std(dismr[0:n])\n",
    "    dismr_anom[dismr.shape[0]-n/2:] = ( dismr[dismr.shape[0]-n/2:] - np.mean(dismr[dismr.shape[0]-n:]) )/np.std(dismr[dismr.shape[0]-n:])\n",
    "    #print(dismr_anom)\n",
    "    dismr_std[0:n/2] = np.std(dismr[0:n])\n",
    "    dismr_std[dismr.shape[0]-n/2:] = np.std(dismr[dismr.shape[0]-n:])\n",
    "    \n",
    "    for i in range(np.int(n/2),np.int(dismr.shape[0]-n/2)):\n",
    "        dismr_anom[i] = (dismr[i] - np.mean(dismr[i-n/2:i+n/2]))/np.std(dismr[i-n/2:i+n/2])\n",
    "        dismr_std[i] = np.std(dismr[i-n/2:i+n/2])\n",
    "    return dismr_anom, dismr_std\n",
    "\n",
    "def EventSync(es1, es2, taumax):\n",
    "    \"\"\"\n",
    "    Compute non-vectorized event synchronization\n",
    "    :type es1: 1D Numpy array\n",
    "    :arg es1: Event series containing '0's and '1's\n",
    "    :type es2: 1D Numpy array\n",
    "    :arg es2: Event series containing '0's and '1's\n",
    "    :float return: Event synchronization es2 to es1\n",
    "    \"\"\"\n",
    "    ex = np.arange(len(es1))[es1 == 1]\n",
    "    ey = np.arange(len(es2))[es2 == 1]\n",
    "    lx = len(ex)\n",
    "    ly = len(ey)\n",
    "\n",
    "    count = 0\n",
    "    if lx!=0 and ly!=0:\n",
    "        for m in range(1, lx-1):\n",
    "            for n in range(1, ly-1):\n",
    "                dst = ex[m] - ey[n]\n",
    "\n",
    "                if abs(dst) > taumax:\n",
    "                    continue\n",
    "                elif dst == 0:\n",
    "                    count += 0.5\n",
    "                    continue\n",
    "\n",
    "              # finding the dynamical delay tau\n",
    "                tmp = ex[m+1] - ex[m]\n",
    "                if tmp > ex[m] - ex[m-1]:\n",
    "                    tmp = ex[m] - ex[m-1]\n",
    "                tau = ey[n+1] - ey[n]\n",
    "                if tau > ey[n] - ey[n-1]:\n",
    "                    tau = ey[n] - ey[n-1]\n",
    "                if tau > tmp:\n",
    "                    tau = tmp\n",
    "                tau = tau / 2\n",
    "\n",
    "                if dst > 0 and dst <= tau:\n",
    "                    count += 1\n",
    "\n",
    "    #print(\"count = \",count) \n",
    "    #print(\"Q = \",np.sqrt((lx-2) * (ly-2))) \n",
    "    #print(\"lx,ly,Q =\",lx,ly,count) \n",
    "    if lx!=0 and ly!=0:\n",
    "        return count / np.sqrt((lx) * (ly))\n",
    "      #return count / np.sqrt((lx-2) * (ly-2))\n",
    "    else:\n",
    "        return 0.0"
   ]
  },
  {
   "cell_type": "code",
   "execution_count": 27,
   "metadata": {},
   "outputs": [],
   "source": [
    "es_phase_coh = np.zeros((phase_coh_2.shape[0]))\n",
    "es_tropical_vrf = np.zeros((tropical_vrf.shape[0]))\n",
    "taumax = 10"
   ]
  },
  {
   "cell_type": "code",
   "execution_count": 28,
   "metadata": {},
   "outputs": [],
   "source": [
    "Q_hist = np.zeros((es_phase_coh.shape[0]-taumax))\n",
    "\n",
    "for i in range(es_phase_coh.shape[0]-taumax):\n",
    "    Q_hist_12 = EventSync(es_phase_coh[i:i+taumax], es_tropical_vrf[i:i+taumax], taumax)\n",
    "    Q_hist_21 = EventSync(es_tropical_vrf[i:i+taumax], es_phase_coh[i:i+taumax],taumax)\n",
    "    Q_hist[i] = Q_hist_12 + Q_hist_21"
   ]
  },
  {
   "cell_type": "code",
   "execution_count": 29,
   "metadata": {},
   "outputs": [],
   "source": [
    "np.savetxt(\"Q_hist.csv\", Q_hist, delimiter=\",\")"
   ]
  },
  {
   "cell_type": "code",
   "execution_count": 34,
   "metadata": {},
   "outputs": [
    {
     "name": "stdout",
     "output_type": "stream",
     "text": [
      "[0. 0. 0. 0. 0. 0. 0. 0. 0. 0. 0. 0. 0. 0. 0. 0. 0. 0. 0. 0. 0. 0. 0. 0.\n",
      " 0. 0. 0. 0. 0. 0. 0. 0. 0. 0. 0. 0. 0. 0. 0. 0. 0. 0. 0. 0. 0. 0. 0. 0.\n",
      " 0. 0. 0. 0. 0. 0. 0. 0. 0. 0. 0. 0. 0. 0. 0. 0. 0. 0. 0. 0. 0. 0. 0. 0.\n",
      " 0. 0. 0. 0. 0. 0. 0. 0. 0. 0. 0. 0. 0. 0. 0. 0. 0. 0. 0. 0. 0. 0. 0. 0.\n",
      " 0. 0. 0. 0. 0. 0. 0. 0. 0. 0. 0. 0. 0. 0. 0. 0. 0. 0. 0. 0. 0. 0. 0. 0.\n",
      " 0. 0. 0. 0. 0. 0. 0. 0. 0. 0. 0. 0. 0. 0. 0. 0. 0. 0. 0. 0. 0. 0. 0. 0.\n",
      " 0. 0. 0. 0. 0. 0. 0. 0. 0. 0. 0. 0. 0. 0. 0. 0. 0. 0. 0. 0. 0. 0. 0. 0.\n",
      " 0. 0. 0. 0. 0. 0. 0. 0. 0. 0. 0. 0. 0. 0. 0. 0. 0. 0. 0. 0. 0. 0. 0. 0.\n",
      " 0. 0. 0. 0. 0. 0. 0. 0. 0. 0. 0. 0. 0. 0. 0. 0. 0. 0. 0. 0. 0. 0. 0. 0.\n",
      " 0. 0. 0. 0. 0. 0. 0. 0. 0. 0. 0. 0. 0. 0. 0. 0. 0. 0. 0. 0. 0. 0. 0. 0.\n",
      " 0. 0. 0. 0. 0. 0. 0. 0. 0. 0. 0. 0. 0. 0. 0. 0. 0. 0. 0. 0. 0. 0. 0. 0.\n",
      " 0. 0. 0. 0. 0. 0. 0. 0. 0. 0. 0. 0. 0. 0. 0. 0. 0. 0. 0. 0. 0. 0. 0. 0.\n",
      " 0. 0. 0. 0. 0. 0. 0. 0. 0. 0. 0. 0. 0. 0. 0. 0. 0. 0. 0. 0. 0. 0. 0. 0.\n",
      " 0. 0. 0. 0. 0. 0. 0. 0. 0. 0. 0. 0. 0. 0. 0. 0. 0. 0. 0. 0. 0. 0. 0. 0.\n",
      " 0. 0. 0. 0. 0. 0. 0. 0. 0. 0. 0. 0. 0. 0. 0. 0. 0. 0. 0. 0. 0. 0. 0. 0.\n",
      " 0. 0. 0. 0. 0. 0. 0. 0. 0. 0. 0. 0. 0. 0. 0. 0. 0. 0. 0. 0. 0. 0. 0. 0.\n",
      " 0. 0. 0. 0. 0. 0. 0. 0. 0. 0. 0. 0. 0. 0. 0. 0. 0. 0. 0. 0. 0. 0. 0. 0.\n",
      " 0. 0. 0. 0. 0. 0. 0. 0. 0. 0. 0. 0. 0. 0. 0. 0. 0. 0. 0. 0. 0. 0. 0. 0.\n",
      " 0. 0. 0. 0. 0. 0. 0. 0. 0. 0. 0. 0. 0. 0. 0. 0. 0. 0. 0. 0. 0. 0. 0. 0.\n",
      " 0. 0. 0. 0. 0. 0. 0. 0. 0. 0. 0. 0. 0. 0. 0. 0. 0. 0. 0. 0. 0. 0. 0. 0.\n",
      " 0. 0. 0. 0. 0. 0. 0. 0. 0. 0. 0. 0. 0. 0. 0. 0. 0. 0. 0. 0. 0. 0. 0. 0.\n",
      " 0. 0. 0. 0. 0. 0. 0. 0. 0. 0. 0. 0. 0. 0. 0. 0. 0. 0. 0. 0. 0. 0. 0. 0.\n",
      " 0. 0. 0. 0. 0. 0. 0. 0. 0. 0. 0. 0. 0. 0. 0. 0. 0. 0. 0. 0. 0. 0. 0. 0.\n",
      " 0. 0. 0. 0. 0. 0. 0. 0. 0. 0. 0. 0. 0. 0. 0. 0. 0. 0. 0. 0. 0. 0. 0. 0.\n",
      " 0. 0. 0. 0. 0. 0. 0. 0. 0. 0. 0. 0. 0. 0. 0. 0. 0. 0. 0. 0. 0. 0. 0. 0.\n",
      " 0. 0. 0. 0. 0. 0. 0. 0. 0. 0. 0. 0. 0. 0. 0. 0. 0. 0. 0. 0. 0. 0. 0. 0.\n",
      " 0. 0. 0. 0. 0. 0. 0. 0. 0. 0. 0. 0. 0. 0. 0. 0. 0. 0. 0. 0. 0. 0. 0. 0.\n",
      " 0. 0. 0. 0. 0. 0. 0. 0. 0. 0. 0. 0. 0. 0. 0. 0. 0. 0. 0. 0. 0. 0. 0. 0.\n",
      " 0. 0. 0. 0. 0. 0. 0. 0. 0. 0. 0. 0. 0. 0. 0. 0. 0. 0. 0. 0. 0. 0. 0. 0.\n",
      " 0. 0. 0. 0. 0. 0. 0. 0. 0. 0. 0. 0. 0. 0. 0. 0. 0. 0. 0. 0. 0. 0. 0. 0.\n",
      " 0. 0. 0. 0. 0. 0. 0. 0. 0. 0. 0. 0. 0. 0. 0. 0. 0. 0. 0. 0. 0. 0. 0. 0.\n",
      " 0. 0. 0. 0. 0. 0. 0. 0. 0. 0. 0. 0. 0. 0. 0. 0. 0. 0. 0. 0. 0. 0. 0. 0.\n",
      " 0. 0. 0. 0. 0. 0. 0. 0. 0. 0. 0. 0. 0. 0. 0. 0. 0. 0. 0. 0. 0. 0. 0. 0.\n",
      " 0. 0. 0. 0. 0. 0. 0. 0. 0. 0. 0. 0. 0. 0. 0. 0. 0. 0. 0. 0. 0. 0. 0. 0.\n",
      " 0. 0. 0. 0. 0. 0. 0. 0. 0. 0. 0. 0. 0. 0. 0. 0. 0. 0. 0. 0. 0. 0. 0. 0.\n",
      " 0. 0. 0. 0. 0. 0. 0. 0. 0. 0. 0. 0. 0. 0. 0. 0. 0. 0. 0. 0. 0. 0. 0. 0.\n",
      " 0. 0. 0. 0. 0. 0. 0. 0. 0. 0. 0. 0. 0. 0. 0. 0. 0. 0. 0. 0. 0. 0. 0. 0.\n",
      " 0. 0. 0. 0. 0. 0. 0. 0. 0. 0. 0. 0. 0. 0. 0. 0. 0. 0. 0. 0. 0. 0. 0. 0.\n",
      " 0. 0. 0. 0. 0. 0. 0. 0. 0. 0. 0. 0. 0. 0. 0. 0. 0. 0. 0. 0. 0. 0. 0. 0.\n",
      " 0. 0. 0. 0. 0. 0. 0. 0. 0. 0. 0. 0. 0. 0. 0. 0. 0. 0. 0. 0. 0. 0. 0. 0.\n",
      " 0. 0. 0. 0. 0. 0. 0. 0. 0. 0. 0. 0. 0. 0. 0. 0. 0. 0. 0. 0. 0. 0. 0. 0.\n",
      " 0. 0. 0. 0. 0. 0. 0.]\n"
     ]
    }
   ],
   "source": [
    "Q_12 = EventSync(es_phase_coh, es_tropical_vrf, taumax)\n",
    "Q_21 = EventSync(es_tropical_vrf, es_phase_coh,taumax)\n",
    "print(Q_hist)"
   ]
  },
  {
   "cell_type": "code",
   "execution_count": null,
   "metadata": {},
   "outputs": [],
   "source": []
  },
  {
   "cell_type": "code",
   "execution_count": 30,
   "metadata": {},
   "outputs": [
    {
     "data": {
      "text/plain": [
       "2.7958212788067276e-05"
      ]
     },
     "execution_count": 30,
     "metadata": {},
     "output_type": "execute_result"
    }
   ],
   "source": []
  },
  {
   "cell_type": "code",
   "execution_count": 31,
   "metadata": {},
   "outputs": [],
   "source": []
  },
  {
   "cell_type": "code",
   "execution_count": 32,
   "metadata": {},
   "outputs": [
    {
     "data": {
      "text/plain": [
       "-0.77536899799935022"
      ]
     },
     "execution_count": 32,
     "metadata": {},
     "output_type": "execute_result"
    }
   ],
   "source": []
  },
  {
   "cell_type": "code",
   "execution_count": 33,
   "metadata": {},
   "outputs": [
    {
     "data": {
      "text/plain": [
       "4.1770612957229076"
      ]
     },
     "execution_count": 33,
     "metadata": {},
     "output_type": "execute_result"
    }
   ],
   "source": []
  },
  {
   "cell_type": "code",
   "execution_count": 1,
   "metadata": {},
   "outputs": [
    {
     "name": "stdout",
     "output_type": "stream",
     "text": [
      "/iitm2/cccr-res/msingh/pmip_data_scripts/agu_volcano/event_synchronization_analysis\r\n"
     ]
    }
   ],
   "source": []
  },
  {
   "cell_type": "code",
   "execution_count": null,
   "metadata": {},
   "outputs": [],
   "source": []
  }
 ],
 "metadata": {
  "kernelspec": {
   "display_name": "Python 3",
   "language": "python",
   "name": "python3"
  },
  "language_info": {
   "codemirror_mode": {
    "name": "ipython",
    "version": 3
   },
   "file_extension": ".py",
   "mimetype": "text/x-python",
   "name": "python",
   "nbconvert_exporter": "python",
   "pygments_lexer": "ipython3",
   "version": "3.8.0"
  }
 },
 "nbformat": 4,
 "nbformat_minor": 2
}
