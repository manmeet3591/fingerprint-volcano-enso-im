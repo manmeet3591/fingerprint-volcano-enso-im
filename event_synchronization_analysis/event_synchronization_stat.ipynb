{
 "cells": [
  {
   "cell_type": "markdown",
   "metadata": {},
   "source": [
    "Event Synchronization Analysis following \n",
    "https://github.com/pik-copan/pyunicorn/blob/master/tests/test_funcnet/TestEventSyncronization.py\n",
    "and \n",
    "https://vis.caltech.edu/~rodri/papers/event_synchro.pdf"
   ]
  },
  {
   "cell_type": "code",
   "execution_count": 1,
   "metadata": {},
   "outputs": [],
   "source": [
    "import sys, string\n",
    "from matplotlib import rc\n",
    "import numpy as np\n",
    "import pylab as pl\n",
    "import netCDF4\n",
    "import time as t\n",
    "import datetime\n",
    "from dateutil.parser import parse\n",
    "from pylab import load, meshgrid, title, arange, show\n",
    "from netcdftime import utime\n",
    "import scipy.io\n",
    "import matplotlib as mpl\n",
    "import argparse\n",
    "from matplotlib.dates import MonthLocator, WeekdayLocator, DateFormatter\n",
    "import datetime as dt\n",
    "from netCDF4 import num2date, date2num\n",
    "import random\n",
    "#import Nio\n",
    "#from pyhdf.SD import SD"
   ]
  },
  {
   "cell_type": "code",
   "execution_count": 12,
   "metadata": {},
   "outputs": [],
   "source": [
    "N=10000\n",
    "Q_real = np.genfromtxt ('data/Q_histreal.csv', delimiter=\",\")\n",
    "Q_hist_mc = np.zeros((N,Q_real.shape[0]))\n",
    "#print(Q_real.shape)\n",
    "for i in range(1,10001):\n",
    "    #print(i)\n",
    "    Q_hist_mc[i-1,:] = np.genfromtxt ('data/Q_hist'+str(i)+'.csv', delimiter=\",\")"
   ]
  },
  {
   "cell_type": "code",
   "execution_count": 18,
   "metadata": {},
   "outputs": [],
   "source": [
    "volc_sigl = -1*np.genfromtxt ('sigl.txt', delimiter=\",\")\n",
    "\n",
    "volc_data = volc_sigl[1:997]\n",
    "volc_data_mon = np.zeros((997*12))\n",
    "volc_data_mon[0:6] = volc_data[0]\n",
    "volc_data_mon[11958:11964] = volc_data[-1]\n",
    "for yyyy in range(995):\n",
    "    #print(yyyy)\n",
    "    volc_data_mon[6+yyyy*12:18+yyyy*12] = volc_data[1+yyyy]\n",
    "\n",
    "volc_data_mon_ma = np.zeros((volc_data_mon.shape[0]-60))\n",
    "for i in range(volc_data_mon.shape[0]-60):\n",
    "    volc_data_mon_ma[i] = np.average(volc_data_mon[i:i+60])\n"
   ]
  },
  {
   "cell_type": "code",
   "execution_count": 23,
   "metadata": {},
   "outputs": [],
   "source": [
    "def common_time_axis(dismr, verbose=True):\n",
    "    \"\"\"\n",
    "    Generates common time axis for Nino3 and ISMR time series.\n",
    "    \"\"\"\n",
    "    # generate the time axis\n",
    "    Nt = len(dismr)\n",
    "    time = [dt.datetime(854, 1, 15)]\n",
    "    for i in range(1, len(dismr)):\n",
    "        y = time[i - 1].year\n",
    "        m = time[i - 1].month\n",
    "        if m == 12:\n",
    "            y += 1\n",
    "            m = 0\n",
    "        time.append(dt.datetime(y, m + 1, 15))\n",
    "    time = np.array(time)\n",
    "\n",
    "    return time\n",
    "time = common_time_axis(Q_real)\n"
   ]
  },
  {
   "cell_type": "code",
   "execution_count": 24,
   "metadata": {},
   "outputs": [],
   "source": [
    "np.savetxt('Q_hist_mc.csv', Q_hist_mc, delimiter=',')"
   ]
  },
  {
   "cell_type": "code",
   "execution_count": 28,
   "metadata": {},
   "outputs": [],
   "source": [
    "Q_hist_mc_95p = np.zeros((Q_real.shape[0]))\n",
    "for i in range(Q_hist_mc_95p.shape[0]):\n",
    "    Q_hist_mc_95p[i] = np.percentile(Q_hist_mc[:,i], 95)"
   ]
  },
  {
   "cell_type": "code",
   "execution_count": 33,
   "metadata": {},
   "outputs": [],
   "source": [
    "def delphi_timeseries(time, Q_hist_real, Q_hist_mc_95p, volc_data_mon_ma):\n",
    "    \"\"\"\n",
    "    Plots the instantaneous phase diff with periods of phase sync highlighted.\n",
    "    \"\"\"\n",
    "    # set up figure\n",
    "    fig = pl.figure(figsize=[12, 9])\n",
    "    #fig = pl.figure(figsize=[4, 3])\n",
    "    #axlabfs, tiklabfs, splabfs = 9, 10, 14\n",
    "    axlabfs, tiklabfs, splabfs = 4, 5, 7\n",
    "    start_year = 850\n",
    "    end_year = 1849\n",
    "\n",
    "    # set up ax1 and plot delPhi and event series there\n",
    "    ax1 = fig.add_axes([0.1, 0.28, 0.85, 0.4])\n",
    "    #ax1.plot(ct, -del_phi/6.28,\n",
    "    #         c=\"Maroon\", zorder=5,\n",
    "    #         )\n",
    "    ylo, yhi = ax1.get_ylim()\n",
    "    # set up second ax2 and plot the volcanic radiative forcing \n",
    "    ax2 = fig.add_axes([0.1, 0.18, 0.85, 0.1])\n",
    "    #ax3 = fig.add_axes([0.1, 0.66, 0.85, 0.15])\n",
    "    ax2.plot(time, volc_data_mon_ma, c=\"Gray\", zorder=5)\n",
    "    #ax3.plot(pt, plv, pt, plv_99p)\n",
    "    ax1.plot(time, Q_hist_real, time, Q_hist_mc_95p)\n",
    "\n",
    "    ylo, yhi = ax1.get_ylim()\n",
    "    xlo, xhi = dt.datetime(start_year, 1, 1), dt.datetime(end_year, 12, 31)\n",
    "    ax1.set_xlim(xlo, xhi)\n",
    "    XMajorLocator = mdates.YearLocator(base=100, month=6, day=15)\n",
    "    XMinorLocator = mdates.YearLocator(base=20, month=6, day=15)\n",
    "    XMajorFormatter = mdates.DateFormatter(\"%Y\")\n",
    "    ax1.xaxis.set_major_locator(XMajorLocator)\n",
    "    ax1.xaxis.set_minor_locator(XMinorLocator)\n",
    "    ax1.xaxis.set_major_formatter(XMajorFormatter)\n",
    "    ax1.set_ylim(ylo, yhi)\n",
    "    ax1.set_xticklabels([])\n",
    "    #ax1.set_ylim(-12,12 )\n",
    "    ax1.grid(which=\"both\")\n",
    "    ax1.tick_params(which=\"major\", size=8, direction=\"out\")\n",
    "    ax1.tick_params(which=\"minor\", size=5, direction=\"out\")\n",
    "    ax1.tick_params(axis=\"both\", labelsize=tiklabfs)\n",
    "#    ax1.set_xlabel(\"Time\", fontsize=axlabfs)\n",
    "    #ax1.set_ylabel(r\"$\\Delta\\phi = \\phi_{ISMR} - \\phi_{NINO}[2\\pi]$\",fontsize=axlabfs)\n",
    "\n",
    "\n",
    "    # prettify ax2\n",
    "    xlo, xhi = dt.datetime(start_year, 1, 1), dt.datetime(end_year, 12, 31)\n",
    "    ax2.set_xlim(xlo, xhi)\n",
    "    XMajorLocator = mdates.YearLocator(base=100, month=6, day=15)\n",
    "    XMinorLocator = mdates.YearLocator(base=20, month=6, day=15)\n",
    "    XMajorFormatter = mdates.DateFormatter(\"%Y\")\n",
    "    ax2.xaxis.set_major_locator(XMajorLocator)\n",
    "    ax2.xaxis.set_minor_locator(XMinorLocator)\n",
    "    ax2.xaxis.set_major_formatter(XMajorFormatter)\n",
    "    ylo, yhi = ax2.get_ylim()\n",
    "    ax2.set_ylim(ylo, yhi)\n",
    "    ax2.tick_params(axis=\"both\", labelsize=tiklabfs)\n",
    "    ax2.grid(which=\"both\")\n",
    "    ax2.set_xlabel(\"Time\", fontsize=axlabfs)\n",
    "    ax2.set_ylabel(\"VRF (W/$m^2$)\", fontsize=axlabfs)\n",
    "    # save figure\n",
    "    #figname = \"../plots/02_delphi_timeseries.eps\"\n",
    "    figname = \"test.png\"\n",
    "    #pl.savefig(figname, format='eps', dpi=1000)\n",
    "    pl.savefig(figname, format='png', dpi=1000)\n",
    "    print(\"figure saved to: %s\" % figname)\n",
    "    return None\n",
    "\n"
   ]
  },
  {
   "cell_type": "code",
   "execution_count": 37,
   "metadata": {},
   "outputs": [
    {
     "name": "stdout",
     "output_type": "stream",
     "text": [
      "figure saved to: test.png\n"
     ]
    },
    {
     "data": {
      "image/png": "[encoded data removed]",
      "text/plain": [
       "<Figure size 864x648 with 2 Axes>"
      ]
     },
     "metadata": {},
     "output_type": "display_data"
    }
   ],
   "source": [
    "import matplotlib.dates as mdates\n",
    "delphi_timeseries(time, Q_real, Q_hist_mc_95p, -volc_data_mon_ma )"
   ]
  },
  {
   "cell_type": "code",
   "execution_count": null,
   "metadata": {},
   "outputs": [],
   "source": []
  }
 ],
 "metadata": {
  "kernelspec": {
   "display_name": "Python 3",
   "language": "python",
   "name": "python3"
  },
  "language_info": {
   "codemirror_mode": {
    "name": "ipython",
    "version": 3
   },
   "file_extension": ".py",
   "mimetype": "text/x-python",
   "name": "python",
   "nbconvert_exporter": "python",
   "pygments_lexer": "ipython3",
   "version": "3.5.6"
  }
 },
 "nbformat": 4,
 "nbformat_minor": 2
}
