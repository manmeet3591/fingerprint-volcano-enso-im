{
 "cells": [
  {
   "cell_type": "code",
   "execution_count": 17,
   "metadata": {},
   "outputs": [],
   "source": [
    "import sys, string\n",
    "from matplotlib import rc\n",
    "import numpy as np\n",
    "import pylab as pl\n",
    "import netCDF4\n",
    "import time as t\n",
    "import datetime\n",
    "from dateutil.parser import parse\n",
    "from pylab import load, meshgrid, title, arange, show\n",
    "from netcdftime import utime\n",
    "import scipy.io\n",
    "import matplotlib as mpl\n",
    "import argparse\n",
    "from matplotlib.dates import MonthLocator, WeekdayLocator, DateFormatter\n",
    "import datetime as dt\n",
    "from netCDF4 import num2date, date2num\n"
   ]
  },
  {
   "cell_type": "code",
   "execution_count": 18,
   "metadata": {},
   "outputs": [],
   "source": [
    "sea = np.genfromtxt('sea.csv', delimiter = ',')\n",
    "ci_lower = np.genfromtxt('ci.99.lower.csv', delimiter = ',')\n",
    "ci_upper = np.genfromtxt('ci.99.upper.csv', delimiter = ',')\n",
    "lag = np.genfromtxt('lag.csv', delimiter = ',')"
   ]
  },
  {
   "cell_type": "code",
   "execution_count": 19,
   "metadata": {},
   "outputs": [
    {
     "data": {
      "image/png": "[encoded data removed]",
      "text/plain": [
       "<matplotlib.figure.Figure at 0x2b6b951a3c88>"
      ]
     },
     "metadata": {},
     "output_type": "display_data"
    }
   ],
   "source": [
    "pl.figure(figsize=[2.25,1.5])\n",
    "pl.plot(lag, ci_lower, color='y')\n",
    "pl.plot(lag, ci_upper, color='y')\n",
    "pl.bar(lag, sea)\n",
    "pl.grid()\n",
    "pl.xlabel('Years from eruption', fontsize=15)\n",
    "pl.ylabel('ENSO', fontsize=15)\n",
    "pl.tick_params(labelsize=12)\n",
    "pl.xlim(-5,5)\n",
    "pl.savefig('sea_enso_3.7_tropical.pdf', format='pdf', dpi=1000)"
   ]
  },
  {
   "cell_type": "code",
   "execution_count": 20,
   "metadata": {},
   "outputs": [],
   "source": [
    "# ENSO\n",
    "sea_enso = np.genfromtxt('sea_enso.csv', delimiter = ',')\n",
    "ci_lower_enso = np.genfromtxt('ci.99.lower_enso.csv', delimiter = ',')\n",
    "ci_upper_enso = np.genfromtxt('ci.99.upper_enso.csv', delimiter = ',')\n",
    "lag = np.genfromtxt('lag.csv', delimiter = ',')"
   ]
  },
  {
   "cell_type": "code",
   "execution_count": 21,
   "metadata": {},
   "outputs": [],
   "source": [
    "# SASMI\n",
    "sea = np.genfromtxt('sea.csv', delimiter = ',')\n",
    "ci_lower = np.genfromtxt('ci.99.lower.csv', delimiter = ',')\n",
    "ci_upper = np.genfromtxt('ci.99.upper.csv', delimiter = ',')"
   ]
  },
  {
   "cell_type": "code",
   "execution_count": 22,
   "metadata": {},
   "outputs": [
    {
     "data": {
      "image/png": "[encoded data removed]",
      "text/plain": [
       "<matplotlib.figure.Figure at 0x2b6b91893b38>"
      ]
     },
     "metadata": {},
     "output_type": "display_data"
    }
   ],
   "source": [
    "fig = pl.figure(figsize=[2.25, 2])\n",
    "ax1 = fig.add_axes([0.1, 0.125, 0.85, 0.4])\n",
    "ax2 = fig.add_axes([0.1, 0.525, 0.85, 0.4], xticklabels = [])\n",
    "\n",
    "ax1.plot(lag, ci_lower_enso, color='y')\n",
    "ax1.plot(lag, ci_upper_enso, color='y')\n",
    "ax1.bar(lag, sea_enso)\n",
    "\n",
    "ax2.plot(lag, ci_lower, color='y')\n",
    "ax2.plot(lag, ci_upper, color='y')\n",
    "ax2.bar(lag, sea)\n",
    "\n",
    "for ax in [ax1,ax2]:\n",
    "    ax.set_xlim(-5,5)\n",
    "    ax.grid()\n",
    "    ax.tick_params(labelsize=12)\n",
    "ax1.set_xlabel('Years from eruption', fontsize=12)\n",
    "ax1.set_ylabel('ENSO', fontsize=12)\n",
    "ax2.set_ylabel('SASMI', fontsize=12)\n",
    "pl.savefig('sea3.7_tropical.pdf', format='pdf', dpi=1000)"
   ]
  },
  {
   "cell_type": "code",
   "execution_count": 23,
   "metadata": {},
   "outputs": [
    {
     "name": "stdout",
     "output_type": "stream",
     "text": [
      "(110,)\n",
      "436\n"
     ]
    }
   ],
   "source": [
    "# ED LF \n",
    "nino3 = np.genfromtxt ('enso_900_2002_1.txt', delimiter=\",\")\n",
    "ismr = np.genfromtxt ('sasmi_norm_900_2002.txt', delimiter=\",\")\n",
    "vrf = np.genfromtxt ('sigl.txt', delimiter=\",\")\n",
    "nino3_900_1850 = nino3[1:952]\n",
    "ismr_900_1850 = ismr[1:952]\n",
    "vrf_900_1850 = vrf[50:]\n",
    "#print(nino3_900_1850.shape)\n",
    "#print(vrf_900_1850.shape)\n",
    "#print(nino3_900_1850)\n",
    "#year_time = yearly_time_axis(ismr_900_1850)\n",
    "volc_idx = np.where(vrf_900_1850 < -0.1)[0]\n",
    "print(volc_idx.shape)\n",
    "print(volc_idx[46])\n",
    "\n",
    "import random\n",
    "import warnings\n",
    "warnings.filterwarnings('ignore')\n",
    "#volc_data_mon = np.zeros((1001*12))\n",
    "#for yyyy in range(1001):\n",
    "    #print(yyyy)\n",
    "#    volc_data_mon[yyyy*12:(yyyy+1)*12] = vrf[yyyy]\n",
    "#print(volc_data_mon[0:120])\n",
    "#ismr_anom_1550_1750 = ismr_anom[8400:10800]\n",
    "#nino3_anom_1550_1750 = nino3_anom[8400:10800]\n",
    "N=10000\n",
    "niter = 0\n",
    "count_elnino_drought = np.zeros((N))\n",
    "count_lanina_goodmonsoon  = np.zeros((N))\n",
    "volc_idx = np.where(vrf_900_1850 < -0.1)[0]\n",
    "win = 5 # window\n",
    "while niter<N:\n",
    "    dummy_log_ed = np.zeros((win*2))\n",
    "    dummy_log_lg = np.zeros((win*2))\n",
    "    rand_year = random.sample(range(0,110), 1)\n",
    "    if rand_year[0]<11:\n",
    "        dummy_ismr = ismr_900_1850[volc_idx[rand_year[0]]:volc_idx[rand_year[0]]+win*2]\n",
    "        dummy_ismr_1 = dummy_ismr\n",
    "        dummy_nino3 = nino3_900_1850[volc_idx[rand_year[0]]:volc_idx[rand_year[0]]+win*2]\n",
    "        dummy_nino3_1 = dummy_nino3\n",
    "    elif rand_year[0]>99:\n",
    "        dummy_ismr = ismr_900_1850[volc_idx[rand_year[0]]-win*2:volc_idx[rand_year[0]]]\n",
    "        dummy_ismr_1 = dummy_ismr\n",
    "        dummy_nino3 = nino3_900_1850[volc_idx[rand_year[0]]-win*2:volc_idx[rand_year[0]]]\n",
    "        dummy_nino3_1 = dummy_nino3\n",
    "    else:\n",
    "        dummy_ismr = ismr_900_1850[volc_idx[rand_year[0]]-win:volc_idx[rand_year[0]]+win]\n",
    "        dummy_ismr_1 = dummy_ismr\n",
    "        dummy_nino3 = nino3_900_1850[volc_idx[rand_year[0]]-win:volc_idx[rand_year[0]]+win]\n",
    "        dummy_nino3_1 = dummy_nino3\n",
    "    \n",
    "    #if np.max(vrf_900_1850[rand_year[0]-10:rand_year[0]+10]) < 0.1:\n",
    "    #    continue\n",
    "    #print(niter)\n",
    "    for i in range(win*2):\n",
    "        if dummy_nino3_1[i]>0.5 and dummy_ismr_1[i]<1.0:\n",
    "            dummy_log_ed[i] = 1.0\n",
    "        if dummy_nino3_1[i]<-0.5 and dummy_ismr_1[i]>1.0:\n",
    "            dummy_log_lg[i] = 1.0\n",
    "    count_elnino_drought[niter] = np.sum(dummy_log_ed)\n",
    "    count_lanina_goodmonsoon[niter] = np.sum(dummy_log_lg)\n",
    "    niter = niter + 1"
   ]
  },
  {
   "cell_type": "code",
   "execution_count": 39,
   "metadata": {},
   "outputs": [
    {
     "data": {
      "text/plain": [
       "<matplotlib.axes._subplots.AxesSubplot at 0x2b6b99dc1240>"
      ]
     },
     "execution_count": 39,
     "metadata": {},
     "output_type": "execute_result"
    },
    {
     "data": {
      "image/png": "[encoded data removed]",
      "text/plain": [
       "<matplotlib.figure.Figure at 0x2b6b99a560f0>"
      ]
     },
     "metadata": {},
     "output_type": "display_data"
    }
   ],
   "source": [
    "import pandas as pd\n",
    "import seaborn as sns\n",
    "ed = pd.DataFrame({ 'Coupling type' : np.repeat('ED',10000), 'Years (per 10 years)': count_elnino_drought })\n",
    "lf = pd.DataFrame({ 'Coupling type' : np.repeat('LF',10000), 'Years (per 10 years)': count_lanina_goodmonsoon })\n",
    "df=ed.append(lf)\n",
    "pl.figure(figsize=(10,6))\n",
    "sns.set_style(style='white')\n",
    "sns.boxplot(x='Coupling type', y='Years (per 10 years)', data=df)"
   ]
  },
  {
   "cell_type": "code",
   "execution_count": 64,
   "metadata": {},
   "outputs": [
    {
     "data": {
      "image/png": "[encoded data removed]",
      "text/plain": [
       "<matplotlib.figure.Figure at 0x2b6b9d6a8978>"
      ]
     },
     "metadata": {},
     "output_type": "display_data"
    }
   ],
   "source": [
    "fig = pl.figure(figsize=[4.75, 2])\n",
    "ax1 = fig.add_axes([0.2, 0.25, 0.25, 0.3])\n",
    "ax2 = fig.add_axes([0.2, 0.55, 0.25, 0.3], xticklabels = [])\n",
    "ax3 = fig.add_axes([0.63, 0.25, 0.25, 0.6])\n",
    "\n",
    "ax1.plot(lag, ci_lower_enso, color='y')\n",
    "ax1.plot(lag, ci_upper_enso, color='y')\n",
    "ax1.bar(lag, sea_enso)\n",
    "\n",
    "ax2.plot(lag, ci_lower, color='y')\n",
    "ax2.plot(lag, ci_upper, color='y')\n",
    "ax2.bar(lag, sea)\n",
    "\n",
    "\n",
    "b = sns.boxplot(x='Coupling type', y='Years (per 10 years)', data=df, ax=ax3)\n",
    "b.set_xlabel(\"Coupling Type\",fontsize=12)\n",
    "b.set_ylabel(\"Years (per 10 years)\",fontsize=12)\n",
    "ax3.grid()\n",
    "\n",
    "for ax in [ax1,ax2]:\n",
    "    ax.set_xlim(-5,5)\n",
    "    ax.grid()\n",
    "    ax.tick_params(labelsize=12)\n",
    "ax1.set_xlabel('Years from eruption', fontsize=12)\n",
    "ax1.set_ylabel('ENSO', fontsize=12)\n",
    "ax2.set_ylabel('SASMI', fontsize=12)\n",
    "pl.savefig('sea3.7_tropical_ed_lf.pdf', format='pdf', dpi=1000)"
   ]
  },
  {
   "cell_type": "code",
   "execution_count": null,
   "metadata": {},
   "outputs": [],
   "source": []
  }
 ],
 "metadata": {
  "kernelspec": {
   "display_name": "Python 3",
   "language": "python",
   "name": "python3"
  },
  "language_info": {
   "codemirror_mode": {
    "name": "ipython",
    "version": 3
   },
   "file_extension": ".py",
   "mimetype": "text/x-python",
   "name": "python",
   "nbconvert_exporter": "python",
   "pygments_lexer": "ipython3",
   "version": "3.5.6"
  }
 },
 "nbformat": 4,
 "nbformat_minor": 2
}
