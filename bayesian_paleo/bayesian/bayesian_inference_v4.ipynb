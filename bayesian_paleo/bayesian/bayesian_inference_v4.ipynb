{
 "cells": [
  {
   "cell_type": "code",
   "execution_count": null,
   "metadata": {},
   "outputs": [],
   "source": [
    "import matplotlib.pyplot as plt\n",
    "import numpy as np\n",
    "import pandas as pd"
   ]
  },
  {
   "cell_type": "code",
   "execution_count": null,
   "metadata": {},
   "outputs": [],
   "source": [
    "dnino3_jjas = np.genfromtxt('tas_Amon_IPSL-CM5A-LR_past1000_r1i1p1_0865_1835_anom_nino3_jjas_ymean.csv', delimiter=\",\")\n",
    "dnino3_djf = np.genfromtxt('tas_Amon_IPSL-CM5A-LR_past1000_r1i1p1_0865_1835_anom_nino3_djf_ymean.csv', delimiter=\",\")[:971]\n",
    "dnino3 = np.genfromtxt('tas_Amon_IPSL-CM5A-LR_past1000_r1i1p1_0865_1835_anom_nino3_ymean.csv', delimiter=\",\")\n",
    "\n",
    "im_jjas = np.genfromtxt('tas_Amon_IPSL-CM5A-LR_past1000_r1i1p1_0865_1835_anom_nino3_jjas_ymean.csv', delimiter=\",\")\n",
    "\n",
    "\n",
    "dim_dandak_2010 = np.genfromtxt('ismr_dandak_2010_anom_yy.txt', delimiter=\",\")\n",
    "im_dandak = dim_dandak_2010[:,2]\n",
    "yy_dandak = dim_dandak_2010[:,0]\n",
    "\n",
    "dim_jhumar_2011 = np.genfromtxt('ismr_jhumar_ann_yy.txt', delimiter=\",\")\n",
    "im_jhumar = dim_jhumar_2011[:,2]\n",
    "yy_jhumar = dim_jhumar_2011[:,0]\n",
    "\n",
    "dim_cook_2010 = np.genfromtxt('ismr_cook_anom_yy.txt', delimiter=\",\")\n",
    "im_cook = dim_cook_2010[:,2]\n",
    "yy_cook = dim_cook_2010[:,0]\n",
    "\n",
    "dim_sinha_2011 = np.genfromtxt('ismr_sinha_2011_anom_yy.txt', delimiter=\",\")\n",
    "im_sinha_2011 = dim_sinha_2011[:,2]\n",
    "yy_sinha_2011 = dim_sinha_2011[:,0]\n",
    "\n",
    "dim_sinha_2015 = np.genfromtxt('ismr_sinha_2015_anom_yy.txt', delimiter=\",\")\n",
    "im_sinha_2015 = dim_sinha_2015[:,2]\n",
    "yy_sinha_2015 = dim_sinha_2015[:,0]\n",
    "\n",
    "dnino3_li_2011 = np.genfromtxt('nino3_li_2011_anom_yy.txt', delimiter=\",\")\n",
    "nino3_li_2011 = dnino3_li_2011[:,2]\n",
    "yy_li_2011 = dnino3_li_2011[:,0]\n",
    "\n",
    "dnino3_li_2013 = np.genfromtxt('nino3_li_2013_anom_yy.txt', delimiter=\",\")\n",
    "nino3_li_2013 = dnino3_li_2013[:,2]\n",
    "yy_li_2013 = dnino3_li_2013[:,0]\n",
    "\n",
    "dnino3_mann_2009 = np.genfromtxt('nino3_mann_2009_anom_yy.txt', delimiter=\",\")\n",
    "nino3_mann_2009 = dnino3_mann_2009[:,2]\n",
    "yy_mann_2009 = dnino3_mann_2009[:,0]\n",
    "\n",
    "dnino3_moy_2002 = np.genfromtxt('nino3_moy_2002_anom_yy.txt', delimiter=\",\")\n",
    "nino3_moy_2002 = dnino3_moy_2002[:,2]\n",
    "yy_moy_2002 = dnino3_moy_2002[:,0]\n",
    "\n",
    "yy_model = np.arange(865,1836)\n",
    "dstrong1 = np.genfromtxt('strong1.txt', delimiter=\",\")\n",
    "\n",
    "volc_model = np.zeros((yy_model.shape[0]))\n",
    "for i in range(yy_model.shape[0]):\n",
    "    if yy_model[i] in dstrong1:\n",
    "        volc_model[i] = 1.0\n",
    "\n",
    "volc_dandak = np.zeros((yy_dandak.shape[0]))\n",
    "for i in range(yy_dandak.shape[0]):\n",
    "    if yy_dandak[i] in dstrong1:\n",
    "        volc_dandak[i] = 1.0\n",
    "\n",
    "volc_jhumar = np.zeros((yy_jhumar.shape[0]))\n",
    "for i in range(yy_jhumar.shape[0]):\n",
    "    if yy_jhumar[i] in dstrong1:\n",
    "        volc_jhumar[i] = 1.0\n",
    "\n",
    "volc_cook = np.zeros((yy_cook.shape[0]))\n",
    "for i in range(yy_cook.shape[0]):\n",
    "    if yy_cook[i] in dstrong1:\n",
    "        volc_cook[i] = 1.0\n",
    "\n",
    "volc_sinha_2011 = np.zeros((yy_sinha_2011.shape[0]))\n",
    "for i in range(yy_sinha_2011.shape[0]):\n",
    "    if yy_sinha_2011[i] in dstrong1:\n",
    "        volc_sinha_2011[i] = 1.0\n",
    "\n",
    "volc_sinha_2015 = np.zeros((yy_sinha_2015.shape[0]))\n",
    "for i in range(yy_sinha_2015.shape[0]):\n",
    "    if yy_sinha_2015[i] in dstrong1:\n",
    "        volc_sinha_2015[i] = 1.0\n",
    "\n",
    "volc_li_2011 = np.zeros((yy_li_2011.shape[0]))\n",
    "for i in range(yy_li_2011.shape[0]):\n",
    "    if yy_li_2011[i] in dstrong1:\n",
    "        volc_li_2011[i] = 1.0\n",
    "\n",
    "volc_li_2013 = np.zeros((yy_li_2013.shape[0]))\n",
    "for i in range(yy_li_2013.shape[0]):\n",
    "    if yy_li_2013[i] in dstrong1:\n",
    "        volc_li_2013[i] = 1.0\n",
    "\n",
    "volc_mann_2009 = np.zeros((yy_mann_2009.shape[0]))\n",
    "for i in range(yy_mann_2009.shape[0]):\n",
    "    if yy_mann_2009[i] in dstrong1:\n",
    "        volc_mann_2009[i] = 1.0\n",
    "\n",
    "volc_moy_2002 = np.zeros((yy_moy_2002.shape[0]))\n",
    "for i in range(yy_moy_2002.shape[0]):\n",
    "    if yy_moy_2002[i] in dstrong1:\n",
    "        volc_moy_2002[i] = 1.0\n",
    "\n",
    "pr_dr = 0.0\n",
    "prob_dr_en = 0.0\n",
    "prob_dr_en_volc = 0.0\n",
    "\n"
   ]
  },
  {
   "cell_type": "code",
   "execution_count": null,
   "metadata": {},
   "outputs": [],
   "source": [
    "# P(Coupling)\n",
    "# P(Coupling/Volcano)\n",
    "im_paleo = [im_dandak, im_jhumar, im_cook, im_sinha_2011, im_sinha_2015]\n",
    "im_paleo_yy = [yy_dandak, yy_jhumar, yy_cook, yy_sinha_2011, yy_sinha_2015]\n",
    "im_paleo_volc = [volc_dandak, volc_jhumar, volc_cook, volc_sinha_2011, volc_sinha_2015]\n",
    "\n",
    "nino3_paleo = [nino3_li_2011, nino3_li_2013, nino3_mann_2009, nino3_moy_2002]\n",
    "nino3_paleo_yy = [yy_li_2011, yy_li_2013, yy_mann_2009, yy_moy_2002]\n",
    "nino3_paleo_volc = [volc_li_2011, volc_li_2013, volc_mann_2009, volc_moy_2002]\n",
    "\n",
    "print(im_paleo[0].shape[0])\n",
    "print(im_dandak.shape[0])"
   ]
  },
  {
   "cell_type": "code",
   "execution_count": 12,
   "metadata": {},
   "outputs": [],
   "source": [
    "def bayesian_calc(yy=yy_model, dnino3=dnino3_djf, im=im_jjas, volc=volc_model):\n",
    "    \n",
    "    en_log = np.zeros((yy.shape[0]))\n",
    "    ln_log = np.zeros((yy.shape[0]))\n",
    "    dr_log = np.zeros((yy.shape[0]))\n",
    "    fl_log = np.zeros((yy.shape[0]))\n",
    "    volc_log = np.zeros((yy.shape[0]))\n",
    "\n",
    "    p_en_dr_log = np.zeros((yy.shape[0]))\n",
    "    p_ln_fl_log = np.zeros((yy.shape[0]))\n",
    "\n",
    "    en_log[dnino3>0.5*np.std(dnino3)] = 1.0\n",
    "    ln_log[dnino3<-0.5*np.std(dnino3)] = 1.0\n",
    "    dr_log[im<-0.5*np.std(im)] = 1.0\n",
    "    fl_log[im>0.5*np.std(im)] = 1.0\n",
    "\n",
    "    # Volcanic series 1 0 1 0\n",
    "    # EN Series       0 1 0 1\n",
    "    # So in the volcanic series element[i+1] = element[i]\n",
    "    for i in range(yy.shape[0]-1):\n",
    "        volc_log[i+1] = volc[i]\n",
    "        \n",
    "    p_dr_st_en = np.sum(dr_log*en_log)/np.sum(en_log)\n",
    "    p_fl_st_ln = np.sum(ln_log*fl_log)/np.sum(ln_log)\n",
    "    p_dr_st_en_and_volc = np.sum(dr_log*en_log*volc_log)/np.sum(en_log*volc_log)\n",
    "    p_fl_st_ln_and_volc = np.sum(fl_log*ln_log*volc_log)/np.sum(ln_log*volc_log)\n",
    "    p_coupling = (np.sum(dr_log*en_log)+np.sum(ln_log*fl_log))/(np.sum(en_log)+np.sum(ln_log))\n",
    "    p_coupling_st_volc = (np.sum(dr_log*en_log*volc_log)+np.sum(fl_log*ln_log*volc_log))/(np.sum(en_log*volc_log)+np.sum(ln_log*volc_log))\n",
    "\n",
    "    return p_dr_st_en, p_fl_st_ln, p_dr_st_en_and_volc, p_fl_st_ln_and_volc, p_coupling, p_coupling_st_volc\n",
    "p_dr_st_en, p_fl_st_ln, p_dr_st_en_and_volc, p_fl_st_ln_and_volc, p_coupling, p_coupling_st_volc \\\n",
    "                            = bayesian_calc(yy=yy_model, dnino3=dnino3_djf, im=im_jjas, volc=volc_model)\n"
   ]
  },
  {
   "cell_type": "code",
   "execution_count": 47,
   "metadata": {},
   "outputs": [],
   "source": [
    "p_coupling_paleo = np.zeros((len(im_paleo), len(nino3_paleo)))\n",
    "p_coupling_st_volc_paleo = np.zeros((len(im_paleo), len(nino3_paleo)))\n",
    "p_dr_st_en = np.zeros((len(im_paleo), len(nino3_paleo)))\n",
    "p_fl_st_ln = np.zeros((len(im_paleo), len(nino3_paleo)))\n",
    "p_dr_st_en_and_volc = np.zeros((len(im_paleo), len(nino3_paleo)))\n",
    "p_fl_st_ln_and_volc = np.zeros((len(im_paleo), len(nino3_paleo)))\n",
    "\n",
    "for im_i in range(len(im_paleo)):\n",
    "    for nino3_j in range(len(nino3_paleo)):\n",
    "\n",
    "        yy_start = max(im_paleo_yy[im_i][0], nino3_paleo_yy[nino3_j][0])\n",
    "        yy_end = min(im_paleo_yy[im_i][-1], nino3_paleo_yy[nino3_j][-1])\n",
    "\n",
    "        im_dummy = np.zeros((int(yy_end)-int(yy_start)+1))\n",
    "        nino3_dummy = np.zeros((int(yy_end)-int(yy_start)+1))\n",
    "        volc_dummy = np.zeros((int(yy_end)-int(yy_start)+1))\n",
    "        yy_dummy = np.arange(int(yy_start),int(yy_end)+1)\n",
    "        \n",
    "        #print(yy_start, im_paleo_yy[im_i][0], nino3_paleo_yy[nino3_j][0])\n",
    "        #print(yy_end, im_paleo_yy[im_i][-1], nino3_paleo_yy[nino3_j][-1])\n",
    "        j=0\n",
    "        for i in range(int(yy_start),int(yy_end)+1):\n",
    "            #print(i)\n",
    "            im_idx = np.where(im_paleo_yy[im_i] == i)[0][0]\n",
    "            im_dummy[j] = im_paleo[im_i][im_idx]\n",
    "            volc_dummy[j] = im_paleo_volc[im_i][im_idx]\n",
    "    \n",
    "            nino3_idx = np.where(nino3_paleo_yy[nino3_j] == i)[0][0]\n",
    "            #print(nino3_idx)\n",
    "            nino3_dummy[j] = nino3_paleo[nino3_j][nino3_idx]\n",
    "            j = j + 1\n",
    "        p_dr_st_en[im_i,nino3_j], p_fl_st_ln[im_i,nino3_j], p_dr_st_en_and_volc[im_i,nino3_j],   \\\n",
    "         p_fl_st_ln_and_volc[im_i,nino3_j], p_coupling_paleo[im_i,nino3_j], p_coupling_st_volc_paleo[im_i,nino3_j] \\\n",
    "                            = bayesian_calc(yy=yy_dummy, dnino3=nino3_dummy, im=im_dummy, volc=volc_dummy)\n",
    "    \n",
    "    "
   ]
  },
  {
   "cell_type": "code",
   "execution_count": 48,
   "metadata": {},
   "outputs": [
    {
     "data": {
      "text/plain": [
       "Text(0, 0.5, 'IM')"
      ]
     },
     "execution_count": 48,
     "metadata": {},
     "output_type": "execute_result"
    },
    {
     "data": {
      "image/png": "[encoded data removed]",
      "text/plain": [
       "<Figure size 432x288 with 2 Axes>"
      ]
     },
     "metadata": {
      "needs_background": "light"
     },
     "output_type": "display_data"
    }
   ],
   "source": [
    "plt.imshow(p_coupling_paleo, cmap='rainbow', interpolation='nearest', vmin=0.1, vmax=0.45)\n",
    "cbar = plt.colorbar()\n",
    "cbar.set_clim(vmin=0.1, vmax=0.45)\n",
    "plt.xlabel('Nino3')\n",
    "plt.ylabel('IM')"
   ]
  },
  {
   "cell_type": "code",
   "execution_count": 49,
   "metadata": {},
   "outputs": [
    {
     "data": {
      "text/plain": [
       "Text(0, 0.5, 'IM')"
      ]
     },
     "execution_count": 49,
     "metadata": {},
     "output_type": "execute_result"
    },
    {
     "data": {
      "image/png": "[encoded data removed]",
      "text/plain": [
       "<Figure size 432x288 with 2 Axes>"
      ]
     },
     "metadata": {
      "needs_background": "light"
     },
     "output_type": "display_data"
    }
   ],
   "source": [
    "plt.imshow(p_coupling_st_volc_paleo, cmap='rainbow', interpolation='nearest', vmin=0.1, vmax=0.45)\n",
    "cbar = plt.colorbar()\n",
    "cbar.set_clim(0.1, 0.45)\n",
    "plt.xlabel('Nino3')\n",
    "plt.ylabel('IM')"
   ]
  },
  {
   "cell_type": "code",
   "execution_count": 55,
   "metadata": {},
   "outputs": [
    {
     "data": {
      "text/plain": [
       "Text(0, 0.5, 'IM')"
      ]
     },
     "execution_count": 55,
     "metadata": {},
     "output_type": "execute_result"
    },
    {
     "data": {
      "image/png": "[encoded data removed]",
      "text/plain": [
       "<Figure size 432x288 with 2 Axes>"
      ]
     },
     "metadata": {
      "needs_background": "light"
     },
     "output_type": "display_data"
    }
   ],
   "source": [
    "plt.imshow(p_dr_st_en, cmap='rainbow', interpolation='nearest', vmin=0.1, vmax=0.45)\n",
    "cbar = plt.colorbar()\n",
    "#cbar.set_clim(vmin=0.1, vmax=0.45)\n",
    "plt.xlabel('Nino3')\n",
    "plt.ylabel('IM')"
   ]
  },
  {
   "cell_type": "code",
   "execution_count": 56,
   "metadata": {},
   "outputs": [
    {
     "data": {
      "text/plain": [
       "Text(0, 0.5, 'IM')"
      ]
     },
     "execution_count": 56,
     "metadata": {},
     "output_type": "execute_result"
    },
    {
     "data": {
      "image/png": "[encoded data removed]",
      "text/plain": [
       "<Figure size 432x288 with 2 Axes>"
      ]
     },
     "metadata": {
      "needs_background": "light"
     },
     "output_type": "display_data"
    }
   ],
   "source": [
    "plt.imshow(p_dr_st_en_and_volc, cmap='rainbow', interpolation='nearest', vmin=0.1, vmax=0.45)\n",
    "cbar = plt.colorbar()\n",
    "#cbar.set_clim(vmin=0.1, vmax=0.45)\n",
    "plt.xlabel('Nino3')\n",
    "plt.ylabel('IM')"
   ]
  },
  {
   "cell_type": "code",
   "execution_count": 59,
   "metadata": {},
   "outputs": [
    {
     "data": {
      "text/plain": [
       "Text(0, 0.5, 'IM')"
      ]
     },
     "execution_count": 59,
     "metadata": {},
     "output_type": "execute_result"
    },
    {
     "data": {
      "image/png": "[encoded data removed]",
      "text/plain": [
       "<Figure size 432x288 with 2 Axes>"
      ]
     },
     "metadata": {
      "needs_background": "light"
     },
     "output_type": "display_data"
    }
   ],
   "source": [
    "plt.imshow(p_fl_st_ln, cmap='rainbow', interpolation='nearest', vmin=0.1, vmax=0.45)\n",
    "cbar = plt.colorbar()\n",
    "#cbar.set_clim(vmin=0.1, vmax=0.45)\n",
    "plt.xlabel('Nino3')\n",
    "plt.ylabel('IM')"
   ]
  },
  {
   "cell_type": "code",
   "execution_count": 60,
   "metadata": {},
   "outputs": [
    {
     "data": {
      "text/plain": [
       "Text(0, 0.5, 'IM')"
      ]
     },
     "execution_count": 60,
     "metadata": {},
     "output_type": "execute_result"
    },
    {
     "data": {
      "image/png": "[encoded data removed]",
      "text/plain": [
       "<Figure size 432x288 with 2 Axes>"
      ]
     },
     "metadata": {
      "needs_background": "light"
     },
     "output_type": "display_data"
    }
   ],
   "source": [
    "plt.imshow(p_fl_st_ln_and_volc, cmap='rainbow', interpolation='nearest', vmin=0.1, vmax=0.45)\n",
    "cbar = plt.colorbar()\n",
    "#cbar.set_clim(vmin=0.1, vmax=0.45)\n",
    "plt.xlabel('Nino3')\n",
    "plt.ylabel('IM')"
   ]
  },
  {
   "cell_type": "code",
   "execution_count": 69,
   "metadata": {},
   "outputs": [
    {
     "name": "stdout",
     "output_type": "stream",
     "text": [
      "0.30548879107285154\n",
      "0.3385692268258057\n"
     ]
    }
   ],
   "source": [
    "print(np.mean(p_dr_st_en))\n",
    "print(np.mean(p_dr_st_en_and_volc))"
   ]
  },
  {
   "cell_type": "code",
   "execution_count": null,
   "metadata": {},
   "outputs": [],
   "source": []
  }
 ],
 "metadata": {
  "kernelspec": {
   "display_name": "Python 3",
   "language": "python",
   "name": "python3"
  },
  "language_info": {
   "codemirror_mode": {
    "name": "ipython",
    "version": 3
   },
   "file_extension": ".py",
   "mimetype": "text/x-python",
   "name": "python",
   "nbconvert_exporter": "python",
   "pygments_lexer": "ipython3",
   "version": "3.5.6"
  }
 },
 "nbformat": 4,
 "nbformat_minor": 2
}
