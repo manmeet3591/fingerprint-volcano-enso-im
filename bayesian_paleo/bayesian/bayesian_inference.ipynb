{
 "cells": [
  {
   "cell_type": "code",
   "execution_count": 1,
   "metadata": {},
   "outputs": [],
   "source": [
    "import matplotlib.pyplot as plt\n",
    "import numpy as np"
   ]
  },
  {
   "cell_type": "code",
   "execution_count": 58,
   "metadata": {},
   "outputs": [],
   "source": [
    "dnino3_jjas = np.genfromtxt('tas_Amon_IPSL-CM5A-LR_past1000_r1i1p1_0865_1835_anom_nino3_jjas_ymean.csv', delimiter=\",\")\n",
    "dnino3_djf = np.genfromtxt('tas_Amon_IPSL-CM5A-LR_past1000_r1i1p1_0865_1835_anom_nino3_djf_ymean.csv', delimiter=\",\")[:971]\n",
    "dnino3 = np.genfromtxt('tas_Amon_IPSL-CM5A-LR_past1000_r1i1p1_0865_1835_anom_nino3_ymean.csv', delimiter=\",\")\n",
    "\n",
    "im_jjas = np.genfromtxt('tas_Amon_IPSL-CM5A-LR_past1000_r1i1p1_0865_1835_anom_nino3_jjas_ymean.csv', delimiter=\",\")\n",
    "\n",
    "\n",
    "dim_dandak_2010 = np.genfromtxt('ismr_dandak_2010_anom_yy.txt', delimiter=\",\")\n",
    "im_dandak = dim_dandak_2010[:,2]\n",
    "yy_dandak = dim_dandak_2010[:,0]\n",
    "\n",
    "dim_jhumar_2011 = np.genfromtxt('ismr_jhumar_ann_yy.txt', delimiter=\",\")\n",
    "im_jhumar = dim_jhumar_2011[:,2]\n",
    "yy_jhumar = dim_jhumar_2011[:,0]\n",
    "\n",
    "dim_cook_2010 = np.genfromtxt('ismr_cook_anom_yy.txt', delimiter=\",\")\n",
    "im_cook = dim_cook_2010[:,2]\n",
    "yy_cook = dim_cook_2010[:,0]\n",
    "\n",
    "dim_sinha_2011 = np.genfromtxt('ismr_sinha_2011_anom_yy.txt', delimiter=\",\")\n",
    "im_sinha_2011 = dim_sinha_2011[:,2]\n",
    "yy_sinha_2011 = dim_sinha_2011[:,0]\n",
    "\n",
    "dim_sinha_2015 = np.genfromtxt('ismr_sinha_2015_anom_yy.txt', delimiter=\",\")\n",
    "im_sinha_2015 = dim_sinha_2015[:,2]\n",
    "yy_sinha_2015 = dim_sinha_2015[:,0]\n",
    "\n",
    "dnino3_li_2011 = np.genfromtxt('nino3_li_2011_anom_yy.txt', delimiter=\",\")\n",
    "nino3_li_2011 = dnino3_li_2011[:,2]\n",
    "yy_li_2011 = dnino3_li_2011[:,0]\n",
    "\n",
    "dnino3_li_2013 = np.genfromtxt('nino3_li_2013_anom_yy.txt', delimiter=\",\")\n",
    "nino3_li_2013 = dnino3_li_2013[:,2]\n",
    "yy_li_2013 = dnino3_li_2013[:,0]\n",
    "\n",
    "dnino3_mann_2009 = np.genfromtxt('nino3_mann_2009_anom_yy.txt', delimiter=\",\")\n",
    "nino3_mann_2009 = dnino3_mann_2009[:,2]\n",
    "yy_mann_2009 = dnino3_mann_2009[:,0]\n",
    "\n",
    "dnino3_moy_2002 = np.genfromtxt('nino3_moy_2002_anom_yy.txt', delimiter=\",\")\n",
    "nino3_moy_2002 = dnino3_moy_2002[:,2]\n",
    "yy_moy_2002 = dnino3_moy_2002[:,0]\n",
    "\n",
    "yy_model = np.arange(865,1836)\n",
    "dstrong1 = np.genfromtxt('strong1.txt', delimiter=\",\")\n",
    "\n",
    "volc_model = np.zeros((yy_model.shape[0]))\n",
    "for i in range(yy_model.shape[0]):\n",
    "    if yy_model[i] in dstrong1:\n",
    "        volc_model[i] = 1.0\n",
    "\n",
    "volc_dandak = np.zeros((yy_dandak.shape[0]))\n",
    "for i in range(yy_dandak.shape[0]):\n",
    "    if yy_dandak[i] in dstrong1:\n",
    "        volc_dandak[i] = 1.0\n",
    "\n",
    "volc_jhumar = np.zeros((yy_jhumar.shape[0]))\n",
    "for i in range(yy_jhumar.shape[0]):\n",
    "    if yy_jhumar[i] in dstrong1:\n",
    "        volc_jhumar[i] = 1.0\n",
    "\n",
    "volc_cook = np.zeros((yy_cook.shape[0]))\n",
    "for i in range(yy_cook.shape[0]):\n",
    "    if yy_cook[i] in dstrong1:\n",
    "        volc_cook[i] = 1.0\n",
    "\n",
    "volc_sinha_2011 = np.zeros((yy_sinha_2011.shape[0]))\n",
    "for i in range(yy_sinha_2011.shape[0]):\n",
    "    if yy_sinha_2011[i] in dstrong1:\n",
    "        volc_sinha_2011[i] = 1.0\n",
    "\n",
    "volc_sinha_2015 = np.zeros((yy_sinha_2015.shape[0]))\n",
    "for i in range(yy_sinha_2015.shape[0]):\n",
    "    if yy_sinha_2015[i] in dstrong1:\n",
    "        volc_sinha_2015[i] = 1.0\n",
    "\n",
    "volc_li_2011 = np.zeros((yy_li_2011.shape[0]))\n",
    "for i in range(yy_li_2011.shape[0]):\n",
    "    if yy_li_2011[i] in dstrong1:\n",
    "        volc_li_2011[i] = 1.0\n",
    "\n",
    "volc_li_2013 = np.zeros((yy_li_2013.shape[0]))\n",
    "for i in range(yy_li_2013.shape[0]):\n",
    "    if yy_li_2013[i] in dstrong1:\n",
    "        volc_li_2013[i] = 1.0\n",
    "\n",
    "volc_mann_2009 = np.zeros((yy_mann_2009.shape[0]))\n",
    "for i in range(yy_mann_2009.shape[0]):\n",
    "    if yy_mann_2009[i] in dstrong1:\n",
    "        volc_mann_2009[i] = 1.0\n",
    "\n",
    "volc_moy_2002 = np.zeros((yy_moy_2002.shape[0]))\n",
    "for i in range(yy_moy_2002.shape[0]):\n",
    "    if yy_moy_2002[i] in dstrong1:\n",
    "        volc_moy_2002[i] = 1.0\n",
    "\n",
    "pr_dr = 0.0\n",
    "prob_dr_en = 0.0\n",
    "prob_dr_en_volc = 0.0\n",
    "\n"
   ]
  },
  {
   "cell_type": "code",
   "execution_count": 59,
   "metadata": {},
   "outputs": [],
   "source": [
    "en_cnt = 0.0\n",
    "dr_cnt = 0.0\n",
    "en_st_d_cnt = 0.0\n",
    "\n",
    "for i in range(yy_model.shape[0]):\n",
    "    # Probability of El Nino\n",
    "    if dnino3_jjas[i]>np.std(dnino3_jjas) :\n",
    "        en_cnt = en_cnt + 1\n",
    "    # Probability of Drought\n",
    "    if im_jjas[i]<-np.std(im_jjas):\n",
    "        dr_cnt = dr_cnt + 1\n",
    "# Converting count to probability\n",
    "en_cnt = en_cnt/yy_model.shape[0]\n",
    "dr_cnt = dr_cnt/yy_model.shape[0]\n",
    "\n",
    "# Known that a drought has occured was there an el nino before it P(EN/D)\n",
    "for i in range(yy_model.shape[0]-1):\n",
    "    if dnino3_jjas[i]>np.std(dnino3_jjas) and im_jjas[i+1]<-np.std(im_jjas):\n",
    "        en_st_d_cnt = en_st_d_cnt + 1\n",
    "en_st_d_cnt = en_st_d_cnt/yy_model.shape[0]\n",
    "# Known that an El Nino has occured was it followed by a drought P (D/EN) = (P(EN/D) * P(D))/(P(EN))\n",
    "p_dr_st_en = (en_st_d_cnt * dr_cnt)/(en_cnt)"
   ]
  },
  {
   "cell_type": "code",
   "execution_count": 60,
   "metadata": {},
   "outputs": [],
   "source": [
    "en_and_volc_cnt = 0.0\n",
    "dr_cnt = 0.0\n",
    "en_and_volc_st_d_cnt = 0.0\n",
    "\n",
    "for i in range(yy_model.shape[0]-1):\n",
    "    \n",
    "    if dnino3_jjas[i+1]>np.std(dnino3_jjas) and volc_model[i]==1.0 :\n",
    "        en_and_volc_cnt = en_and_volc_cnt + 1\n",
    "\n",
    "en_and_volc_cnt = en_and_volc_cnt / yy_model.shape[0]\n",
    "\n",
    "for i in range(yy_model.shape[0]):\n",
    "    if im_jjas[i]<-np.std(im_jjas):\n",
    "        dr_cnt = dr_cnt + 1\n",
    "\n",
    "dr_cnt = dr_cnt / yy_model.shape[0]\n",
    "\n",
    "for i in range(yy_model.shape[0]-1):\n",
    "    if dnino3_jjas[i+1]>np.std(dnino3_jjas) and volc_model[i]==1.0 and im_jjas[i+1]<-np.std(im_jjas):\n",
    "        en_and_volc_st_d_cnt = en_and_volc_st_d_cnt + 1\n",
    "\n",
    "en_and_volc_st_d_cnt = en_and_volc_st_d_cnt / yy_model.shape[0]\n",
    "\n",
    "p_dr_st_en_and_volc = (en_st_d_cnt * dr_cnt)/(en_cnt * yy_model.shape[0])"
   ]
  },
  {
   "cell_type": "code",
   "execution_count": 61,
   "metadata": {},
   "outputs": [],
   "source": [
    "# P(EN and D)\n",
    "# P(EN and D/Volcano)"
   ]
  },
  {
   "cell_type": "code",
   "execution_count": 119,
   "metadata": {},
   "outputs": [],
   "source": [
    "en_log = np.zeros((yy_model.shape[0]))\n",
    "ln_log = np.zeros((yy_model.shape[0]))\n",
    "dr_log = np.zeros((yy_model.shape[0]))\n",
    "fl_log = np.zeros((yy_model.shape[0]))\n",
    "volc_log = np.zeros((yy_model.shape[0]))\n",
    "\n",
    "en_dr_log = np.zeros((yy_model.shape[0]))\n",
    "ln_fl_log = np.zeros((yy_model.shape[0]))\n",
    "\n",
    "en_log[dnino3_djf>0.5*np.std(dnino3_djf)] = 1.0\n",
    "ln_log[dnino3_djf<-0.5*np.std(dnino3_djf)] = 1.0\n",
    "dr_log[im_jjas<-0.5*np.std(im_jjas)] = 1.0\n",
    "fl_log[im_jjas>0.5*np.std(im_jjas)] = 1.0\n",
    "\n",
    "# Volcanic series 1 0 1 0\n",
    "# EN Series       0 1 0 1\n",
    "# So in the volcanic series element[i+1] = element[i]\n",
    "for i in range(yy_model.shape[0]-1):\n",
    "    volc_log[i+1] = volc_model[i]\n"
   ]
  },
  {
   "cell_type": "code",
   "execution_count": 120,
   "metadata": {},
   "outputs": [
    {
     "data": {
      "text/plain": [
       "0.19649122807017544"
      ]
     },
     "execution_count": 120,
     "metadata": {},
     "output_type": "execute_result"
    }
   ],
   "source": [
    "# Probability that drought happened with an El Nino\n",
    "np.sum(dr_log*en_log)/np.sum(en_log)"
   ]
  },
  {
   "cell_type": "code",
   "execution_count": 121,
   "metadata": {},
   "outputs": [
    {
     "data": {
      "text/plain": [
       "0.10175438596491228"
      ]
     },
     "execution_count": 121,
     "metadata": {},
     "output_type": "execute_result"
    }
   ],
   "source": [
    "# Probability that flood happened with La Nina\n",
    "np.sum(ln_log*fl_log)/np.sum(ln_log)"
   ]
  },
  {
   "cell_type": "code",
   "execution_count": 122,
   "metadata": {},
   "outputs": [
    {
     "data": {
      "text/plain": [
       "0.21739130434782608"
      ]
     },
     "execution_count": 122,
     "metadata": {},
     "output_type": "execute_result"
    }
   ],
   "source": [
    "# Probability that drought happened with El Nino such that a volcano occured in the previous year\n",
    "np.sum(dr_log*en_log*volc_log)/np.sum(en_log*volc_log)"
   ]
  },
  {
   "cell_type": "code",
   "execution_count": 123,
   "metadata": {},
   "outputs": [
    {
     "data": {
      "text/plain": [
       "0.10526315789473684"
      ]
     },
     "execution_count": 123,
     "metadata": {},
     "output_type": "execute_result"
    }
   ],
   "source": [
    "# Probability that flood happened with La Nina such that a volcano occured in the previous year\n",
    "np.sum(fl_log*ln_log*volc_log)/np.sum(ln_log*volc_log)"
   ]
  },
  {
   "cell_type": "code",
   "execution_count": 124,
   "metadata": {},
   "outputs": [
    {
     "data": {
      "text/plain": [
       "0.14912280701754385"
      ]
     },
     "execution_count": 124,
     "metadata": {},
     "output_type": "execute_result"
    }
   ],
   "source": [
    "# Probability that coupling would happen\n",
    "(np.sum(dr_log*en_log)+np.sum(ln_log*fl_log))/(np.sum(en_log)+np.sum(ln_log))"
   ]
  },
  {
   "cell_type": "code",
   "execution_count": 125,
   "metadata": {},
   "outputs": [
    {
     "data": {
      "text/plain": [
       "0.16666666666666666"
      ]
     },
     "execution_count": 125,
     "metadata": {},
     "output_type": "execute_result"
    }
   ],
   "source": [
    "# Probability that coupling would happen given that volcano occured in the previous year\n",
    "(np.sum(dr_log*en_log*volc_log)+np.sum(fl_log*ln_log*volc_log))/(np.sum(en_log*volc_log)+np.sum(ln_log*volc_log))"
   ]
  },
  {
   "cell_type": "code",
   "execution_count": null,
   "metadata": {},
   "outputs": [],
   "source": []
  }
 ],
 "metadata": {
  "kernelspec": {
   "display_name": "Python 3",
   "language": "python",
   "name": "python3"
  },
  "language_info": {
   "codemirror_mode": {
    "name": "ipython",
    "version": 3
   },
   "file_extension": ".py",
   "mimetype": "text/x-python",
   "name": "python",
   "nbconvert_exporter": "python",
   "pygments_lexer": "ipython3",
   "version": "3.5.6"
  }
 },
 "nbformat": 4,
 "nbformat_minor": 2
}
