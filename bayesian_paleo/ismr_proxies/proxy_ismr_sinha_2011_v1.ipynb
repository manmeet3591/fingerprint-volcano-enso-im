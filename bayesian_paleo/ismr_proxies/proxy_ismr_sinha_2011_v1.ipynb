{
 "cells": [
  {
   "cell_type": "code",
   "execution_count": 1,
   "metadata": {},
   "outputs": [],
   "source": [
    "import numpy as np\n",
    "import matplotlib.pyplot as plt\n",
    "import random\n",
    "import warnings\n",
    "from scipy import stats\n",
    "import datetime as dt\n",
    "import scipy.interpolate as interpolate\n",
    "from mySSA import mySSA"
   ]
  },
  {
   "cell_type": "code",
   "execution_count": 2,
   "metadata": {},
   "outputs": [],
   "source": [
    "volc = np.genfromtxt('nature14565-s6_sigl2015.csv', delimiter=\",\", dtype=float)\n",
    "data_sinha_2011 = np.genfromtxt('jhumar-wah-shikar2011_v1.txt', delimiter=\",\", dtype=float) # ismr reconstruction"
   ]
  },
  {
   "cell_type": "code",
   "execution_count": null,
   "metadata": {},
   "outputs": [],
   "source": []
  }
 ],
 "metadata": {
  "kernelspec": {
   "display_name": "Python 3",
   "language": "python",
   "name": "python3"
  },
  "language_info": {
   "codemirror_mode": {
    "name": "ipython",
    "version": 3
   },
   "file_extension": ".py",
   "mimetype": "text/x-python",
   "name": "python",
   "nbconvert_exporter": "python",
   "pygments_lexer": "ipython3",
   "version": "3.5.6"
  }
 },
 "nbformat": 4,
 "nbformat_minor": 2
}
